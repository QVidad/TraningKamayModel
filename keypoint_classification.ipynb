{
 "cells": [
  {
   "cell_type": "code",
   "execution_count": 1,
   "metadata": {
    "id": "igMyGnjE9hEp"
   },
   "outputs": [],
   "source": [
    "import csv\n",
    "\n",
    "import numpy as np\n",
    "import tensorflow as tf\n",
    "from sklearn.model_selection import train_test_split"
   ]
  },
  {
   "cell_type": "markdown",
   "metadata": {
    "id": "t2HDvhIu9hEr"
   },
   "source": [
    "# 1. Specify Pathfile"
   ]
  },
  {
   "cell_type": "code",
   "execution_count": 2,
   "metadata": {
    "id": "9NvZP2Zn9hEy"
   },
   "outputs": [],
   "source": [
    "dataset = 'model/keypoint_classifier/keypoint.csv'\n",
    "model_save_path = 'model/keypoint_classifier/keypoint_classifier.hdf5'\n",
    "tflite_save_path = 'model/keypoint_classifier/keypoint_classifier.tflite'"
   ]
  },
  {
   "cell_type": "markdown",
   "metadata": {
    "id": "s5oMH7x19hEz"
   },
   "source": [
    "# 2. Specify Number of Classes"
   ]
  },
  {
   "cell_type": "code",
   "execution_count": 3,
   "metadata": {
    "id": "du4kodXL9hEz"
   },
   "outputs": [],
   "source": [
    "NUM_CLASSES = 56"
   ]
  },
  {
   "cell_type": "markdown",
   "metadata": {
    "id": "XjnL0uso9hEz"
   },
   "source": [
    "# 3. Reading Dataset"
   ]
  },
  {
   "cell_type": "code",
   "execution_count": 4,
   "metadata": {
    "id": "QT5ZqtEz9hE0"
   },
   "outputs": [],
   "source": [
    "X_dataset = np.loadtxt(dataset, delimiter=',', dtype='float32', usecols=list(range(1, (21 * 2)+1)))"
   ]
  },
  {
   "cell_type": "code",
   "execution_count": 5,
   "metadata": {
    "id": "QmoKFsp49hE0"
   },
   "outputs": [],
   "source": [
    "y_dataset = np.loadtxt(dataset, delimiter=',', dtype='int32', usecols=(0))"
   ]
  },
  {
   "cell_type": "code",
   "execution_count": 6,
   "metadata": {
    "id": "xQU7JTZ_9hE0"
   },
   "outputs": [],
   "source": [
    "X_train, X_test, y_train, y_test = train_test_split(X_dataset, y_dataset, train_size=0.75, random_state=42)"
   ]
  },
  {
   "cell_type": "markdown",
   "metadata": {
    "id": "mxK_lETT9hE0"
   },
   "source": [
    "# 4. Training Model"
   ]
  },
  {
   "cell_type": "code",
   "execution_count": 7,
   "metadata": {
    "id": "vHBmUf1t9hE1"
   },
   "outputs": [],
   "source": [
    "model = tf.keras.models.Sequential([\n",
    "    tf.keras.layers.Input((21 * 2, )),\n",
    "    tf.keras.layers.Dropout(0.2),\n",
    "    tf.keras.layers.Dense(256, activation='relu'),\n",
    "    tf.keras.layers.Dropout(0.4),\n",
    "    tf.keras.layers.Dense(128, activation='relu'),\n",
    "    tf.keras.layers.Dense(NUM_CLASSES, activation='softmax')\n",
    "])"
   ]
  },
  {
   "cell_type": "code",
   "execution_count": 8,
   "metadata": {
    "colab": {
     "base_uri": "https://localhost:8080/"
    },
    "id": "ypqky9tc9hE1",
    "outputId": "5db082bb-30e3-4110-bf63-a1ee777ecd46"
   },
   "outputs": [
    {
     "name": "stdout",
     "output_type": "stream",
     "text": [
      "Model: \"sequential\"\n",
      "_________________________________________________________________\n",
      " Layer (type)                Output Shape              Param #   \n",
      "=================================================================\n",
      " dropout (Dropout)           (None, 42)                0         \n",
      "                                                                 \n",
      " dense (Dense)               (None, 256)               11008     \n",
      "                                                                 \n",
      " dropout_1 (Dropout)         (None, 256)               0         \n",
      "                                                                 \n",
      " dense_1 (Dense)             (None, 128)               32896     \n",
      "                                                                 \n",
      " dense_2 (Dense)             (None, 56)                7224      \n",
      "                                                                 \n",
      "=================================================================\n",
      "Total params: 51,128\n",
      "Trainable params: 51,128\n",
      "Non-trainable params: 0\n",
      "_________________________________________________________________\n"
     ]
    }
   ],
   "source": [
    "model.summary()  # tf.keras.utils.plot_model(model, show_shapes=True)"
   ]
  },
  {
   "cell_type": "code",
   "execution_count": 9,
   "metadata": {
    "id": "MbMjOflQ9hE1"
   },
   "outputs": [],
   "source": [
    "# Model checkpoint callback\n",
    "cp_callback = tf.keras.callbacks.ModelCheckpoint(\n",
    "    model_save_path, verbose=1, save_weights_only=False)\n",
    "# Callback for early stopping\n",
    "es_callback = tf.keras.callbacks.EarlyStopping(patience=20, verbose=1)"
   ]
  },
  {
   "cell_type": "code",
   "execution_count": 10,
   "metadata": {
    "id": "c3Dac0M_9hE2"
   },
   "outputs": [],
   "source": [
    "# Model compilation\n",
    "model.compile(\n",
    "    optimizer='adam',\n",
    "    loss='sparse_categorical_crossentropy',\n",
    "    metrics=['accuracy']\n",
    ")"
   ]
  },
  {
   "cell_type": "code",
   "execution_count": 11,
   "metadata": {
    "colab": {
     "base_uri": "https://localhost:8080/"
    },
    "id": "WirBl-JE9hE3",
    "outputId": "71b30ca2-8294-4d9d-8aa2-800d90d399de",
    "scrolled": true
   },
   "outputs": [
    {
     "name": "stdout",
     "output_type": "stream",
     "text": [
      "Epoch 1/1000\n",
      "171/172 [============================>.] - ETA: 0s - loss: 3.3350 - accuracy: 0.1382\n",
      "Epoch 1: saving model to model/keypoint_classifier/keypoint_classifier.hdf5\n",
      "172/172 [==============================] - 2s 8ms/step - loss: 3.3337 - accuracy: 0.1381 - val_loss: 2.5630 - val_accuracy: 0.2920\n",
      "Epoch 2/1000\n",
      "172/172 [==============================] - ETA: 0s - loss: 2.3811 - accuracy: 0.2930\n",
      "Epoch 2: saving model to model/keypoint_classifier/keypoint_classifier.hdf5\n",
      "172/172 [==============================] - 1s 5ms/step - loss: 2.3811 - accuracy: 0.2930 - val_loss: 1.7535 - val_accuracy: 0.5251\n",
      "Epoch 3/1000\n",
      "171/172 [============================>.] - ETA: 0s - loss: 1.9204 - accuracy: 0.3887\n",
      "Epoch 3: saving model to model/keypoint_classifier/keypoint_classifier.hdf5\n",
      "172/172 [==============================] - 1s 7ms/step - loss: 1.9189 - accuracy: 0.3887 - val_loss: 1.3695 - val_accuracy: 0.5912\n",
      "Epoch 4/1000\n",
      "162/172 [===========================>..] - ETA: 0s - loss: 1.7293 - accuracy: 0.4315\n",
      "Epoch 4: saving model to model/keypoint_classifier/keypoint_classifier.hdf5\n",
      "172/172 [==============================] - 1s 6ms/step - loss: 1.7284 - accuracy: 0.4320 - val_loss: 1.1040 - val_accuracy: 0.6441\n",
      "Epoch 5/1000\n",
      "163/172 [===========================>..] - ETA: 0s - loss: 1.5406 - accuracy: 0.4919\n",
      "Epoch 5: saving model to model/keypoint_classifier/keypoint_classifier.hdf5\n",
      "172/172 [==============================] - 1s 6ms/step - loss: 1.5442 - accuracy: 0.4915 - val_loss: 1.0240 - val_accuracy: 0.6687\n",
      "Epoch 6/1000\n",
      "160/172 [==========================>...] - ETA: 0s - loss: 1.4543 - accuracy: 0.5090\n",
      "Epoch 6: saving model to model/keypoint_classifier/keypoint_classifier.hdf5\n",
      "172/172 [==============================] - 1s 5ms/step - loss: 1.4500 - accuracy: 0.5096 - val_loss: 0.8710 - val_accuracy: 0.7789\n",
      "Epoch 7/1000\n",
      "163/172 [===========================>..] - ETA: 0s - loss: 1.3462 - accuracy: 0.5378\n",
      "Epoch 7: saving model to model/keypoint_classifier/keypoint_classifier.hdf5\n",
      "172/172 [==============================] - 1s 5ms/step - loss: 1.3441 - accuracy: 0.5396 - val_loss: 0.8178 - val_accuracy: 0.7495\n",
      "Epoch 8/1000\n",
      "172/172 [==============================] - ETA: 0s - loss: 1.3057 - accuracy: 0.5489\n",
      "Epoch 8: saving model to model/keypoint_classifier/keypoint_classifier.hdf5\n",
      "172/172 [==============================] - 1s 6ms/step - loss: 1.3057 - accuracy: 0.5489 - val_loss: 0.7578 - val_accuracy: 0.7991\n",
      "Epoch 9/1000\n",
      "163/172 [===========================>..] - ETA: 0s - loss: 1.2659 - accuracy: 0.5512\n",
      "Epoch 9: saving model to model/keypoint_classifier/keypoint_classifier.hdf5\n",
      "172/172 [==============================] - 1s 6ms/step - loss: 1.2646 - accuracy: 0.5516 - val_loss: 0.7232 - val_accuracy: 0.7762\n",
      "Epoch 10/1000\n",
      "164/172 [===========================>..] - ETA: 0s - loss: 1.2024 - accuracy: 0.5781\n",
      "Epoch 10: saving model to model/keypoint_classifier/keypoint_classifier.hdf5\n",
      "172/172 [==============================] - 1s 5ms/step - loss: 1.2031 - accuracy: 0.5789 - val_loss: 0.6854 - val_accuracy: 0.7964\n",
      "Epoch 11/1000\n",
      "160/172 [==========================>...] - ETA: 0s - loss: 1.1430 - accuracy: 0.5893\n",
      "Epoch 11: saving model to model/keypoint_classifier/keypoint_classifier.hdf5\n",
      "172/172 [==============================] - 1s 5ms/step - loss: 1.1467 - accuracy: 0.5891 - val_loss: 0.6635 - val_accuracy: 0.7975\n",
      "Epoch 12/1000\n",
      "162/172 [===========================>..] - ETA: 0s - loss: 1.1381 - accuracy: 0.5945\n",
      "Epoch 12: saving model to model/keypoint_classifier/keypoint_classifier.hdf5\n",
      "172/172 [==============================] - 1s 5ms/step - loss: 1.1432 - accuracy: 0.5953 - val_loss: 0.6455 - val_accuracy: 0.8390\n",
      "Epoch 13/1000\n",
      "168/172 [============================>.] - ETA: 0s - loss: 1.0824 - accuracy: 0.6185\n",
      "Epoch 13: saving model to model/keypoint_classifier/keypoint_classifier.hdf5\n",
      "172/172 [==============================] - 1s 5ms/step - loss: 1.0814 - accuracy: 0.6193 - val_loss: 0.6356 - val_accuracy: 0.8062\n",
      "Epoch 14/1000\n",
      "170/172 [============================>.] - ETA: 0s - loss: 1.0697 - accuracy: 0.6244\n",
      "Epoch 14: saving model to model/keypoint_classifier/keypoint_classifier.hdf5\n",
      "172/172 [==============================] - 1s 5ms/step - loss: 1.0701 - accuracy: 0.6240 - val_loss: 0.5628 - val_accuracy: 0.8428\n",
      "Epoch 15/1000\n",
      "169/172 [============================>.] - ETA: 0s - loss: 1.0157 - accuracy: 0.6459\n",
      "Epoch 15: saving model to model/keypoint_classifier/keypoint_classifier.hdf5\n",
      "172/172 [==============================] - 1s 5ms/step - loss: 1.0134 - accuracy: 0.6460 - val_loss: 0.5602 - val_accuracy: 0.8341\n",
      "Epoch 16/1000\n",
      "171/172 [============================>.] - ETA: 0s - loss: 1.0076 - accuracy: 0.6433\n",
      "Epoch 16: saving model to model/keypoint_classifier/keypoint_classifier.hdf5\n",
      "172/172 [==============================] - 1s 6ms/step - loss: 1.0095 - accuracy: 0.6429 - val_loss: 0.5643 - val_accuracy: 0.8499\n",
      "Epoch 17/1000\n",
      "160/172 [==========================>...] - ETA: 0s - loss: 0.9571 - accuracy: 0.6582\n",
      "Epoch 17: saving model to model/keypoint_classifier/keypoint_classifier.hdf5\n",
      "172/172 [==============================] - 1s 6ms/step - loss: 0.9491 - accuracy: 0.6604 - val_loss: 0.5315 - val_accuracy: 0.8504\n",
      "Epoch 18/1000\n",
      "170/172 [============================>.] - ETA: 0s - loss: 0.9379 - accuracy: 0.6686\n",
      "Epoch 18: saving model to model/keypoint_classifier/keypoint_classifier.hdf5\n",
      "172/172 [==============================] - 1s 6ms/step - loss: 0.9406 - accuracy: 0.6682 - val_loss: 0.5001 - val_accuracy: 0.8564\n",
      "Epoch 19/1000\n",
      "168/172 [============================>.] - ETA: 0s - loss: 0.9175 - accuracy: 0.6830\n",
      "Epoch 19: saving model to model/keypoint_classifier/keypoint_classifier.hdf5\n",
      "172/172 [==============================] - 1s 6ms/step - loss: 0.9178 - accuracy: 0.6824 - val_loss: 0.5256 - val_accuracy: 0.8472\n",
      "Epoch 20/1000\n",
      "170/172 [============================>.] - ETA: 0s - loss: 0.8725 - accuracy: 0.6881\n",
      "Epoch 20: saving model to model/keypoint_classifier/keypoint_classifier.hdf5\n",
      "172/172 [==============================] - 1s 6ms/step - loss: 0.8711 - accuracy: 0.6884 - val_loss: 0.4839 - val_accuracy: 0.8597\n",
      "Epoch 21/1000\n",
      "163/172 [===========================>..] - ETA: 0s - loss: 0.8539 - accuracy: 0.6856\n",
      "Epoch 21: saving model to model/keypoint_classifier/keypoint_classifier.hdf5\n",
      "172/172 [==============================] - 1s 5ms/step - loss: 0.8554 - accuracy: 0.6854 - val_loss: 0.4648 - val_accuracy: 0.8548\n",
      "Epoch 22/1000\n",
      "171/172 [============================>.] - ETA: 0s - loss: 0.8302 - accuracy: 0.6948\n",
      "Epoch 22: saving model to model/keypoint_classifier/keypoint_classifier.hdf5\n",
      "172/172 [==============================] - 1s 5ms/step - loss: 0.8306 - accuracy: 0.6946 - val_loss: 0.5049 - val_accuracy: 0.8455\n",
      "Epoch 23/1000\n",
      "167/172 [============================>.] - ETA: 0s - loss: 0.8375 - accuracy: 0.6916\n",
      "Epoch 23: saving model to model/keypoint_classifier/keypoint_classifier.hdf5\n",
      "172/172 [==============================] - 1s 4ms/step - loss: 0.8391 - accuracy: 0.6912 - val_loss: 0.4835 - val_accuracy: 0.8777\n",
      "Epoch 24/1000\n",
      "164/172 [===========================>..] - ETA: 0s - loss: 0.7987 - accuracy: 0.7161\n",
      "Epoch 24: saving model to model/keypoint_classifier/keypoint_classifier.hdf5\n",
      "172/172 [==============================] - 1s 5ms/step - loss: 0.8018 - accuracy: 0.7156 - val_loss: 0.4454 - val_accuracy: 0.8750\n",
      "Epoch 25/1000\n",
      "168/172 [============================>.] - ETA: 0s - loss: 0.8044 - accuracy: 0.7139\n",
      "Epoch 25: saving model to model/keypoint_classifier/keypoint_classifier.hdf5\n",
      "172/172 [==============================] - 1s 7ms/step - loss: 0.8051 - accuracy: 0.7139 - val_loss: 0.4334 - val_accuracy: 0.8766\n",
      "Epoch 26/1000\n",
      "168/172 [============================>.] - ETA: 0s - loss: 0.7893 - accuracy: 0.7180\n",
      "Epoch 26: saving model to model/keypoint_classifier/keypoint_classifier.hdf5\n",
      "172/172 [==============================] - 1s 6ms/step - loss: 0.7912 - accuracy: 0.7170 - val_loss: 0.4414 - val_accuracy: 0.8919\n",
      "Epoch 27/1000\n",
      "170/172 [============================>.] - ETA: 0s - loss: 0.7598 - accuracy: 0.7202\n",
      "Epoch 27: saving model to model/keypoint_classifier/keypoint_classifier.hdf5\n",
      "172/172 [==============================] - 1s 6ms/step - loss: 0.7593 - accuracy: 0.7201 - val_loss: 0.4269 - val_accuracy: 0.8919\n",
      "Epoch 28/1000\n",
      "170/172 [============================>.] - ETA: 0s - loss: 0.7624 - accuracy: 0.7246\n",
      "Epoch 28: saving model to model/keypoint_classifier/keypoint_classifier.hdf5\n",
      "172/172 [==============================] - 1s 6ms/step - loss: 0.7640 - accuracy: 0.7241 - val_loss: 0.4597 - val_accuracy: 0.8581\n",
      "Epoch 29/1000\n",
      "166/172 [===========================>..] - ETA: 0s - loss: 0.7290 - accuracy: 0.7425\n",
      "Epoch 29: saving model to model/keypoint_classifier/keypoint_classifier.hdf5\n",
      "172/172 [==============================] - 1s 5ms/step - loss: 0.7302 - accuracy: 0.7416 - val_loss: 0.4251 - val_accuracy: 0.8816\n",
      "Epoch 30/1000\n",
      "172/172 [==============================] - ETA: 0s - loss: 0.7059 - accuracy: 0.7447\n",
      "Epoch 30: saving model to model/keypoint_classifier/keypoint_classifier.hdf5\n",
      "172/172 [==============================] - 1s 5ms/step - loss: 0.7059 - accuracy: 0.7447 - val_loss: 0.3846 - val_accuracy: 0.9088\n",
      "Epoch 31/1000\n",
      "169/172 [============================>.] - ETA: 0s - loss: 0.7035 - accuracy: 0.7502\n",
      "Epoch 31: saving model to model/keypoint_classifier/keypoint_classifier.hdf5\n",
      "172/172 [==============================] - 1s 5ms/step - loss: 0.7032 - accuracy: 0.7507 - val_loss: 0.3835 - val_accuracy: 0.8919\n",
      "Epoch 32/1000\n",
      "166/172 [===========================>..] - ETA: 0s - loss: 0.6947 - accuracy: 0.7523\n",
      "Epoch 32: saving model to model/keypoint_classifier/keypoint_classifier.hdf5\n",
      "172/172 [==============================] - 1s 6ms/step - loss: 0.6913 - accuracy: 0.7540 - val_loss: 0.3707 - val_accuracy: 0.9143\n",
      "Epoch 33/1000\n",
      "171/172 [============================>.] - ETA: 0s - loss: 0.6894 - accuracy: 0.7524\n",
      "Epoch 33: saving model to model/keypoint_classifier/keypoint_classifier.hdf5\n",
      "172/172 [==============================] - 1s 5ms/step - loss: 0.6889 - accuracy: 0.7525 - val_loss: 0.4032 - val_accuracy: 0.8668\n",
      "Epoch 34/1000\n",
      "168/172 [============================>.] - ETA: 0s - loss: 0.6558 - accuracy: 0.7669\n",
      "Epoch 34: saving model to model/keypoint_classifier/keypoint_classifier.hdf5\n",
      "172/172 [==============================] - 1s 5ms/step - loss: 0.6578 - accuracy: 0.7654 - val_loss: 0.3731 - val_accuracy: 0.8952\n",
      "Epoch 35/1000\n",
      "163/172 [===========================>..] - ETA: 0s - loss: 0.6701 - accuracy: 0.7529\n",
      "Epoch 35: saving model to model/keypoint_classifier/keypoint_classifier.hdf5\n",
      "172/172 [==============================] - 1s 5ms/step - loss: 0.6669 - accuracy: 0.7540 - val_loss: 0.3671 - val_accuracy: 0.9121\n",
      "Epoch 36/1000\n",
      "160/172 [==========================>...] - ETA: 0s - loss: 0.6205 - accuracy: 0.7795\n",
      "Epoch 36: saving model to model/keypoint_classifier/keypoint_classifier.hdf5\n",
      "172/172 [==============================] - 1s 5ms/step - loss: 0.6256 - accuracy: 0.7773 - val_loss: 0.3962 - val_accuracy: 0.8734\n",
      "Epoch 37/1000\n",
      "168/172 [============================>.] - ETA: 0s - loss: 0.6377 - accuracy: 0.7725\n",
      "Epoch 37: saving model to model/keypoint_classifier/keypoint_classifier.hdf5\n",
      "172/172 [==============================] - 1s 5ms/step - loss: 0.6357 - accuracy: 0.7734 - val_loss: 0.4284 - val_accuracy: 0.8526\n",
      "Epoch 38/1000\n",
      "161/172 [===========================>..] - ETA: 0s - loss: 0.6336 - accuracy: 0.7780\n",
      "Epoch 38: saving model to model/keypoint_classifier/keypoint_classifier.hdf5\n",
      "172/172 [==============================] - 1s 6ms/step - loss: 0.6286 - accuracy: 0.7805 - val_loss: 0.3695 - val_accuracy: 0.9007\n",
      "Epoch 39/1000\n",
      "168/172 [============================>.] - ETA: 0s - loss: 0.5961 - accuracy: 0.7799\n",
      "Epoch 39: saving model to model/keypoint_classifier/keypoint_classifier.hdf5\n",
      "172/172 [==============================] - 1s 5ms/step - loss: 0.5963 - accuracy: 0.7796 - val_loss: 0.3628 - val_accuracy: 0.8919\n",
      "Epoch 40/1000\n",
      "168/172 [============================>.] - ETA: 0s - loss: 0.6033 - accuracy: 0.7788\n",
      "Epoch 40: saving model to model/keypoint_classifier/keypoint_classifier.hdf5\n",
      "172/172 [==============================] - 1s 5ms/step - loss: 0.6017 - accuracy: 0.7800 - val_loss: 0.3919 - val_accuracy: 0.8985\n",
      "Epoch 41/1000\n",
      "161/172 [===========================>..] - ETA: 0s - loss: 0.5994 - accuracy: 0.7910\n",
      "Epoch 41: saving model to model/keypoint_classifier/keypoint_classifier.hdf5\n",
      "172/172 [==============================] - 1s 6ms/step - loss: 0.5962 - accuracy: 0.7927 - val_loss: 0.3319 - val_accuracy: 0.9176\n",
      "Epoch 42/1000\n",
      "172/172 [==============================] - ETA: 0s - loss: 0.5817 - accuracy: 0.7894\n",
      "Epoch 42: saving model to model/keypoint_classifier/keypoint_classifier.hdf5\n",
      "172/172 [==============================] - 1s 5ms/step - loss: 0.5817 - accuracy: 0.7894 - val_loss: 0.3953 - val_accuracy: 0.8783\n",
      "Epoch 43/1000\n",
      "170/172 [============================>.] - ETA: 0s - loss: 0.5840 - accuracy: 0.7892\n",
      "Epoch 43: saving model to model/keypoint_classifier/keypoint_classifier.hdf5\n",
      "172/172 [==============================] - 1s 5ms/step - loss: 0.5845 - accuracy: 0.7889 - val_loss: 0.3660 - val_accuracy: 0.8930\n",
      "Epoch 44/1000\n",
      "167/172 [============================>.] - ETA: 0s - loss: 0.5992 - accuracy: 0.7932\n",
      "Epoch 44: saving model to model/keypoint_classifier/keypoint_classifier.hdf5\n",
      "172/172 [==============================] - 1s 5ms/step - loss: 0.5987 - accuracy: 0.7931 - val_loss: 0.3701 - val_accuracy: 0.8979\n",
      "Epoch 45/1000\n",
      "164/172 [===========================>..] - ETA: 0s - loss: 0.5628 - accuracy: 0.7990\n",
      "Epoch 45: saving model to model/keypoint_classifier/keypoint_classifier.hdf5\n",
      "172/172 [==============================] - 1s 5ms/step - loss: 0.5615 - accuracy: 0.7987 - val_loss: 0.3524 - val_accuracy: 0.8985\n",
      "Epoch 46/1000\n",
      "164/172 [===========================>..] - ETA: 0s - loss: 0.5473 - accuracy: 0.8034\n",
      "Epoch 46: saving model to model/keypoint_classifier/keypoint_classifier.hdf5\n",
      "172/172 [==============================] - 1s 5ms/step - loss: 0.5526 - accuracy: 0.8029 - val_loss: 0.3612 - val_accuracy: 0.8957\n",
      "Epoch 47/1000\n",
      "167/172 [============================>.] - ETA: 0s - loss: 0.5460 - accuracy: 0.8054\n",
      "Epoch 47: saving model to model/keypoint_classifier/keypoint_classifier.hdf5\n",
      "172/172 [==============================] - 1s 5ms/step - loss: 0.5463 - accuracy: 0.8051 - val_loss: 0.3409 - val_accuracy: 0.8925\n",
      "Epoch 48/1000\n",
      "163/172 [===========================>..] - ETA: 0s - loss: 0.5411 - accuracy: 0.8073\n",
      "Epoch 48: saving model to model/keypoint_classifier/keypoint_classifier.hdf5\n",
      "172/172 [==============================] - 1s 5ms/step - loss: 0.5441 - accuracy: 0.8073 - val_loss: 0.3238 - val_accuracy: 0.9138\n",
      "Epoch 49/1000\n",
      "157/172 [==========================>...] - ETA: 0s - loss: 0.5395 - accuracy: 0.8067\n",
      "Epoch 49: saving model to model/keypoint_classifier/keypoint_classifier.hdf5\n",
      "172/172 [==============================] - 1s 4ms/step - loss: 0.5350 - accuracy: 0.8073 - val_loss: 0.3644 - val_accuracy: 0.8957\n",
      "Epoch 50/1000\n",
      "165/172 [===========================>..] - ETA: 0s - loss: 0.5299 - accuracy: 0.8153\n",
      "Epoch 50: saving model to model/keypoint_classifier/keypoint_classifier.hdf5\n",
      "172/172 [==============================] - 1s 5ms/step - loss: 0.5278 - accuracy: 0.8162 - val_loss: 0.3653 - val_accuracy: 0.8957\n",
      "Epoch 51/1000\n",
      "165/172 [===========================>..] - ETA: 0s - loss: 0.5226 - accuracy: 0.8114\n",
      "Epoch 51: saving model to model/keypoint_classifier/keypoint_classifier.hdf5\n",
      "172/172 [==============================] - 1s 5ms/step - loss: 0.5211 - accuracy: 0.8124 - val_loss: 0.3294 - val_accuracy: 0.9099\n",
      "Epoch 52/1000\n",
      "163/172 [===========================>..] - ETA: 0s - loss: 0.5144 - accuracy: 0.8123\n",
      "Epoch 52: saving model to model/keypoint_classifier/keypoint_classifier.hdf5\n",
      "172/172 [==============================] - 1s 6ms/step - loss: 0.5133 - accuracy: 0.8127 - val_loss: 0.3571 - val_accuracy: 0.8865\n",
      "Epoch 53/1000\n",
      "169/172 [============================>.] - ETA: 0s - loss: 0.5083 - accuracy: 0.8145\n",
      "Epoch 53: saving model to model/keypoint_classifier/keypoint_classifier.hdf5\n",
      "172/172 [==============================] - 1s 6ms/step - loss: 0.5075 - accuracy: 0.8151 - val_loss: 0.3235 - val_accuracy: 0.9192\n",
      "Epoch 54/1000\n",
      "155/172 [==========================>...] - ETA: 0s - loss: 0.5037 - accuracy: 0.8143\n",
      "Epoch 54: saving model to model/keypoint_classifier/keypoint_classifier.hdf5\n",
      "172/172 [==============================] - 1s 5ms/step - loss: 0.5003 - accuracy: 0.8151 - val_loss: 0.3021 - val_accuracy: 0.9209\n",
      "Epoch 55/1000\n",
      "165/172 [===========================>..] - ETA: 0s - loss: 0.5099 - accuracy: 0.8148\n",
      "Epoch 55: saving model to model/keypoint_classifier/keypoint_classifier.hdf5\n",
      "172/172 [==============================] - 1s 4ms/step - loss: 0.5116 - accuracy: 0.8142 - val_loss: 0.3261 - val_accuracy: 0.9279\n",
      "Epoch 56/1000\n",
      "169/172 [============================>.] - ETA: 0s - loss: 0.4856 - accuracy: 0.8223\n",
      "Epoch 56: saving model to model/keypoint_classifier/keypoint_classifier.hdf5\n",
      "172/172 [==============================] - 1s 5ms/step - loss: 0.4865 - accuracy: 0.8209 - val_loss: 0.4019 - val_accuracy: 0.8592\n",
      "Epoch 57/1000\n",
      "169/172 [============================>.] - ETA: 0s - loss: 0.5036 - accuracy: 0.8212\n",
      "Epoch 57: saving model to model/keypoint_classifier/keypoint_classifier.hdf5\n",
      "172/172 [==============================] - 1s 4ms/step - loss: 0.5004 - accuracy: 0.8227 - val_loss: 0.2995 - val_accuracy: 0.9143\n",
      "Epoch 58/1000\n",
      "157/172 [==========================>...] - ETA: 0s - loss: 0.4699 - accuracy: 0.8340\n",
      "Epoch 58: saving model to model/keypoint_classifier/keypoint_classifier.hdf5\n",
      "172/172 [==============================] - 1s 4ms/step - loss: 0.4727 - accuracy: 0.8326 - val_loss: 0.3646 - val_accuracy: 0.8826\n",
      "Epoch 59/1000\n",
      "168/172 [============================>.] - ETA: 0s - loss: 0.4530 - accuracy: 0.8398\n",
      "Epoch 59: saving model to model/keypoint_classifier/keypoint_classifier.hdf5\n",
      "172/172 [==============================] - 1s 4ms/step - loss: 0.4522 - accuracy: 0.8406 - val_loss: 0.2899 - val_accuracy: 0.9176\n",
      "Epoch 60/1000\n",
      "156/172 [==========================>...] - ETA: 0s - loss: 0.4523 - accuracy: 0.8387\n",
      "Epoch 60: saving model to model/keypoint_classifier/keypoint_classifier.hdf5\n",
      "172/172 [==============================] - 1s 3ms/step - loss: 0.4585 - accuracy: 0.8364 - val_loss: 0.3389 - val_accuracy: 0.9017\n",
      "Epoch 61/1000\n",
      "170/172 [============================>.] - ETA: 0s - loss: 0.4552 - accuracy: 0.8355\n",
      "Epoch 61: saving model to model/keypoint_classifier/keypoint_classifier.hdf5\n",
      "172/172 [==============================] - 1s 4ms/step - loss: 0.4561 - accuracy: 0.8349 - val_loss: 0.2948 - val_accuracy: 0.9203\n",
      "Epoch 62/1000\n",
      "157/172 [==========================>...] - ETA: 0s - loss: 0.4595 - accuracy: 0.8330\n",
      "Epoch 62: saving model to model/keypoint_classifier/keypoint_classifier.hdf5\n",
      "172/172 [==============================] - 1s 4ms/step - loss: 0.4602 - accuracy: 0.8320 - val_loss: 0.2959 - val_accuracy: 0.9279\n",
      "Epoch 63/1000\n",
      "166/172 [===========================>..] - ETA: 0s - loss: 0.4564 - accuracy: 0.8334\n",
      "Epoch 63: saving model to model/keypoint_classifier/keypoint_classifier.hdf5\n",
      "172/172 [==============================] - 1s 4ms/step - loss: 0.4584 - accuracy: 0.8328 - val_loss: 0.2977 - val_accuracy: 0.9263\n",
      "Epoch 64/1000\n",
      "157/172 [==========================>...] - ETA: 0s - loss: 0.4537 - accuracy: 0.8358\n",
      "Epoch 64: saving model to model/keypoint_classifier/keypoint_classifier.hdf5\n",
      "172/172 [==============================] - 1s 4ms/step - loss: 0.4562 - accuracy: 0.8353 - val_loss: 0.3074 - val_accuracy: 0.9181\n",
      "Epoch 65/1000\n",
      "160/172 [==========================>...] - ETA: 0s - loss: 0.4465 - accuracy: 0.8365\n",
      "Epoch 65: saving model to model/keypoint_classifier/keypoint_classifier.hdf5\n",
      "172/172 [==============================] - 1s 4ms/step - loss: 0.4433 - accuracy: 0.8389 - val_loss: 0.3043 - val_accuracy: 0.9072\n",
      "Epoch 66/1000\n",
      "167/172 [============================>.] - ETA: 0s - loss: 0.4374 - accuracy: 0.8438\n",
      "Epoch 66: saving model to model/keypoint_classifier/keypoint_classifier.hdf5\n",
      "172/172 [==============================] - 1s 7ms/step - loss: 0.4383 - accuracy: 0.8442 - val_loss: 0.3229 - val_accuracy: 0.9083\n",
      "Epoch 67/1000\n",
      "155/172 [==========================>...] - ETA: 0s - loss: 0.4393 - accuracy: 0.8383\n",
      "Epoch 67: saving model to model/keypoint_classifier/keypoint_classifier.hdf5\n",
      "172/172 [==============================] - 1s 4ms/step - loss: 0.4389 - accuracy: 0.8395 - val_loss: 0.3871 - val_accuracy: 0.8701\n",
      "Epoch 68/1000\n",
      "170/172 [============================>.] - ETA: 0s - loss: 0.4405 - accuracy: 0.8404\n",
      "Epoch 68: saving model to model/keypoint_classifier/keypoint_classifier.hdf5\n",
      "172/172 [==============================] - 1s 4ms/step - loss: 0.4387 - accuracy: 0.8411 - val_loss: 0.3613 - val_accuracy: 0.8766\n",
      "Epoch 69/1000\n",
      "160/172 [==========================>...] - ETA: 0s - loss: 0.4339 - accuracy: 0.8510\n",
      "Epoch 69: saving model to model/keypoint_classifier/keypoint_classifier.hdf5\n",
      "172/172 [==============================] - 1s 3ms/step - loss: 0.4345 - accuracy: 0.8511 - val_loss: 0.3088 - val_accuracy: 0.9072\n",
      "Epoch 70/1000\n",
      "169/172 [============================>.] - ETA: 0s - loss: 0.4076 - accuracy: 0.8510\n",
      "Epoch 70: saving model to model/keypoint_classifier/keypoint_classifier.hdf5\n",
      "172/172 [==============================] - 1s 3ms/step - loss: 0.4082 - accuracy: 0.8510 - val_loss: 0.2928 - val_accuracy: 0.9159\n",
      "Epoch 71/1000\n",
      "152/172 [=========================>....] - ETA: 0s - loss: 0.4195 - accuracy: 0.8448\n",
      "Epoch 71: saving model to model/keypoint_classifier/keypoint_classifier.hdf5\n",
      "172/172 [==============================] - 1s 4ms/step - loss: 0.4206 - accuracy: 0.8440 - val_loss: 0.3282 - val_accuracy: 0.8957\n",
      "Epoch 72/1000\n",
      "165/172 [===========================>..] - ETA: 0s - loss: 0.4098 - accuracy: 0.8527\n",
      "Epoch 72: saving model to model/keypoint_classifier/keypoint_classifier.hdf5\n",
      "172/172 [==============================] - 1s 4ms/step - loss: 0.4112 - accuracy: 0.8517 - val_loss: 0.3470 - val_accuracy: 0.8821\n",
      "Epoch 73/1000\n",
      "153/172 [=========================>....] - ETA: 0s - loss: 0.4131 - accuracy: 0.8517\n",
      "Epoch 73: saving model to model/keypoint_classifier/keypoint_classifier.hdf5\n",
      "172/172 [==============================] - 1s 3ms/step - loss: 0.4077 - accuracy: 0.8542 - val_loss: 0.2794 - val_accuracy: 0.9312\n",
      "Epoch 74/1000\n",
      "156/172 [==========================>...] - ETA: 0s - loss: 0.4185 - accuracy: 0.8562\n",
      "Epoch 74: saving model to model/keypoint_classifier/keypoint_classifier.hdf5\n",
      "172/172 [==============================] - 1s 4ms/step - loss: 0.4160 - accuracy: 0.8568 - val_loss: 0.3666 - val_accuracy: 0.8734\n",
      "Epoch 75/1000\n",
      "158/172 [==========================>...] - ETA: 0s - loss: 0.3925 - accuracy: 0.8592\n",
      "Epoch 75: saving model to model/keypoint_classifier/keypoint_classifier.hdf5\n",
      "172/172 [==============================] - 1s 4ms/step - loss: 0.3948 - accuracy: 0.8575 - val_loss: 0.3620 - val_accuracy: 0.8783\n",
      "Epoch 76/1000\n",
      "156/172 [==========================>...] - ETA: 0s - loss: 0.3884 - accuracy: 0.8592\n",
      "Epoch 76: saving model to model/keypoint_classifier/keypoint_classifier.hdf5\n",
      "172/172 [==============================] - 1s 3ms/step - loss: 0.3896 - accuracy: 0.8591 - val_loss: 0.3005 - val_accuracy: 0.8990\n",
      "Epoch 77/1000\n",
      "169/172 [============================>.] - ETA: 0s - loss: 0.3804 - accuracy: 0.8630\n",
      "Epoch 77: saving model to model/keypoint_classifier/keypoint_classifier.hdf5\n",
      "172/172 [==============================] - 1s 3ms/step - loss: 0.3806 - accuracy: 0.8631 - val_loss: 0.3060 - val_accuracy: 0.8919\n",
      "Epoch 78/1000\n",
      "165/172 [===========================>..] - ETA: 0s - loss: 0.3929 - accuracy: 0.8610\n",
      "Epoch 78: saving model to model/keypoint_classifier/keypoint_classifier.hdf5\n",
      "172/172 [==============================] - 1s 4ms/step - loss: 0.3948 - accuracy: 0.8606 - val_loss: 0.3313 - val_accuracy: 0.9012\n",
      "Epoch 79/1000\n",
      "166/172 [===========================>..] - ETA: 0s - loss: 0.3759 - accuracy: 0.8631\n",
      "Epoch 79: saving model to model/keypoint_classifier/keypoint_classifier.hdf5\n",
      "172/172 [==============================] - 1s 4ms/step - loss: 0.3775 - accuracy: 0.8630 - val_loss: 0.3355 - val_accuracy: 0.8865\n",
      "Epoch 80/1000\n",
      "155/172 [==========================>...] - ETA: 0s - loss: 0.3983 - accuracy: 0.8556\n",
      "Epoch 80: saving model to model/keypoint_classifier/keypoint_classifier.hdf5\n",
      "172/172 [==============================] - 1s 4ms/step - loss: 0.4049 - accuracy: 0.8537 - val_loss: 0.3528 - val_accuracy: 0.8854\n",
      "Epoch 81/1000\n",
      "164/172 [===========================>..] - ETA: 0s - loss: 0.3827 - accuracy: 0.8613\n",
      "Epoch 81: saving model to model/keypoint_classifier/keypoint_classifier.hdf5\n",
      "172/172 [==============================] - 1s 7ms/step - loss: 0.3805 - accuracy: 0.8621 - val_loss: 0.2953 - val_accuracy: 0.9094\n",
      "Epoch 82/1000\n",
      "170/172 [============================>.] - ETA: 0s - loss: 0.3732 - accuracy: 0.8673\n",
      "Epoch 82: saving model to model/keypoint_classifier/keypoint_classifier.hdf5\n",
      "172/172 [==============================] - 1s 6ms/step - loss: 0.3743 - accuracy: 0.8670 - val_loss: 0.3325 - val_accuracy: 0.8859\n",
      "Epoch 83/1000\n",
      "170/172 [============================>.] - ETA: 0s - loss: 0.3730 - accuracy: 0.8662\n",
      "Epoch 83: saving model to model/keypoint_classifier/keypoint_classifier.hdf5\n",
      "172/172 [==============================] - 1s 5ms/step - loss: 0.3752 - accuracy: 0.8648 - val_loss: 0.3351 - val_accuracy: 0.8990\n",
      "Epoch 84/1000\n",
      "166/172 [===========================>..] - ETA: 0s - loss: 0.3603 - accuracy: 0.8703\n",
      "Epoch 84: saving model to model/keypoint_classifier/keypoint_classifier.hdf5\n",
      "172/172 [==============================] - 1s 5ms/step - loss: 0.3574 - accuracy: 0.8713 - val_loss: 0.3045 - val_accuracy: 0.9023\n",
      "Epoch 85/1000\n",
      "170/172 [============================>.] - ETA: 0s - loss: 0.3681 - accuracy: 0.8675\n",
      "Epoch 85: saving model to model/keypoint_classifier/keypoint_classifier.hdf5\n",
      "172/172 [==============================] - 1s 7ms/step - loss: 0.3675 - accuracy: 0.8675 - val_loss: 0.2873 - val_accuracy: 0.9230\n",
      "Epoch 86/1000\n",
      "160/172 [==========================>...] - ETA: 0s - loss: 0.3574 - accuracy: 0.8738\n",
      "Epoch 86: saving model to model/keypoint_classifier/keypoint_classifier.hdf5\n",
      "172/172 [==============================] - 1s 7ms/step - loss: 0.3556 - accuracy: 0.8739 - val_loss: 0.2762 - val_accuracy: 0.9269\n",
      "Epoch 87/1000\n",
      "159/172 [==========================>...] - ETA: 0s - loss: 0.3632 - accuracy: 0.8689\n",
      "Epoch 87: saving model to model/keypoint_classifier/keypoint_classifier.hdf5\n",
      "172/172 [==============================] - 1s 6ms/step - loss: 0.3608 - accuracy: 0.8690 - val_loss: 0.2711 - val_accuracy: 0.9269\n",
      "Epoch 88/1000\n",
      "169/172 [============================>.] - ETA: 0s - loss: 0.3445 - accuracy: 0.8752\n",
      "Epoch 88: saving model to model/keypoint_classifier/keypoint_classifier.hdf5\n",
      "172/172 [==============================] - 1s 6ms/step - loss: 0.3456 - accuracy: 0.8748 - val_loss: 0.3109 - val_accuracy: 0.8968\n",
      "Epoch 89/1000\n",
      "161/172 [===========================>..] - ETA: 0s - loss: 0.3471 - accuracy: 0.8738\n",
      "Epoch 89: saving model to model/keypoint_classifier/keypoint_classifier.hdf5\n",
      "172/172 [==============================] - 1s 6ms/step - loss: 0.3459 - accuracy: 0.8732 - val_loss: 0.2953 - val_accuracy: 0.9083\n",
      "Epoch 90/1000\n",
      "162/172 [===========================>..] - ETA: 0s - loss: 0.3505 - accuracy: 0.8729\n",
      "Epoch 90: saving model to model/keypoint_classifier/keypoint_classifier.hdf5\n",
      "172/172 [==============================] - 1s 6ms/step - loss: 0.3462 - accuracy: 0.8746 - val_loss: 0.2872 - val_accuracy: 0.9198\n",
      "Epoch 91/1000\n",
      "166/172 [===========================>..] - ETA: 0s - loss: 0.3668 - accuracy: 0.8673\n",
      "Epoch 91: saving model to model/keypoint_classifier/keypoint_classifier.hdf5\n",
      "172/172 [==============================] - 1s 6ms/step - loss: 0.3686 - accuracy: 0.8662 - val_loss: 0.3239 - val_accuracy: 0.8870\n",
      "Epoch 92/1000\n",
      "159/172 [==========================>...] - ETA: 0s - loss: 0.3456 - accuracy: 0.8740\n",
      "Epoch 92: saving model to model/keypoint_classifier/keypoint_classifier.hdf5\n",
      "172/172 [==============================] - 1s 6ms/step - loss: 0.3499 - accuracy: 0.8721 - val_loss: 0.3690 - val_accuracy: 0.8712\n",
      "Epoch 93/1000\n",
      "160/172 [==========================>...] - ETA: 0s - loss: 0.3390 - accuracy: 0.8781\n",
      "Epoch 93: saving model to model/keypoint_classifier/keypoint_classifier.hdf5\n",
      "172/172 [==============================] - 1s 6ms/step - loss: 0.3425 - accuracy: 0.8772 - val_loss: 0.3428 - val_accuracy: 0.8772\n",
      "Epoch 94/1000\n",
      "172/172 [==============================] - ETA: 0s - loss: 0.3307 - accuracy: 0.8810\n",
      "Epoch 94: saving model to model/keypoint_classifier/keypoint_classifier.hdf5\n",
      "172/172 [==============================] - 1s 7ms/step - loss: 0.3307 - accuracy: 0.8810 - val_loss: 0.2788 - val_accuracy: 0.9061\n",
      "Epoch 95/1000\n",
      "170/172 [============================>.] - ETA: 0s - loss: 0.3362 - accuracy: 0.8827\n",
      "Epoch 95: saving model to model/keypoint_classifier/keypoint_classifier.hdf5\n",
      "172/172 [==============================] - 1s 6ms/step - loss: 0.3370 - accuracy: 0.8823 - val_loss: 0.3037 - val_accuracy: 0.8941\n",
      "Epoch 96/1000\n",
      "172/172 [==============================] - ETA: 0s - loss: 0.3349 - accuracy: 0.8786\n",
      "Epoch 96: saving model to model/keypoint_classifier/keypoint_classifier.hdf5\n",
      "172/172 [==============================] - 1s 7ms/step - loss: 0.3349 - accuracy: 0.8786 - val_loss: 0.3140 - val_accuracy: 0.9023\n",
      "Epoch 97/1000\n",
      "171/172 [============================>.] - ETA: 0s - loss: 0.3310 - accuracy: 0.8840\n",
      "Epoch 97: saving model to model/keypoint_classifier/keypoint_classifier.hdf5\n",
      "172/172 [==============================] - 1s 6ms/step - loss: 0.3310 - accuracy: 0.8843 - val_loss: 0.3283 - val_accuracy: 0.8881\n",
      "Epoch 98/1000\n",
      "164/172 [===========================>..] - ETA: 0s - loss: 0.3407 - accuracy: 0.8746\n",
      "Epoch 98: saving model to model/keypoint_classifier/keypoint_classifier.hdf5\n",
      "172/172 [==============================] - 1s 6ms/step - loss: 0.3385 - accuracy: 0.8750 - val_loss: 0.3146 - val_accuracy: 0.8930\n",
      "Epoch 99/1000\n",
      "166/172 [===========================>..] - ETA: 0s - loss: 0.3347 - accuracy: 0.8748\n",
      "Epoch 99: saving model to model/keypoint_classifier/keypoint_classifier.hdf5\n",
      "172/172 [==============================] - 1s 8ms/step - loss: 0.3361 - accuracy: 0.8739 - val_loss: 0.3300 - val_accuracy: 0.8783\n",
      "Epoch 100/1000\n",
      "163/172 [===========================>..] - ETA: 0s - loss: 0.3218 - accuracy: 0.8834\n",
      "Epoch 100: saving model to model/keypoint_classifier/keypoint_classifier.hdf5\n",
      "172/172 [==============================] - 1s 6ms/step - loss: 0.3244 - accuracy: 0.8830 - val_loss: 0.4103 - val_accuracy: 0.8450\n",
      "Epoch 101/1000\n",
      "160/172 [==========================>...] - ETA: 0s - loss: 0.3147 - accuracy: 0.8852\n",
      "Epoch 101: saving model to model/keypoint_classifier/keypoint_classifier.hdf5\n",
      "172/172 [==============================] - 1s 5ms/step - loss: 0.3167 - accuracy: 0.8839 - val_loss: 0.3407 - val_accuracy: 0.8712\n",
      "Epoch 102/1000\n",
      "170/172 [============================>.] - ETA: 0s - loss: 0.3224 - accuracy: 0.8853\n",
      "Epoch 102: saving model to model/keypoint_classifier/keypoint_classifier.hdf5\n",
      "172/172 [==============================] - 1s 6ms/step - loss: 0.3222 - accuracy: 0.8852 - val_loss: 0.3800 - val_accuracy: 0.8777\n",
      "Epoch 103/1000\n",
      "162/172 [===========================>..] - ETA: 0s - loss: 0.3158 - accuracy: 0.8823\n",
      "Epoch 103: saving model to model/keypoint_classifier/keypoint_classifier.hdf5\n",
      "172/172 [==============================] - 1s 7ms/step - loss: 0.3182 - accuracy: 0.8812 - val_loss: 0.3992 - val_accuracy: 0.8586\n",
      "Epoch 104/1000\n",
      "169/172 [============================>.] - ETA: 0s - loss: 0.3359 - accuracy: 0.8785\n",
      "Epoch 104: saving model to model/keypoint_classifier/keypoint_classifier.hdf5\n",
      "172/172 [==============================] - 1s 5ms/step - loss: 0.3370 - accuracy: 0.8777 - val_loss: 0.3346 - val_accuracy: 0.8881\n",
      "Epoch 105/1000\n",
      "163/172 [===========================>..] - ETA: 0s - loss: 0.3224 - accuracy: 0.8877\n",
      "Epoch 105: saving model to model/keypoint_classifier/keypoint_classifier.hdf5\n",
      "172/172 [==============================] - 1s 8ms/step - loss: 0.3241 - accuracy: 0.8870 - val_loss: 0.2833 - val_accuracy: 0.9148\n",
      "Epoch 106/1000\n",
      "169/172 [============================>.] - ETA: 0s - loss: 0.3140 - accuracy: 0.8852\n",
      "Epoch 106: saving model to model/keypoint_classifier/keypoint_classifier.hdf5\n",
      "172/172 [==============================] - 1s 8ms/step - loss: 0.3134 - accuracy: 0.8854 - val_loss: 0.3106 - val_accuracy: 0.8837\n",
      "Epoch 107/1000\n",
      "167/172 [============================>.] - ETA: 0s - loss: 0.3037 - accuracy: 0.8845\n",
      "Epoch 107: saving model to model/keypoint_classifier/keypoint_classifier.hdf5\n",
      "172/172 [==============================] - 1s 7ms/step - loss: 0.3063 - accuracy: 0.8839 - val_loss: 0.3063 - val_accuracy: 0.8805\n",
      "Epoch 107: early stopping\n"
     ]
    },
    {
     "data": {
      "text/plain": [
       "<keras.callbacks.History at 0x7fb768476c10>"
      ]
     },
     "execution_count": 11,
     "metadata": {},
     "output_type": "execute_result"
    }
   ],
   "source": [
    "model.fit(\n",
    "    X_train,\n",
    "    y_train,\n",
    "    epochs=1000,\n",
    "    batch_size=32,\n",
    "    validation_data=(X_test, y_test),\n",
    "    callbacks=[cp_callback, es_callback]\n",
    ")"
   ]
  },
  {
   "cell_type": "code",
   "execution_count": 12,
   "metadata": {
    "colab": {
     "base_uri": "https://localhost:8080/"
    },
    "id": "pxvb2Y299hE3",
    "outputId": "59eb3185-2e37-4b9e-bc9d-ab1b8ac29b7f"
   },
   "outputs": [
    {
     "name": "stdout",
     "output_type": "stream",
     "text": [
      "58/58 [==============================] - 0s 2ms/step - loss: 0.3063 - accuracy: 0.8805\n"
     ]
    }
   ],
   "source": [
    "# Model evaluation\n",
    "val_loss, val_acc = model.evaluate(X_test, y_test, batch_size=32)"
   ]
  },
  {
   "cell_type": "code",
   "execution_count": 13,
   "metadata": {
    "id": "RBkmDeUW9hE4"
   },
   "outputs": [],
   "source": [
    "# Loading the saved model\n",
    "model = tf.keras.models.load_model(model_save_path)"
   ]
  },
  {
   "cell_type": "code",
   "execution_count": 14,
   "metadata": {
    "colab": {
     "base_uri": "https://localhost:8080/"
    },
    "id": "tFz9Tb0I9hE4",
    "outputId": "1c3b3528-54ae-4ee2-ab04-77429211cbef"
   },
   "outputs": [
    {
     "name": "stdout",
     "output_type": "stream",
     "text": [
      "[5.1323418e-06 6.5244526e-06 6.7840668e-04 5.7162240e-11 3.0886784e-09\n",
      " 3.4588511e-04 5.5926295e-05 2.5186206e-11 2.3081732e-06 2.2543377e-11\n",
      " 3.1371957e-05 1.4875659e-05 1.9071048e-01 2.3784123e-08 1.1534235e-10\n",
      " 9.9606645e-05 6.7922957e-13 1.3010308e-10 6.0256476e-05 8.2293910e-04\n",
      " 6.2844497e-01 2.3935122e-06 4.2734101e-09 3.5688913e-10 1.7213662e-01\n",
      " 1.1486267e-06 2.0867319e-07 8.3948457e-08 6.2240821e-07 1.8716896e-08\n",
      " 2.5475331e-04 1.0456631e-04 3.3883862e-07 5.7660909e-03 2.5136413e-09\n",
      " 4.2971875e-05 1.3596364e-05 4.9712912e-10 7.8546653e-10 1.0422949e-08\n",
      " 6.9744210e-10 1.9118939e-04 3.6944947e-08 4.5800767e-05 4.6958859e-05\n",
      " 1.1625779e-11 1.3344680e-09 1.0555244e-05 1.2444182e-06 1.2558943e-14\n",
      " 1.2611212e-12 3.7473367e-09 3.1777832e-05 5.2208165e-06 6.5182867e-05\n",
      " 2.1852895e-09]\n",
      "20\n"
     ]
    }
   ],
   "source": [
    "# Inference test\n",
    "predict_result = model.predict(np.array([X_test[0]]))\n",
    "print(np.squeeze(predict_result))\n",
    "print(np.argmax(np.squeeze(predict_result)))"
   ]
  },
  {
   "cell_type": "markdown",
   "metadata": {
    "id": "S3U4yNWx9hE4"
   },
   "source": [
    "# 5. Check Trained Model"
   ]
  },
  {
   "cell_type": "code",
   "execution_count": 15,
   "metadata": {
    "colab": {
     "base_uri": "https://localhost:8080/",
     "height": 582
    },
    "id": "AP1V6SCk9hE5",
    "outputId": "08e41a80-7a4a-4619-8125-ecc371368d19"
   },
   "outputs": [
    {
     "data": {
      "image/png": "[encoded data removed]",
      "text/plain": [
       "<Figure size 504x432 with 2 Axes>"
      ]
     },
     "metadata": {
      "needs_background": "light"
     },
     "output_type": "display_data"
    },
    {
     "name": "stdout",
     "output_type": "stream",
     "text": [
      "Classification Report\n",
      "              precision    recall  f1-score   support\n",
      "\n",
      "           0       1.00      1.00      1.00        40\n",
      "           1       0.84      1.00      0.91        57\n",
      "           2       0.97      0.83      0.90        42\n",
      "           3       1.00      1.00      1.00        38\n",
      "           4       1.00      0.56      0.72        43\n",
      "           5       0.54      1.00      0.70        38\n",
      "           6       0.98      1.00      0.99        62\n",
      "           7       0.95      1.00      0.98        63\n",
      "           8       1.00      1.00      1.00        58\n",
      "           9       0.77      1.00      0.87        30\n",
      "          10       1.00      0.96      0.98        27\n",
      "          11       0.96      1.00      0.98        25\n",
      "          12       0.59      1.00      0.74        20\n",
      "          13       0.96      0.43      0.59        54\n",
      "          14       0.58      0.97      0.73        40\n",
      "          15       0.85      0.74      0.79        53\n",
      "          16       1.00      1.00      1.00        13\n",
      "          17       1.00      1.00      1.00        24\n",
      "          18       0.91      0.60      0.72        48\n",
      "          19       0.85      0.97      0.90        34\n",
      "          20       1.00      0.19      0.32        26\n",
      "          21       0.69      0.96      0.80        45\n",
      "          22       0.90      0.86      0.88        21\n",
      "          23       0.93      1.00      0.96        41\n",
      "          24       0.50      0.56      0.53        16\n",
      "          25       1.00      0.83      0.91        18\n",
      "          26       0.89      0.47      0.62        17\n",
      "          27       0.95      1.00      0.98        20\n",
      "          28       0.88      1.00      0.94        45\n",
      "          29       0.97      1.00      0.99        33\n",
      "          30       1.00      0.95      0.98        42\n",
      "          31       1.00      0.96      0.98        26\n",
      "          32       1.00      0.31      0.47        45\n",
      "          33       0.67      0.86      0.75        37\n",
      "          34       0.98      1.00      0.99        40\n",
      "          35       0.72      1.00      0.84        33\n",
      "          36       1.00      1.00      1.00        17\n",
      "          37       0.81      0.88      0.85        25\n",
      "          38       0.89      1.00      0.94        33\n",
      "          39       1.00      1.00      1.00        21\n",
      "          40       0.89      0.96      0.93        26\n",
      "          41       1.00      0.96      0.98        28\n",
      "          42       1.00      0.91      0.95        22\n",
      "          43       1.00      1.00      1.00        36\n",
      "          44       0.98      0.85      0.91        47\n",
      "          45       1.00      0.93      0.97        30\n",
      "          46       1.00      0.92      0.96        25\n",
      "          47       0.95      0.83      0.89        24\n",
      "          48       0.68      1.00      0.81        19\n",
      "          49       1.00      1.00      1.00        20\n",
      "          50       0.84      1.00      0.92        27\n",
      "          51       1.00      0.90      0.95        21\n",
      "          52       1.00      0.85      0.92        33\n",
      "          53       1.00      1.00      1.00        19\n",
      "          54       0.94      0.62      0.74        26\n",
      "          55       1.00      0.84      0.91        19\n",
      "\n",
      "    accuracy                           0.88      1832\n",
      "   macro avg       0.91      0.88      0.88      1832\n",
      "weighted avg       0.91      0.88      0.87      1832\n",
      "\n"
     ]
    }
   ],
   "source": [
    "import pandas as pd\n",
    "import seaborn as sns\n",
    "import matplotlib.pyplot as plt\n",
    "from sklearn.metrics import confusion_matrix, classification_report\n",
    "\n",
    "def print_confusion_matrix(y_true, y_pred, report=True):\n",
    "    labels = sorted(list(set(y_true)))\n",
    "    cmx_data = confusion_matrix(y_true, y_pred, labels=labels)\n",
    "    \n",
    "    df_cmx = pd.DataFrame(cmx_data, index=labels, columns=labels)\n",
    " \n",
    "    fig, ax = plt.subplots(figsize=(7, 6))\n",
    "    sns.heatmap(df_cmx, annot=True, fmt='g' ,square=False)\n",
    "    ax.set_ylim(len(set(y_true)), 0)\n",
    "    plt.show()\n",
    "    \n",
    "    if report:\n",
    "        print('Classification Report')\n",
    "        print(classification_report(y_test, y_pred))\n",
    "\n",
    "Y_pred = model.predict(X_test)\n",
    "y_pred = np.argmax(Y_pred, axis=1)\n",
    "\n",
    "print_confusion_matrix(y_test, y_pred)"
   ]
  },
  {
   "cell_type": "markdown",
   "metadata": {
    "id": "FNP6aqzc9hE5"
   },
   "source": [
    "# 6. Check Trained Model"
   ]
  },
  {
   "cell_type": "code",
   "execution_count": 16,
   "metadata": {
    "id": "ODjnYyld9hE6"
   },
   "outputs": [],
   "source": [
    "# Save as a model dedicated to inference\n",
    "model.save(model_save_path, include_optimizer=False)"
   ]
  },
  {
   "cell_type": "code",
   "execution_count": 17,
   "metadata": {
    "colab": {
     "base_uri": "https://localhost:8080/"
    },
    "id": "zRfuK8Y59hE6",
    "outputId": "a4ca585c-b5d5-4244-8291-8674063209bb"
   },
   "outputs": [
    {
     "name": "stdout",
     "output_type": "stream",
     "text": [
      "INFO:tensorflow:Assets written to: /var/folders/fr/jbv693556wl33l33vy0f6c080000gn/T/tmpheslzp1z/assets\n"
     ]
    },
    {
     "data": {
      "text/plain": [
       "54424"
      ]
     },
     "execution_count": 17,
     "metadata": {},
     "output_type": "execute_result"
    }
   ],
   "source": [
    "# Transform model (quantization)\n",
    "\n",
    "converter = tf.lite.TFLiteConverter.from_keras_model(model)\n",
    "converter.optimizations = [tf.lite.Optimize.DEFAULT]\n",
    "tflite_quantized_model = converter.convert()\n",
    "\n",
    "open(tflite_save_path, 'wb').write(tflite_quantized_model)"
   ]
  },
  {
   "cell_type": "markdown",
   "metadata": {
    "id": "CHBPBXdx9hE6"
   },
   "source": [
    "# Inference test"
   ]
  },
  {
   "cell_type": "code",
   "execution_count": null,
   "metadata": {
    "id": "mGAzLocO9hE7"
   },
   "outputs": [],
   "source": []
  },
  {
   "cell_type": "code",
   "execution_count": null,
   "metadata": {
    "id": "oQuDK8YS9hE7"
   },
   "outputs": [],
   "source": []
  },
  {
   "cell_type": "code",
   "execution_count": null,
   "metadata": {
    "id": "2_ixAf_l9hE7"
   },
   "outputs": [],
   "source": []
  },
  {
   "cell_type": "code",
   "execution_count": null,
   "metadata": {
    "colab": {
     "base_uri": "https://localhost:8080/"
    },
    "id": "s4FoAnuc9hE7",
    "outputId": "91f18257-8d8b-4ef3-c558-e9b5f94fabbf",
    "scrolled": true
   },
   "outputs": [],
   "source": []
  },
  {
   "cell_type": "code",
   "execution_count": null,
   "metadata": {
    "colab": {
     "base_uri": "https://localhost:8080/"
    },
    "id": "vONjp19J9hE8",
    "outputId": "77205e24-fd00-42c4-f7b6-e06e527c2cba"
   },
   "outputs": [],
   "source": []
  },
  {
   "cell_type": "code",
   "execution_count": null,
   "metadata": {},
   "outputs": [],
   "source": []
  }
 ],
 "metadata": {
  "accelerator": "GPU",
  "colab": {
   "collapsed_sections": [],
   "name": "keypoint_classification_EN.ipynb",
   "provenance": [],
   "toc_visible": true
  },
  "kernelspec": {
   "display_name": "Python 3",
   "language": "python",
   "name": "python3"
  },
  "language_info": {
   "codemirror_mode": {
    "name": "ipython",
    "version": 3
   },
   "file_extension": ".py",
   "mimetype": "text/x-python",
   "name": "python",
   "nbconvert_exporter": "python",
   "pygments_lexer": "ipython3",
   "version": "3.8.8"
  }
 },
 "nbformat": 4,
 "nbformat_minor": 4
}
