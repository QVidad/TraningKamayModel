{
 "cells": [
  {
   "cell_type": "code",
   "execution_count": 1,
   "metadata": {
    "id": "igMyGnjE9hEp"
   },
   "outputs": [],
   "source": [
    "import csv\n",
    "\n",
    "import numpy as np\n",
    "import tensorflow as tf\n",
    "from sklearn.model_selection import train_test_split"
   ]
  },
  {
   "cell_type": "markdown",
   "metadata": {
    "id": "t2HDvhIu9hEr"
   },
   "source": [
    "# 1. Specify Pathfile"
   ]
  },
  {
   "cell_type": "code",
   "execution_count": 2,
   "metadata": {
    "id": "9NvZP2Zn9hEy"
   },
   "outputs": [],
   "source": [
    "dataset = 'model/keypoint_classifier/keypoint.csv'\n",
    "model_save_path = 'model/keypoint_classifier/keypoint_classifier.hdf5'\n",
    "tflite_save_path = 'model/keypoint_classifier/keypoint_classifier.tflite'"
   ]
  },
  {
   "cell_type": "markdown",
   "metadata": {
    "id": "s5oMH7x19hEz"
   },
   "source": [
    "# 2. Specify Number of Classes"
   ]
  },
  {
   "cell_type": "code",
   "execution_count": 3,
   "metadata": {
    "id": "du4kodXL9hEz"
   },
   "outputs": [],
   "source": [
    "NUM_CLASSES = 56"
   ]
  },
  {
   "cell_type": "markdown",
   "metadata": {
    "id": "XjnL0uso9hEz"
   },
   "source": [
    "# 3. Reading Dataset"
   ]
  },
  {
   "cell_type": "code",
   "execution_count": 4,
   "metadata": {
    "id": "QT5ZqtEz9hE0"
   },
   "outputs": [],
   "source": [
    "X_dataset = np.loadtxt(dataset, delimiter=',', dtype='float32', usecols=list(range(1, (21 * 2)+1)))"
   ]
  },
  {
   "cell_type": "code",
   "execution_count": 5,
   "metadata": {
    "id": "QmoKFsp49hE0"
   },
   "outputs": [],
   "source": [
    "y_dataset = np.loadtxt(dataset, delimiter=',', dtype='int32', usecols=(0))"
   ]
  },
  {
   "cell_type": "code",
   "execution_count": 6,
   "metadata": {
    "id": "xQU7JTZ_9hE0"
   },
   "outputs": [],
   "source": [
    "X_train, X_test, y_train, y_test = train_test_split(X_dataset, y_dataset, train_size=0.75, random_state=42)"
   ]
  },
  {
   "cell_type": "markdown",
   "metadata": {
    "id": "mxK_lETT9hE0"
   },
   "source": [
    "# 4. Training Model"
   ]
  },
  {
   "cell_type": "code",
   "execution_count": 7,
   "metadata": {
    "id": "vHBmUf1t9hE1"
   },
   "outputs": [],
   "source": [
    "model = tf.keras.models.Sequential([\n",
    "    tf.keras.layers.Input((21 * 2, )),\n",
    "    tf.keras.layers.Dropout(0.2),\n",
    "    tf.keras.layers.Dense(256, activation='relu'),\n",
    "    tf.keras.layers.Dropout(0.4),\n",
    "    tf.keras.layers.Dense(128, activation='relu'),\n",
    "    tf.keras.layers.Dense(NUM_CLASSES, activation='softmax')\n",
    "])"
   ]
  },
  {
   "cell_type": "code",
   "execution_count": 8,
   "metadata": {
    "colab": {
     "base_uri": "https://localhost:8080/"
    },
    "id": "ypqky9tc9hE1",
    "outputId": "5db082bb-30e3-4110-bf63-a1ee777ecd46"
   },
   "outputs": [
    {
     "name": "stdout",
     "output_type": "stream",
     "text": [
      "Model: \"sequential\"\n",
      "_________________________________________________________________\n",
      " Layer (type)                Output Shape              Param #   \n",
      "=================================================================\n",
      " dropout (Dropout)           (None, 42)                0         \n",
      "                                                                 \n",
      " dense (Dense)               (None, 256)               11008     \n",
      "                                                                 \n",
      " dropout_1 (Dropout)         (None, 256)               0         \n",
      "                                                                 \n",
      " dense_1 (Dense)             (None, 128)               32896     \n",
      "                                                                 \n",
      " dense_2 (Dense)             (None, 56)                7224      \n",
      "                                                                 \n",
      "=================================================================\n",
      "Total params: 51,128\n",
      "Trainable params: 51,128\n",
      "Non-trainable params: 0\n",
      "_________________________________________________________________\n"
     ]
    }
   ],
   "source": [
    "model.summary()  # tf.keras.utils.plot_model(model, show_shapes=True)"
   ]
  },
  {
   "cell_type": "code",
   "execution_count": 9,
   "metadata": {
    "id": "MbMjOflQ9hE1"
   },
   "outputs": [],
   "source": [
    "# Model checkpoint callback\n",
    "cp_callback = tf.keras.callbacks.ModelCheckpoint(\n",
    "    model_save_path, verbose=1, save_weights_only=False)\n",
    "# Callback for early stopping\n",
    "es_callback = tf.keras.callbacks.EarlyStopping(patience=20, verbose=1)"
   ]
  },
  {
   "cell_type": "code",
   "execution_count": 10,
   "metadata": {
    "id": "c3Dac0M_9hE2"
   },
   "outputs": [],
   "source": [
    "# Model compilation\n",
    "model.compile(\n",
    "    optimizer='adam',\n",
    "    loss='sparse_categorical_crossentropy',\n",
    "    metrics=['accuracy']\n",
    ")"
   ]
  },
  {
   "cell_type": "code",
   "execution_count": 11,
   "metadata": {
    "colab": {
     "base_uri": "https://localhost:8080/"
    },
    "id": "WirBl-JE9hE3",
    "outputId": "71b30ca2-8294-4d9d-8aa2-800d90d399de",
    "scrolled": true
   },
   "outputs": [
    {
     "name": "stdout",
     "output_type": "stream",
     "text": [
      "Epoch 1/1000\n",
      "162/172 [===========================>..] - ETA: 0s - loss: 3.3337 - accuracy: 0.1325\n",
      "Epoch 1: saving model to model/keypoint_classifier/keypoint_classifier.hdf5\n",
      "172/172 [==============================] - 2s 8ms/step - loss: 3.2967 - accuracy: 0.1370 - val_loss: 2.5437 - val_accuracy: 0.2773\n",
      "Epoch 2/1000\n",
      "161/172 [===========================>..] - ETA: 0s - loss: 2.3905 - accuracy: 0.2873\n",
      "Epoch 2: saving model to model/keypoint_classifier/keypoint_classifier.hdf5\n",
      "172/172 [==============================] - 1s 4ms/step - loss: 2.3770 - accuracy: 0.2892 - val_loss: 1.7779 - val_accuracy: 0.5120\n",
      "Epoch 3/1000\n",
      "169/172 [============================>.] - ETA: 0s - loss: 1.9596 - accuracy: 0.3767\n",
      "Epoch 3: saving model to model/keypoint_classifier/keypoint_classifier.hdf5\n",
      "172/172 [==============================] - 1s 4ms/step - loss: 1.9566 - accuracy: 0.3789 - val_loss: 1.3869 - val_accuracy: 0.5955\n",
      "Epoch 4/1000\n",
      "164/172 [===========================>..] - ETA: 0s - loss: 1.7693 - accuracy: 0.4234\n",
      "Epoch 4: saving model to model/keypoint_classifier/keypoint_classifier.hdf5\n",
      "172/172 [==============================] - 1s 4ms/step - loss: 1.7614 - accuracy: 0.4253 - val_loss: 1.1873 - val_accuracy: 0.7020\n",
      "Epoch 5/1000\n",
      "167/172 [============================>.] - ETA: 0s - loss: 1.5869 - accuracy: 0.4757\n",
      "Epoch 5: saving model to model/keypoint_classifier/keypoint_classifier.hdf5\n",
      "172/172 [==============================] - 1s 4ms/step - loss: 1.5916 - accuracy: 0.4737 - val_loss: 1.0061 - val_accuracy: 0.6960\n",
      "Epoch 6/1000\n",
      "171/172 [============================>.] - ETA: 0s - loss: 1.4983 - accuracy: 0.4923\n",
      "Epoch 6: saving model to model/keypoint_classifier/keypoint_classifier.hdf5\n",
      "172/172 [==============================] - 1s 4ms/step - loss: 1.4979 - accuracy: 0.4923 - val_loss: 0.9346 - val_accuracy: 0.7385\n",
      "Epoch 7/1000\n",
      "161/172 [===========================>..] - ETA: 0s - loss: 1.3691 - accuracy: 0.5351\n",
      "Epoch 7: saving model to model/keypoint_classifier/keypoint_classifier.hdf5\n",
      "172/172 [==============================] - 0s 3ms/step - loss: 1.3723 - accuracy: 0.5369 - val_loss: 0.8272 - val_accuracy: 0.7746\n",
      "Epoch 8/1000\n",
      "160/172 [==========================>...] - ETA: 0s - loss: 1.3098 - accuracy: 0.5508\n",
      "Epoch 8: saving model to model/keypoint_classifier/keypoint_classifier.hdf5\n",
      "172/172 [==============================] - 0s 3ms/step - loss: 1.3116 - accuracy: 0.5509 - val_loss: 0.7841 - val_accuracy: 0.7735\n",
      "Epoch 9/1000\n",
      "169/172 [============================>.] - ETA: 0s - loss: 1.2691 - accuracy: 0.5669\n",
      "Epoch 9: saving model to model/keypoint_classifier/keypoint_classifier.hdf5\n",
      "172/172 [==============================] - 1s 4ms/step - loss: 1.2732 - accuracy: 0.5658 - val_loss: 0.7397 - val_accuracy: 0.7735\n",
      "Epoch 10/1000\n",
      "152/172 [=========================>....] - ETA: 0s - loss: 1.2190 - accuracy: 0.5796\n",
      "Epoch 10: saving model to model/keypoint_classifier/keypoint_classifier.hdf5\n",
      "172/172 [==============================] - 1s 4ms/step - loss: 1.2128 - accuracy: 0.5805 - val_loss: 0.7075 - val_accuracy: 0.7866\n",
      "Epoch 11/1000\n",
      "160/172 [==========================>...] - ETA: 0s - loss: 1.1740 - accuracy: 0.5973\n",
      "Epoch 11: saving model to model/keypoint_classifier/keypoint_classifier.hdf5\n",
      "172/172 [==============================] - 1s 4ms/step - loss: 1.1724 - accuracy: 0.5996 - val_loss: 0.6663 - val_accuracy: 0.8253\n",
      "Epoch 12/1000\n",
      "159/172 [==========================>...] - ETA: 0s - loss: 1.1216 - accuracy: 0.6048\n",
      "Epoch 12: saving model to model/keypoint_classifier/keypoint_classifier.hdf5\n",
      "172/172 [==============================] - 1s 5ms/step - loss: 1.1215 - accuracy: 0.6036 - val_loss: 0.6227 - val_accuracy: 0.8264\n",
      "Epoch 13/1000\n",
      "164/172 [===========================>..] - ETA: 0s - loss: 1.0717 - accuracy: 0.6206\n",
      "Epoch 13: saving model to model/keypoint_classifier/keypoint_classifier.hdf5\n",
      "172/172 [==============================] - 1s 4ms/step - loss: 1.0709 - accuracy: 0.6197 - val_loss: 0.5898 - val_accuracy: 0.8395\n",
      "Epoch 14/1000\n",
      "157/172 [==========================>...] - ETA: 0s - loss: 1.0352 - accuracy: 0.6371\n",
      "Epoch 14: saving model to model/keypoint_classifier/keypoint_classifier.hdf5\n",
      "172/172 [==============================] - 1s 3ms/step - loss: 1.0418 - accuracy: 0.6359 - val_loss: 0.5793 - val_accuracy: 0.8406\n",
      "Epoch 15/1000\n",
      "170/172 [============================>.] - ETA: 0s - loss: 1.0605 - accuracy: 0.6267\n",
      "Epoch 15: saving model to model/keypoint_classifier/keypoint_classifier.hdf5\n",
      "172/172 [==============================] - 1s 4ms/step - loss: 1.0613 - accuracy: 0.6262 - val_loss: 0.6124 - val_accuracy: 0.8330\n",
      "Epoch 16/1000\n",
      "168/172 [============================>.] - ETA: 0s - loss: 1.0147 - accuracy: 0.6438\n",
      "Epoch 16: saving model to model/keypoint_classifier/keypoint_classifier.hdf5\n",
      "172/172 [==============================] - 1s 5ms/step - loss: 1.0137 - accuracy: 0.6439 - val_loss: 0.5804 - val_accuracy: 0.8341\n",
      "Epoch 17/1000\n",
      "161/172 [===========================>..] - ETA: 0s - loss: 0.9531 - accuracy: 0.6625\n",
      "Epoch 17: saving model to model/keypoint_classifier/keypoint_classifier.hdf5\n",
      "172/172 [==============================] - 1s 4ms/step - loss: 0.9541 - accuracy: 0.6617 - val_loss: 0.5271 - val_accuracy: 0.8499\n",
      "Epoch 18/1000\n",
      "157/172 [==========================>...] - ETA: 0s - loss: 0.9441 - accuracy: 0.6698\n",
      "Epoch 18: saving model to model/keypoint_classifier/keypoint_classifier.hdf5\n",
      "172/172 [==============================] - 1s 4ms/step - loss: 0.9430 - accuracy: 0.6692 - val_loss: 0.5299 - val_accuracy: 0.8553\n",
      "Epoch 19/1000\n",
      "167/172 [============================>.] - ETA: 0s - loss: 0.9204 - accuracy: 0.6690\n",
      "Epoch 19: saving model to model/keypoint_classifier/keypoint_classifier.hdf5\n",
      "172/172 [==============================] - 1s 4ms/step - loss: 0.9216 - accuracy: 0.6686 - val_loss: 0.5163 - val_accuracy: 0.8543\n",
      "Epoch 20/1000\n",
      "170/172 [============================>.] - ETA: 0s - loss: 0.9109 - accuracy: 0.6744\n",
      "Epoch 20: saving model to model/keypoint_classifier/keypoint_classifier.hdf5\n",
      "172/172 [==============================] - 1s 5ms/step - loss: 0.9100 - accuracy: 0.6744 - val_loss: 0.5088 - val_accuracy: 0.8455\n",
      "Epoch 21/1000\n",
      "165/172 [===========================>..] - ETA: 0s - loss: 0.8936 - accuracy: 0.6784\n",
      "Epoch 21: saving model to model/keypoint_classifier/keypoint_classifier.hdf5\n",
      "172/172 [==============================] - 1s 5ms/step - loss: 0.8904 - accuracy: 0.6770 - val_loss: 0.4930 - val_accuracy: 0.8690\n",
      "Epoch 22/1000\n",
      "168/172 [============================>.] - ETA: 0s - loss: 0.8497 - accuracy: 0.6927\n",
      "Epoch 22: saving model to model/keypoint_classifier/keypoint_classifier.hdf5\n",
      "172/172 [==============================] - 1s 4ms/step - loss: 0.8467 - accuracy: 0.6941 - val_loss: 0.4696 - val_accuracy: 0.8919\n",
      "Epoch 23/1000\n",
      "171/172 [============================>.] - ETA: 0s - loss: 0.8387 - accuracy: 0.7023\n",
      "Epoch 23: saving model to model/keypoint_classifier/keypoint_classifier.hdf5\n",
      "172/172 [==============================] - 1s 4ms/step - loss: 0.8398 - accuracy: 0.7019 - val_loss: 0.4806 - val_accuracy: 0.8548\n",
      "Epoch 24/1000\n",
      "160/172 [==========================>...] - ETA: 0s - loss: 0.8290 - accuracy: 0.7055\n",
      "Epoch 24: saving model to model/keypoint_classifier/keypoint_classifier.hdf5\n",
      "172/172 [==============================] - 1s 5ms/step - loss: 0.8245 - accuracy: 0.7065 - val_loss: 0.4590 - val_accuracy: 0.8761\n",
      "Epoch 25/1000\n",
      "172/172 [==============================] - ETA: 0s - loss: 0.7914 - accuracy: 0.7157\n",
      "Epoch 25: saving model to model/keypoint_classifier/keypoint_classifier.hdf5\n",
      "172/172 [==============================] - 1s 4ms/step - loss: 0.7914 - accuracy: 0.7157 - val_loss: 0.4378 - val_accuracy: 0.8925\n",
      "Epoch 26/1000\n",
      "165/172 [===========================>..] - ETA: 0s - loss: 0.8034 - accuracy: 0.7087\n",
      "Epoch 26: saving model to model/keypoint_classifier/keypoint_classifier.hdf5\n",
      "172/172 [==============================] - 1s 4ms/step - loss: 0.8026 - accuracy: 0.7101 - val_loss: 0.4590 - val_accuracy: 0.8646\n",
      "Epoch 27/1000\n",
      "161/172 [===========================>..] - ETA: 0s - loss: 0.7548 - accuracy: 0.7331\n",
      "Epoch 27: saving model to model/keypoint_classifier/keypoint_classifier.hdf5\n",
      "172/172 [==============================] - 1s 5ms/step - loss: 0.7631 - accuracy: 0.7305 - val_loss: 0.4461 - val_accuracy: 0.8799\n",
      "Epoch 28/1000\n",
      "170/172 [============================>.] - ETA: 0s - loss: 0.7540 - accuracy: 0.7246\n",
      "Epoch 28: saving model to model/keypoint_classifier/keypoint_classifier.hdf5\n",
      "172/172 [==============================] - 1s 4ms/step - loss: 0.7529 - accuracy: 0.7250 - val_loss: 0.4174 - val_accuracy: 0.8848\n",
      "Epoch 29/1000\n",
      "158/172 [==========================>...] - ETA: 0s - loss: 0.7252 - accuracy: 0.7379\n",
      "Epoch 29: saving model to model/keypoint_classifier/keypoint_classifier.hdf5\n",
      "172/172 [==============================] - 1s 4ms/step - loss: 0.7252 - accuracy: 0.7396 - val_loss: 0.3995 - val_accuracy: 0.8947\n",
      "Epoch 30/1000\n",
      "161/172 [===========================>..] - ETA: 0s - loss: 0.7167 - accuracy: 0.7411\n",
      "Epoch 30: saving model to model/keypoint_classifier/keypoint_classifier.hdf5\n",
      "172/172 [==============================] - 1s 4ms/step - loss: 0.7161 - accuracy: 0.7427 - val_loss: 0.4017 - val_accuracy: 0.9045\n",
      "Epoch 31/1000\n",
      "165/172 [===========================>..] - ETA: 0s - loss: 0.7216 - accuracy: 0.7394\n",
      "Epoch 31: saving model to model/keypoint_classifier/keypoint_classifier.hdf5\n",
      "172/172 [==============================] - 1s 4ms/step - loss: 0.7215 - accuracy: 0.7383 - val_loss: 0.4213 - val_accuracy: 0.8712\n",
      "Epoch 32/1000\n",
      "157/172 [==========================>...] - ETA: 0s - loss: 0.7063 - accuracy: 0.7452\n",
      "Epoch 32: saving model to model/keypoint_classifier/keypoint_classifier.hdf5\n",
      "172/172 [==============================] - 1s 4ms/step - loss: 0.7120 - accuracy: 0.7439 - val_loss: 0.3883 - val_accuracy: 0.9099\n",
      "Epoch 33/1000\n",
      "158/172 [==========================>...] - ETA: 0s - loss: 0.7135 - accuracy: 0.7484\n",
      "Epoch 33: saving model to model/keypoint_classifier/keypoint_classifier.hdf5\n",
      "172/172 [==============================] - 1s 4ms/step - loss: 0.7044 - accuracy: 0.7510 - val_loss: 0.4197 - val_accuracy: 0.8766\n",
      "Epoch 34/1000\n",
      "157/172 [==========================>...] - ETA: 0s - loss: 0.6776 - accuracy: 0.7558\n",
      "Epoch 34: saving model to model/keypoint_classifier/keypoint_classifier.hdf5\n",
      "172/172 [==============================] - 1s 3ms/step - loss: 0.6679 - accuracy: 0.7616 - val_loss: 0.3999 - val_accuracy: 0.8761\n",
      "Epoch 35/1000\n",
      "159/172 [==========================>...] - ETA: 0s - loss: 0.6733 - accuracy: 0.7604\n",
      "Epoch 35: saving model to model/keypoint_classifier/keypoint_classifier.hdf5\n",
      "172/172 [==============================] - 1s 5ms/step - loss: 0.6708 - accuracy: 0.7623 - val_loss: 0.3940 - val_accuracy: 0.8941\n",
      "Epoch 36/1000\n",
      "167/172 [============================>.] - ETA: 0s - loss: 0.6426 - accuracy: 0.7680\n",
      "Epoch 36: saving model to model/keypoint_classifier/keypoint_classifier.hdf5\n",
      "172/172 [==============================] - 1s 4ms/step - loss: 0.6420 - accuracy: 0.7680 - val_loss: 0.3885 - val_accuracy: 0.8957\n",
      "Epoch 37/1000\n",
      "159/172 [==========================>...] - ETA: 0s - loss: 0.6323 - accuracy: 0.7732\n",
      "Epoch 37: saving model to model/keypoint_classifier/keypoint_classifier.hdf5\n",
      "172/172 [==============================] - 1s 4ms/step - loss: 0.6305 - accuracy: 0.7738 - val_loss: 0.4033 - val_accuracy: 0.8783\n",
      "Epoch 38/1000\n",
      "171/172 [============================>.] - ETA: 0s - loss: 0.6379 - accuracy: 0.7767\n",
      "Epoch 38: saving model to model/keypoint_classifier/keypoint_classifier.hdf5\n",
      "172/172 [==============================] - 1s 5ms/step - loss: 0.6365 - accuracy: 0.7771 - val_loss: 0.3761 - val_accuracy: 0.8968\n",
      "Epoch 39/1000\n",
      "165/172 [===========================>..] - ETA: 0s - loss: 0.6265 - accuracy: 0.7708\n",
      "Epoch 39: saving model to model/keypoint_classifier/keypoint_classifier.hdf5\n",
      "172/172 [==============================] - 1s 5ms/step - loss: 0.6246 - accuracy: 0.7718 - val_loss: 0.3698 - val_accuracy: 0.9017\n",
      "Epoch 40/1000\n",
      "169/172 [============================>.] - ETA: 0s - loss: 0.6062 - accuracy: 0.7842\n",
      "Epoch 40: saving model to model/keypoint_classifier/keypoint_classifier.hdf5\n",
      "172/172 [==============================] - 1s 4ms/step - loss: 0.6059 - accuracy: 0.7842 - val_loss: 0.3838 - val_accuracy: 0.8881\n",
      "Epoch 41/1000\n",
      "171/172 [============================>.] - ETA: 0s - loss: 0.6027 - accuracy: 0.7849\n",
      "Epoch 41: saving model to model/keypoint_classifier/keypoint_classifier.hdf5\n",
      "172/172 [==============================] - 1s 4ms/step - loss: 0.6018 - accuracy: 0.7853 - val_loss: 0.3778 - val_accuracy: 0.8985\n",
      "Epoch 42/1000\n",
      "171/172 [============================>.] - ETA: 0s - loss: 0.6071 - accuracy: 0.7803\n",
      "Epoch 42: saving model to model/keypoint_classifier/keypoint_classifier.hdf5\n",
      "172/172 [==============================] - 1s 4ms/step - loss: 0.6065 - accuracy: 0.7803 - val_loss: 0.3733 - val_accuracy: 0.8854\n",
      "Epoch 43/1000\n",
      "164/172 [===========================>..] - ETA: 0s - loss: 0.5849 - accuracy: 0.7938\n",
      "Epoch 43: saving model to model/keypoint_classifier/keypoint_classifier.hdf5\n",
      "172/172 [==============================] - 1s 5ms/step - loss: 0.5871 - accuracy: 0.7925 - val_loss: 0.3579 - val_accuracy: 0.9045\n",
      "Epoch 44/1000\n",
      "171/172 [============================>.] - ETA: 0s - loss: 0.5764 - accuracy: 0.7929\n",
      "Epoch 44: saving model to model/keypoint_classifier/keypoint_classifier.hdf5\n",
      "172/172 [==============================] - 1s 5ms/step - loss: 0.5781 - accuracy: 0.7927 - val_loss: 0.3485 - val_accuracy: 0.9034\n",
      "Epoch 45/1000\n",
      "163/172 [===========================>..] - ETA: 0s - loss: 0.5518 - accuracy: 0.8012\n",
      "Epoch 45: saving model to model/keypoint_classifier/keypoint_classifier.hdf5\n",
      "172/172 [==============================] - 1s 4ms/step - loss: 0.5530 - accuracy: 0.8020 - val_loss: 0.3587 - val_accuracy: 0.9138\n",
      "Epoch 46/1000\n",
      "162/172 [===========================>..] - ETA: 0s - loss: 0.5771 - accuracy: 0.7990\n",
      "Epoch 46: saving model to model/keypoint_classifier/keypoint_classifier.hdf5\n",
      "172/172 [==============================] - 1s 5ms/step - loss: 0.5758 - accuracy: 0.7995 - val_loss: 0.3449 - val_accuracy: 0.9039\n",
      "Epoch 47/1000\n",
      "162/172 [===========================>..] - ETA: 0s - loss: 0.5651 - accuracy: 0.7971\n",
      "Epoch 47: saving model to model/keypoint_classifier/keypoint_classifier.hdf5\n",
      "172/172 [==============================] - 1s 5ms/step - loss: 0.5613 - accuracy: 0.7973 - val_loss: 0.3501 - val_accuracy: 0.9116\n",
      "Epoch 48/1000\n",
      "171/172 [============================>.] - ETA: 0s - loss: 0.5459 - accuracy: 0.8030\n",
      "Epoch 48: saving model to model/keypoint_classifier/keypoint_classifier.hdf5\n",
      "172/172 [==============================] - 1s 5ms/step - loss: 0.5464 - accuracy: 0.8031 - val_loss: 0.3614 - val_accuracy: 0.8968\n",
      "Epoch 49/1000\n",
      "169/172 [============================>.] - ETA: 0s - loss: 0.5619 - accuracy: 0.7984\n",
      "Epoch 49: saving model to model/keypoint_classifier/keypoint_classifier.hdf5\n",
      "172/172 [==============================] - 1s 4ms/step - loss: 0.5617 - accuracy: 0.7985 - val_loss: 0.3533 - val_accuracy: 0.8957\n",
      "Epoch 50/1000\n",
      "165/172 [===========================>..] - ETA: 0s - loss: 0.5395 - accuracy: 0.7998\n",
      "Epoch 50: saving model to model/keypoint_classifier/keypoint_classifier.hdf5\n",
      "172/172 [==============================] - 1s 4ms/step - loss: 0.5364 - accuracy: 0.8018 - val_loss: 0.3258 - val_accuracy: 0.9187\n",
      "Epoch 51/1000\n",
      "164/172 [===========================>..] - ETA: 0s - loss: 0.5277 - accuracy: 0.8079\n",
      "Epoch 51: saving model to model/keypoint_classifier/keypoint_classifier.hdf5\n",
      "172/172 [==============================] - 1s 4ms/step - loss: 0.5246 - accuracy: 0.8093 - val_loss: 0.3612 - val_accuracy: 0.9088\n",
      "Epoch 52/1000\n",
      "163/172 [===========================>..] - ETA: 0s - loss: 0.5157 - accuracy: 0.8144\n",
      "Epoch 52: saving model to model/keypoint_classifier/keypoint_classifier.hdf5\n",
      "172/172 [==============================] - 1s 4ms/step - loss: 0.5140 - accuracy: 0.8160 - val_loss: 0.3460 - val_accuracy: 0.9039\n",
      "Epoch 53/1000\n",
      "166/172 [===========================>..] - ETA: 0s - loss: 0.5049 - accuracy: 0.8140\n",
      "Epoch 53: saving model to model/keypoint_classifier/keypoint_classifier.hdf5\n",
      "172/172 [==============================] - 1s 5ms/step - loss: 0.5061 - accuracy: 0.8131 - val_loss: 0.3524 - val_accuracy: 0.8897\n",
      "Epoch 54/1000\n",
      "162/172 [===========================>..] - ETA: 0s - loss: 0.4930 - accuracy: 0.8220\n",
      "Epoch 54: saving model to model/keypoint_classifier/keypoint_classifier.hdf5\n",
      "172/172 [==============================] - 1s 5ms/step - loss: 0.4956 - accuracy: 0.8204 - val_loss: 0.3298 - val_accuracy: 0.9050\n",
      "Epoch 55/1000\n",
      "163/172 [===========================>..] - ETA: 0s - loss: 0.5022 - accuracy: 0.8150\n",
      "Epoch 55: saving model to model/keypoint_classifier/keypoint_classifier.hdf5\n",
      "172/172 [==============================] - 1s 4ms/step - loss: 0.4984 - accuracy: 0.8162 - val_loss: 0.3187 - val_accuracy: 0.9165\n",
      "Epoch 56/1000\n",
      "166/172 [===========================>..] - ETA: 0s - loss: 0.5106 - accuracy: 0.8178\n",
      "Epoch 56: saving model to model/keypoint_classifier/keypoint_classifier.hdf5\n",
      "172/172 [==============================] - 1s 5ms/step - loss: 0.5097 - accuracy: 0.8186 - val_loss: 0.3560 - val_accuracy: 0.8816\n",
      "Epoch 57/1000\n",
      "161/172 [===========================>..] - ETA: 0s - loss: 0.4904 - accuracy: 0.8241\n",
      "Epoch 57: saving model to model/keypoint_classifier/keypoint_classifier.hdf5\n",
      "172/172 [==============================] - 1s 5ms/step - loss: 0.4903 - accuracy: 0.8251 - val_loss: 0.3536 - val_accuracy: 0.8859\n",
      "Epoch 58/1000\n",
      "162/172 [===========================>..] - ETA: 0s - loss: 0.4887 - accuracy: 0.8231\n",
      "Epoch 58: saving model to model/keypoint_classifier/keypoint_classifier.hdf5\n",
      "172/172 [==============================] - 1s 5ms/step - loss: 0.4861 - accuracy: 0.8240 - val_loss: 0.3610 - val_accuracy: 0.9050\n",
      "Epoch 59/1000\n",
      "172/172 [==============================] - ETA: 0s - loss: 0.4870 - accuracy: 0.8227\n",
      "Epoch 59: saving model to model/keypoint_classifier/keypoint_classifier.hdf5\n",
      "172/172 [==============================] - 1s 4ms/step - loss: 0.4870 - accuracy: 0.8227 - val_loss: 0.3722 - val_accuracy: 0.8897\n",
      "Epoch 60/1000\n",
      "167/172 [============================>.] - ETA: 0s - loss: 0.4978 - accuracy: 0.8250\n",
      "Epoch 60: saving model to model/keypoint_classifier/keypoint_classifier.hdf5\n",
      "172/172 [==============================] - 1s 4ms/step - loss: 0.5010 - accuracy: 0.8240 - val_loss: 0.3419 - val_accuracy: 0.9105\n",
      "Epoch 61/1000\n",
      "161/172 [===========================>..] - ETA: 0s - loss: 0.4901 - accuracy: 0.8228\n",
      "Epoch 61: saving model to model/keypoint_classifier/keypoint_classifier.hdf5\n",
      "172/172 [==============================] - 1s 4ms/step - loss: 0.4889 - accuracy: 0.8224 - val_loss: 0.3631 - val_accuracy: 0.8957\n",
      "Epoch 62/1000\n",
      "160/172 [==========================>...] - ETA: 0s - loss: 0.4688 - accuracy: 0.8336\n",
      "Epoch 62: saving model to model/keypoint_classifier/keypoint_classifier.hdf5\n",
      "172/172 [==============================] - 1s 5ms/step - loss: 0.4747 - accuracy: 0.8297 - val_loss: 0.3800 - val_accuracy: 0.8832\n",
      "Epoch 63/1000\n",
      "170/172 [============================>.] - ETA: 0s - loss: 0.4488 - accuracy: 0.8399\n",
      "Epoch 63: saving model to model/keypoint_classifier/keypoint_classifier.hdf5\n",
      "172/172 [==============================] - 1s 5ms/step - loss: 0.4483 - accuracy: 0.8397 - val_loss: 0.3141 - val_accuracy: 0.9116\n",
      "Epoch 64/1000\n",
      "159/172 [==========================>...] - ETA: 0s - loss: 0.4448 - accuracy: 0.8333\n",
      "Epoch 64: saving model to model/keypoint_classifier/keypoint_classifier.hdf5\n",
      "172/172 [==============================] - 1s 4ms/step - loss: 0.4477 - accuracy: 0.8317 - val_loss: 0.4015 - val_accuracy: 0.8619\n",
      "Epoch 65/1000\n",
      "169/172 [============================>.] - ETA: 0s - loss: 0.4423 - accuracy: 0.8376\n",
      "Epoch 65: saving model to model/keypoint_classifier/keypoint_classifier.hdf5\n",
      "172/172 [==============================] - 1s 5ms/step - loss: 0.4431 - accuracy: 0.8377 - val_loss: 0.4159 - val_accuracy: 0.8750\n",
      "Epoch 66/1000\n",
      "162/172 [===========================>..] - ETA: 0s - loss: 0.4617 - accuracy: 0.8376\n",
      "Epoch 66: saving model to model/keypoint_classifier/keypoint_classifier.hdf5\n",
      "172/172 [==============================] - 1s 5ms/step - loss: 0.4595 - accuracy: 0.8389 - val_loss: 0.3506 - val_accuracy: 0.8908\n",
      "Epoch 67/1000\n",
      "160/172 [==========================>...] - ETA: 0s - loss: 0.4403 - accuracy: 0.8422\n",
      "Epoch 67: saving model to model/keypoint_classifier/keypoint_classifier.hdf5\n",
      "172/172 [==============================] - 1s 5ms/step - loss: 0.4418 - accuracy: 0.8417 - val_loss: 0.3512 - val_accuracy: 0.8897\n",
      "Epoch 68/1000\n",
      "162/172 [===========================>..] - ETA: 0s - loss: 0.4279 - accuracy: 0.8461\n",
      "Epoch 68: saving model to model/keypoint_classifier/keypoint_classifier.hdf5\n",
      "172/172 [==============================] - 1s 5ms/step - loss: 0.4248 - accuracy: 0.8473 - val_loss: 0.3487 - val_accuracy: 0.8876\n",
      "Epoch 69/1000\n",
      "162/172 [===========================>..] - ETA: 0s - loss: 0.4508 - accuracy: 0.8426\n",
      "Epoch 69: saving model to model/keypoint_classifier/keypoint_classifier.hdf5\n",
      "172/172 [==============================] - 1s 5ms/step - loss: 0.4513 - accuracy: 0.8420 - val_loss: 0.3626 - val_accuracy: 0.8843\n",
      "Epoch 70/1000\n",
      "163/172 [===========================>..] - ETA: 0s - loss: 0.4058 - accuracy: 0.8524\n",
      "Epoch 70: saving model to model/keypoint_classifier/keypoint_classifier.hdf5\n",
      "172/172 [==============================] - 1s 4ms/step - loss: 0.4055 - accuracy: 0.8528 - val_loss: 0.3511 - val_accuracy: 0.8859\n",
      "Epoch 71/1000\n",
      "167/172 [============================>.] - ETA: 0s - loss: 0.4435 - accuracy: 0.8436\n",
      "Epoch 71: saving model to model/keypoint_classifier/keypoint_classifier.hdf5\n",
      "172/172 [==============================] - 1s 4ms/step - loss: 0.4417 - accuracy: 0.8439 - val_loss: 0.3274 - val_accuracy: 0.8985\n",
      "Epoch 72/1000\n",
      "167/172 [============================>.] - ETA: 0s - loss: 0.4107 - accuracy: 0.8542\n",
      "Epoch 72: saving model to model/keypoint_classifier/keypoint_classifier.hdf5\n",
      "172/172 [==============================] - 1s 5ms/step - loss: 0.4103 - accuracy: 0.8550 - val_loss: 0.2856 - val_accuracy: 0.9241\n",
      "Epoch 73/1000\n",
      "159/172 [==========================>...] - ETA: 0s - loss: 0.4180 - accuracy: 0.8475\n",
      "Epoch 73: saving model to model/keypoint_classifier/keypoint_classifier.hdf5\n",
      "172/172 [==============================] - 1s 4ms/step - loss: 0.4209 - accuracy: 0.8466 - val_loss: 0.3543 - val_accuracy: 0.8766\n",
      "Epoch 74/1000\n",
      "170/172 [============================>.] - ETA: 0s - loss: 0.4154 - accuracy: 0.8528\n",
      "Epoch 74: saving model to model/keypoint_classifier/keypoint_classifier.hdf5\n",
      "172/172 [==============================] - 1s 5ms/step - loss: 0.4148 - accuracy: 0.8524 - val_loss: 0.3585 - val_accuracy: 0.8843\n",
      "Epoch 75/1000\n",
      "167/172 [============================>.] - ETA: 0s - loss: 0.4290 - accuracy: 0.8481\n",
      "Epoch 75: saving model to model/keypoint_classifier/keypoint_classifier.hdf5\n",
      "172/172 [==============================] - 1s 4ms/step - loss: 0.4289 - accuracy: 0.8482 - val_loss: 0.2837 - val_accuracy: 0.9329\n",
      "Epoch 76/1000\n",
      "172/172 [==============================] - ETA: 0s - loss: 0.4131 - accuracy: 0.8564\n",
      "Epoch 76: saving model to model/keypoint_classifier/keypoint_classifier.hdf5\n",
      "172/172 [==============================] - 1s 5ms/step - loss: 0.4131 - accuracy: 0.8564 - val_loss: 0.2711 - val_accuracy: 0.9247\n",
      "Epoch 77/1000\n",
      "160/172 [==========================>...] - ETA: 0s - loss: 0.4110 - accuracy: 0.8484\n",
      "Epoch 77: saving model to model/keypoint_classifier/keypoint_classifier.hdf5\n",
      "172/172 [==============================] - 1s 5ms/step - loss: 0.4114 - accuracy: 0.8493 - val_loss: 0.3138 - val_accuracy: 0.8968\n",
      "Epoch 78/1000\n",
      "168/172 [============================>.] - ETA: 0s - loss: 0.3883 - accuracy: 0.8618\n",
      "Epoch 78: saving model to model/keypoint_classifier/keypoint_classifier.hdf5\n",
      "172/172 [==============================] - 1s 5ms/step - loss: 0.3888 - accuracy: 0.8613 - val_loss: 0.2584 - val_accuracy: 0.9372\n",
      "Epoch 79/1000\n",
      "163/172 [===========================>..] - ETA: 0s - loss: 0.3923 - accuracy: 0.8637\n",
      "Epoch 79: saving model to model/keypoint_classifier/keypoint_classifier.hdf5\n",
      "172/172 [==============================] - 1s 5ms/step - loss: 0.3927 - accuracy: 0.8637 - val_loss: 0.3276 - val_accuracy: 0.9050\n",
      "Epoch 80/1000\n",
      "161/172 [===========================>..] - ETA: 0s - loss: 0.3882 - accuracy: 0.8663\n",
      "Epoch 80: saving model to model/keypoint_classifier/keypoint_classifier.hdf5\n",
      "172/172 [==============================] - 1s 5ms/step - loss: 0.3934 - accuracy: 0.8633 - val_loss: 0.2928 - val_accuracy: 0.9170\n",
      "Epoch 81/1000\n",
      "169/172 [============================>.] - ETA: 0s - loss: 0.3963 - accuracy: 0.8591\n",
      "Epoch 81: saving model to model/keypoint_classifier/keypoint_classifier.hdf5\n",
      "172/172 [==============================] - 1s 5ms/step - loss: 0.3943 - accuracy: 0.8597 - val_loss: 0.3708 - val_accuracy: 0.8805\n",
      "Epoch 82/1000\n",
      "163/172 [===========================>..] - ETA: 0s - loss: 0.3816 - accuracy: 0.8577\n",
      "Epoch 82: saving model to model/keypoint_classifier/keypoint_classifier.hdf5\n",
      "172/172 [==============================] - 1s 5ms/step - loss: 0.3810 - accuracy: 0.8577 - val_loss: 0.3060 - val_accuracy: 0.9050\n",
      "Epoch 83/1000\n",
      "163/172 [===========================>..] - ETA: 0s - loss: 0.3784 - accuracy: 0.8583\n",
      "Epoch 83: saving model to model/keypoint_classifier/keypoint_classifier.hdf5\n",
      "172/172 [==============================] - 1s 4ms/step - loss: 0.3781 - accuracy: 0.8588 - val_loss: 0.3371 - val_accuracy: 0.8832\n",
      "Epoch 84/1000\n",
      "155/172 [==========================>...] - ETA: 0s - loss: 0.3662 - accuracy: 0.8690\n",
      "Epoch 84: saving model to model/keypoint_classifier/keypoint_classifier.hdf5\n",
      "172/172 [==============================] - 1s 4ms/step - loss: 0.3682 - accuracy: 0.8695 - val_loss: 0.3435 - val_accuracy: 0.8805\n",
      "Epoch 85/1000\n",
      "172/172 [==============================] - ETA: 0s - loss: 0.3577 - accuracy: 0.8673\n",
      "Epoch 85: saving model to model/keypoint_classifier/keypoint_classifier.hdf5\n",
      "172/172 [==============================] - 1s 5ms/step - loss: 0.3577 - accuracy: 0.8673 - val_loss: 0.3141 - val_accuracy: 0.8957\n",
      "Epoch 86/1000\n",
      "164/172 [===========================>..] - ETA: 0s - loss: 0.3830 - accuracy: 0.8630\n",
      "Epoch 86: saving model to model/keypoint_classifier/keypoint_classifier.hdf5\n",
      "172/172 [==============================] - 1s 5ms/step - loss: 0.3822 - accuracy: 0.8637 - val_loss: 0.3452 - val_accuracy: 0.8766\n",
      "Epoch 87/1000\n",
      "162/172 [===========================>..] - ETA: 0s - loss: 0.3813 - accuracy: 0.8582\n",
      "Epoch 87: saving model to model/keypoint_classifier/keypoint_classifier.hdf5\n",
      "172/172 [==============================] - 1s 5ms/step - loss: 0.3806 - accuracy: 0.8599 - val_loss: 0.4222 - val_accuracy: 0.8614\n",
      "Epoch 88/1000\n",
      "172/172 [==============================] - ETA: 0s - loss: 0.3684 - accuracy: 0.8624\n",
      "Epoch 88: saving model to model/keypoint_classifier/keypoint_classifier.hdf5\n",
      "172/172 [==============================] - 1s 4ms/step - loss: 0.3684 - accuracy: 0.8624 - val_loss: 0.3882 - val_accuracy: 0.8799\n",
      "Epoch 89/1000\n",
      "165/172 [===========================>..] - ETA: 0s - loss: 0.3718 - accuracy: 0.8669\n",
      "Epoch 89: saving model to model/keypoint_classifier/keypoint_classifier.hdf5\n",
      "172/172 [==============================] - 1s 4ms/step - loss: 0.3762 - accuracy: 0.8646 - val_loss: 0.3035 - val_accuracy: 0.9099\n",
      "Epoch 90/1000\n",
      "156/172 [==========================>...] - ETA: 0s - loss: 0.3581 - accuracy: 0.8730\n",
      "Epoch 90: saving model to model/keypoint_classifier/keypoint_classifier.hdf5\n",
      "172/172 [==============================] - 1s 4ms/step - loss: 0.3599 - accuracy: 0.8724 - val_loss: 0.2910 - val_accuracy: 0.9023\n",
      "Epoch 91/1000\n",
      "164/172 [===========================>..] - ETA: 0s - loss: 0.3565 - accuracy: 0.8729\n",
      "Epoch 91: saving model to model/keypoint_classifier/keypoint_classifier.hdf5\n",
      "172/172 [==============================] - 1s 4ms/step - loss: 0.3575 - accuracy: 0.8722 - val_loss: 0.3479 - val_accuracy: 0.8936\n",
      "Epoch 92/1000\n",
      "163/172 [===========================>..] - ETA: 0s - loss: 0.3409 - accuracy: 0.8771\n",
      "Epoch 92: saving model to model/keypoint_classifier/keypoint_classifier.hdf5\n",
      "172/172 [==============================] - 1s 5ms/step - loss: 0.3411 - accuracy: 0.8770 - val_loss: 0.3234 - val_accuracy: 0.8936\n",
      "Epoch 93/1000\n",
      "172/172 [==============================] - ETA: 0s - loss: 0.3490 - accuracy: 0.8764\n",
      "Epoch 93: saving model to model/keypoint_classifier/keypoint_classifier.hdf5\n",
      "172/172 [==============================] - 1s 5ms/step - loss: 0.3490 - accuracy: 0.8764 - val_loss: 0.3879 - val_accuracy: 0.8739\n",
      "Epoch 94/1000\n",
      "160/172 [==========================>...] - ETA: 0s - loss: 0.3506 - accuracy: 0.8744\n",
      "Epoch 94: saving model to model/keypoint_classifier/keypoint_classifier.hdf5\n",
      "172/172 [==============================] - 1s 4ms/step - loss: 0.3477 - accuracy: 0.8755 - val_loss: 0.3156 - val_accuracy: 0.8957\n",
      "Epoch 95/1000\n",
      "168/172 [============================>.] - ETA: 0s - loss: 0.3454 - accuracy: 0.8752\n",
      "Epoch 95: saving model to model/keypoint_classifier/keypoint_classifier.hdf5\n",
      "172/172 [==============================] - 1s 4ms/step - loss: 0.3450 - accuracy: 0.8750 - val_loss: 0.2933 - val_accuracy: 0.8974\n",
      "Epoch 96/1000\n",
      "157/172 [==========================>...] - ETA: 0s - loss: 0.3388 - accuracy: 0.8768\n",
      "Epoch 96: saving model to model/keypoint_classifier/keypoint_classifier.hdf5\n",
      "172/172 [==============================] - 1s 4ms/step - loss: 0.3441 - accuracy: 0.8753 - val_loss: 0.3197 - val_accuracy: 0.8996\n",
      "Epoch 97/1000\n",
      "168/172 [============================>.] - ETA: 0s - loss: 0.3369 - accuracy: 0.8778\n",
      "Epoch 97: saving model to model/keypoint_classifier/keypoint_classifier.hdf5\n",
      "172/172 [==============================] - 1s 4ms/step - loss: 0.3345 - accuracy: 0.8784 - val_loss: 0.3662 - val_accuracy: 0.8630\n",
      "Epoch 98/1000\n",
      "159/172 [==========================>...] - ETA: 0s - loss: 0.3397 - accuracy: 0.8778\n",
      "Epoch 98: saving model to model/keypoint_classifier/keypoint_classifier.hdf5\n",
      "172/172 [==============================] - 1s 5ms/step - loss: 0.3406 - accuracy: 0.8772 - val_loss: 0.3306 - val_accuracy: 0.9001\n",
      "Epoch 98: early stopping\n"
     ]
    },
    {
     "data": {
      "text/plain": [
       "<keras.callbacks.History at 0x7fa063bafdc0>"
      ]
     },
     "execution_count": 11,
     "metadata": {},
     "output_type": "execute_result"
    }
   ],
   "source": [
    "model.fit(\n",
    "    X_train,\n",
    "    y_train,\n",
    "    epochs=1000,\n",
    "    batch_size=32,\n",
    "    validation_data=(X_test, y_test),\n",
    "    callbacks=[cp_callback, es_callback]\n",
    ")"
   ]
  },
  {
   "cell_type": "code",
   "execution_count": 12,
   "metadata": {
    "colab": {
     "base_uri": "https://localhost:8080/"
    },
    "id": "pxvb2Y299hE3",
    "outputId": "59eb3185-2e37-4b9e-bc9d-ab1b8ac29b7f"
   },
   "outputs": [
    {
     "name": "stdout",
     "output_type": "stream",
     "text": [
      "58/58 [==============================] - 0s 2ms/step - loss: 0.3306 - accuracy: 0.9001\n"
     ]
    }
   ],
   "source": [
    "# Model evaluation\n",
    "val_loss, val_acc = model.evaluate(X_test, y_test, batch_size=32)"
   ]
  },
  {
   "cell_type": "code",
   "execution_count": 13,
   "metadata": {
    "id": "RBkmDeUW9hE4"
   },
   "outputs": [],
   "source": [
    "# Loading the saved model\n",
    "model = tf.keras.models.load_model(model_save_path)"
   ]
  },
  {
   "cell_type": "code",
   "execution_count": 14,
   "metadata": {
    "colab": {
     "base_uri": "https://localhost:8080/"
    },
    "id": "tFz9Tb0I9hE4",
    "outputId": "1c3b3528-54ae-4ee2-ab04-77429211cbef"
   },
   "outputs": [
    {
     "name": "stdout",
     "output_type": "stream",
     "text": [
      "[1.37194206e-06 9.98054929e-07 2.21720416e-04 9.78291059e-12\n",
      " 8.54267837e-11 6.96683564e-05 1.85479189e-06 1.57838118e-11\n",
      " 1.64118974e-05 3.92083891e-12 9.58229157e-06 9.05742763e-06\n",
      " 1.01001099e-01 1.63404831e-10 1.54222676e-11 1.12227017e-05\n",
      " 3.05863950e-13 1.16447965e-12 2.27908768e-05 1.93665386e-04\n",
      " 8.07290554e-01 1.30790090e-06 2.60259103e-09 1.98962097e-11\n",
      " 8.83129314e-02 1.15140188e-06 1.55834891e-06 5.14405713e-07\n",
      " 1.13213730e-07 1.58099422e-10 4.84709526e-05 9.99567565e-05\n",
      " 5.00351973e-07 2.51302775e-03 2.65771161e-09 2.39447545e-05\n",
      " 2.52389436e-05 4.15111279e-10 2.02588519e-11 3.27176899e-08\n",
      " 4.02345345e-12 1.37857405e-05 5.55048736e-08 3.70659041e-06\n",
      " 5.57814519e-06 2.73733503e-14 1.53304189e-10 9.74884369e-06\n",
      " 5.34402716e-07 1.95446775e-15 1.69898405e-12 1.62902036e-09\n",
      " 2.59212338e-05 1.33393235e-06 6.06048161e-05 7.46721851e-11]\n",
      "20\n"
     ]
    }
   ],
   "source": [
    "# Inference test\n",
    "predict_result = model.predict(np.array([X_test[0]]))\n",
    "print(np.squeeze(predict_result))\n",
    "print(np.argmax(np.squeeze(predict_result)))"
   ]
  },
  {
   "cell_type": "markdown",
   "metadata": {
    "id": "S3U4yNWx9hE4"
   },
   "source": [
    "# 5. Check Trained Model"
   ]
  },
  {
   "cell_type": "code",
   "execution_count": 15,
   "metadata": {
    "colab": {
     "base_uri": "https://localhost:8080/",
     "height": 582
    },
    "id": "AP1V6SCk9hE5",
    "outputId": "08e41a80-7a4a-4619-8125-ecc371368d19"
   },
   "outputs": [
    {
     "data": {
      "image/png": "[encoded data removed]",
      "text/plain": [
       "<Figure size 504x432 with 2 Axes>"
      ]
     },
     "metadata": {
      "needs_background": "light"
     },
     "output_type": "display_data"
    },
    {
     "name": "stdout",
     "output_type": "stream",
     "text": [
      "Classification Report\n",
      "              precision    recall  f1-score   support\n",
      "\n",
      "           0       0.95      1.00      0.98        40\n",
      "           1       0.85      1.00      0.92        57\n",
      "           2       0.88      0.83      0.85        42\n",
      "           3       1.00      0.92      0.96        38\n",
      "           4       1.00      0.72      0.84        43\n",
      "           5       0.59      1.00      0.75        38\n",
      "           6       1.00      0.98      0.99        62\n",
      "           7       1.00      1.00      1.00        63\n",
      "           8       1.00      1.00      1.00        58\n",
      "           9       0.94      1.00      0.97        30\n",
      "          10       1.00      1.00      1.00        27\n",
      "          11       0.86      1.00      0.93        25\n",
      "          12       0.79      0.95      0.86        20\n",
      "          13       0.91      0.59      0.72        54\n",
      "          14       0.66      0.97      0.79        40\n",
      "          15       1.00      0.51      0.67        53\n",
      "          16       1.00      1.00      1.00        13\n",
      "          17       1.00      1.00      1.00        24\n",
      "          18       0.86      1.00      0.92        48\n",
      "          19       0.88      0.85      0.87        34\n",
      "          20       0.95      0.81      0.88        26\n",
      "          21       1.00      0.71      0.83        45\n",
      "          22       0.68      0.90      0.78        21\n",
      "          23       0.89      1.00      0.94        41\n",
      "          24       0.82      0.56      0.67        16\n",
      "          25       1.00      0.83      0.91        18\n",
      "          26       0.88      0.41      0.56        17\n",
      "          27       0.95      1.00      0.98        20\n",
      "          28       0.81      0.96      0.88        45\n",
      "          29       1.00      1.00      1.00        33\n",
      "          30       1.00      0.98      0.99        42\n",
      "          31       0.96      0.96      0.96        26\n",
      "          32       1.00      0.62      0.77        45\n",
      "          33       0.70      0.89      0.79        37\n",
      "          34       0.98      1.00      0.99        40\n",
      "          35       0.82      0.94      0.87        33\n",
      "          36       1.00      1.00      1.00        17\n",
      "          37       0.83      1.00      0.91        25\n",
      "          38       0.94      1.00      0.97        33\n",
      "          39       1.00      0.95      0.98        21\n",
      "          40       0.92      0.92      0.92        26\n",
      "          41       1.00      0.86      0.92        28\n",
      "          42       1.00      0.91      0.95        22\n",
      "          43       0.95      1.00      0.97        36\n",
      "          44       0.95      0.85      0.90        47\n",
      "          45       1.00      0.93      0.97        30\n",
      "          46       1.00      0.92      0.96        25\n",
      "          47       0.95      0.83      0.89        24\n",
      "          48       0.63      1.00      0.78        19\n",
      "          49       1.00      1.00      1.00        20\n",
      "          50       0.84      0.96      0.90        27\n",
      "          51       1.00      0.90      0.95        21\n",
      "          52       1.00      0.85      0.92        33\n",
      "          53       1.00      0.89      0.94        19\n",
      "          54       0.68      0.96      0.79        26\n",
      "          55       1.00      0.84      0.91        19\n",
      "\n",
      "    accuracy                           0.90      1832\n",
      "   macro avg       0.92      0.90      0.90      1832\n",
      "weighted avg       0.92      0.90      0.90      1832\n",
      "\n"
     ]
    }
   ],
   "source": [
    "import pandas as pd\n",
    "import seaborn as sns\n",
    "import matplotlib.pyplot as plt\n",
    "from sklearn.metrics import confusion_matrix, classification_report\n",
    "\n",
    "def print_confusion_matrix(y_true, y_pred, report=True):\n",
    "    labels = sorted(list(set(y_true)))\n",
    "    cmx_data = confusion_matrix(y_true, y_pred, labels=labels)\n",
    "    \n",
    "    df_cmx = pd.DataFrame(cmx_data, index=labels, columns=labels)\n",
    " \n",
    "    fig, ax = plt.subplots(figsize=(7, 6))\n",
    "    sns.heatmap(df_cmx, annot=True, fmt='g' ,square=False)\n",
    "    ax.set_ylim(len(set(y_true)), 0)\n",
    "    plt.show()\n",
    "    \n",
    "    if report:\n",
    "        print('Classification Report')\n",
    "        print(classification_report(y_test, y_pred))\n",
    "\n",
    "Y_pred = model.predict(X_test)\n",
    "y_pred = np.argmax(Y_pred, axis=1)\n",
    "\n",
    "print_confusion_matrix(y_test, y_pred)"
   ]
  },
  {
   "cell_type": "markdown",
   "metadata": {
    "id": "FNP6aqzc9hE5"
   },
   "source": [
    "# 6. Check Trained Model"
   ]
  },
  {
   "cell_type": "code",
   "execution_count": 16,
   "metadata": {
    "id": "ODjnYyld9hE6"
   },
   "outputs": [],
   "source": [
    "# Save as a model dedicated to inference\n",
    "model.save(model_save_path, include_optimizer=False)"
   ]
  },
  {
   "cell_type": "code",
   "execution_count": 17,
   "metadata": {
    "colab": {
     "base_uri": "https://localhost:8080/"
    },
    "id": "zRfuK8Y59hE6",
    "outputId": "a4ca585c-b5d5-4244-8291-8674063209bb"
   },
   "outputs": [
    {
     "name": "stdout",
     "output_type": "stream",
     "text": [
      "INFO:tensorflow:Assets written to: /var/folders/fr/jbv693556wl33l33vy0f6c080000gn/T/tmpysncchal/assets\n"
     ]
    },
    {
     "data": {
      "text/plain": [
       "54424"
      ]
     },
     "execution_count": 17,
     "metadata": {},
     "output_type": "execute_result"
    }
   ],
   "source": [
    "# Transform model (quantization)\n",
    "\n",
    "converter = tf.lite.TFLiteConverter.from_keras_model(model)\n",
    "converter.optimizations = [tf.lite.Optimize.DEFAULT]\n",
    "tflite_quantized_model = converter.convert()\n",
    "\n",
    "open(tflite_save_path, 'wb').write(tflite_quantized_model)"
   ]
  },
  {
   "cell_type": "markdown",
   "metadata": {
    "id": "CHBPBXdx9hE6"
   },
   "source": [
    "# Inference test"
   ]
  },
  {
   "cell_type": "code",
   "execution_count": 18,
   "metadata": {
    "id": "mGAzLocO9hE7"
   },
   "outputs": [],
   "source": [
    "interpreter = tf.lite.Interpreter(model_path=tflite_save_path)\n",
    "interpreter.allocate_tensors()"
   ]
  },
  {
   "cell_type": "code",
   "execution_count": 19,
   "metadata": {
    "id": "oQuDK8YS9hE7"
   },
   "outputs": [],
   "source": [
    "# Get I / O tensor\n",
    "input_details = interpreter.get_input_details()\n",
    "output_details = interpreter.get_output_details()"
   ]
  },
  {
   "cell_type": "code",
   "execution_count": 20,
   "metadata": {
    "id": "2_ixAf_l9hE7"
   },
   "outputs": [],
   "source": [
    "interpreter.set_tensor(input_details[0]['index'], np.array([X_test[0]]))"
   ]
  },
  {
   "cell_type": "code",
   "execution_count": 21,
   "metadata": {
    "colab": {
     "base_uri": "https://localhost:8080/"
    },
    "id": "s4FoAnuc9hE7",
    "outputId": "91f18257-8d8b-4ef3-c558-e9b5f94fabbf",
    "scrolled": true
   },
   "outputs": [
    {
     "name": "stdout",
     "output_type": "stream",
     "text": [
      "CPU times: user 294 µs, sys: 769 µs, total: 1.06 ms\n",
      "Wall time: 1.06 ms\n"
     ]
    }
   ],
   "source": [
    "%%time\n",
    "# Inference implementation\n",
    "interpreter.invoke()\n",
    "tflite_results = interpreter.get_tensor(output_details[0]['index'])"
   ]
  },
  {
   "cell_type": "code",
   "execution_count": 22,
   "metadata": {
    "colab": {
     "base_uri": "https://localhost:8080/"
    },
    "id": "vONjp19J9hE8",
    "outputId": "77205e24-fd00-42c4-f7b6-e06e527c2cba"
   },
   "outputs": [
    {
     "name": "stdout",
     "output_type": "stream",
     "text": [
      "[1.30049159e-06 8.85794009e-07 2.00101669e-04 9.96687281e-12\n",
      " 8.25731775e-11 6.31622897e-05 1.88062927e-06 1.60871524e-11\n",
      " 1.45604608e-05 4.28862891e-12 8.05784657e-06 9.32096100e-06\n",
      " 8.77397805e-02 1.59397592e-10 1.47314314e-11 1.10527235e-05\n",
      " 2.98367098e-13 1.13430977e-12 1.93840060e-05 1.86013436e-04\n",
      " 8.11717868e-01 1.18025980e-06 2.81197088e-09 2.27335616e-11\n",
      " 9.72308740e-02 1.00084662e-06 1.66945028e-06 4.51643359e-07\n",
      " 1.08195700e-07 1.43207751e-10 4.48298779e-05 9.89781838e-05\n",
      " 4.69400135e-07 2.48417375e-03 2.25363728e-09 2.11950664e-05\n",
      " 2.18942678e-05 4.13780399e-10 1.99409430e-11 3.20332276e-08\n",
      " 3.56351081e-12 1.27862895e-05 4.84823843e-08 3.01645241e-06\n",
      " 6.09867948e-06 2.69045108e-14 1.41865020e-10 9.60105081e-06\n",
      " 5.17446324e-07 1.52356261e-15 1.78297503e-12 1.43040757e-09\n",
      " 2.52474401e-05 1.39147119e-06 6.10393763e-05 5.88745580e-11]\n",
      "20\n"
     ]
    }
   ],
   "source": [
    "print(np.squeeze(tflite_results))\n",
    "print(np.argmax(np.squeeze(tflite_results)))"
   ]
  },
  {
   "cell_type": "code",
   "execution_count": null,
   "metadata": {},
   "outputs": [],
   "source": []
  }
 ],
 "metadata": {
  "accelerator": "GPU",
  "colab": {
   "collapsed_sections": [],
   "name": "keypoint_classification_EN.ipynb",
   "provenance": [],
   "toc_visible": true
  },
  "kernelspec": {
   "display_name": "Python 3",
   "language": "python",
   "name": "python3"
  },
  "language_info": {
   "codemirror_mode": {
    "name": "ipython",
    "version": 3
   },
   "file_extension": ".py",
   "mimetype": "text/x-python",
   "name": "python",
   "nbconvert_exporter": "python",
   "pygments_lexer": "ipython3",
   "version": "3.8.8"
  }
 },
 "nbformat": 4,
 "nbformat_minor": 4
}
