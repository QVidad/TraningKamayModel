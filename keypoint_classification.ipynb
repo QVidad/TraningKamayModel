{
 "cells": [
  {
   "cell_type": "code",
   "execution_count": 1,
   "metadata": {
    "id": "igMyGnjE9hEp"
   },
   "outputs": [],
   "source": [
    "import csv\n",
    "import numpy as np\n",
    "import tensorflow as tf\n",
    "from sklearn.model_selection import train_test_split"
   ]
  },
  {
   "cell_type": "markdown",
   "metadata": {
    "id": "t2HDvhIu9hEr"
   },
   "source": [
    "# 1. Specify Pathfile"
   ]
  },
  {
   "cell_type": "code",
   "execution_count": 2,
   "metadata": {
    "id": "9NvZP2Zn9hEy"
   },
   "outputs": [],
   "source": [
    "dataset = 'model/keypoint_classifier/keypoint.csv'\n",
    "model_save_path = 'model/keypoint_classifier/keypoint_classifier.hdf5'\n",
    "tflite_save_path = 'model/keypoint_classifier/keypoint_classifier.tflite'"
   ]
  },
  {
   "cell_type": "markdown",
   "metadata": {
    "id": "s5oMH7x19hEz"
   },
   "source": [
    "# 2. Specify Number of Classes"
   ]
  },
  {
   "cell_type": "code",
   "execution_count": 3,
   "metadata": {
    "id": "du4kodXL9hEz"
   },
   "outputs": [],
   "source": [
    "NUM_CLASSES = 56"
   ]
  },
  {
   "cell_type": "markdown",
   "metadata": {
    "id": "XjnL0uso9hEz"
   },
   "source": [
    "# 3. Reading Dataset"
   ]
  },
  {
   "cell_type": "code",
   "execution_count": 4,
   "metadata": {
    "id": "QT5ZqtEz9hE0"
   },
   "outputs": [],
   "source": [
    "X_dataset = np.loadtxt(dataset, delimiter=',', dtype='float32', usecols=list(range(1, (21 * 2)+1)))\n",
    "y_dataset = np.loadtxt(dataset, delimiter=',', dtype='int32', usecols=(0))\n",
    "X_train, X_test, y_train, y_test = train_test_split(X_dataset, y_dataset, train_size=0.75, random_state=42)"
   ]
  },
  {
   "cell_type": "markdown",
   "metadata": {
    "id": "mxK_lETT9hE0"
   },
   "source": [
    "# 4. Training Model"
   ]
  },
  {
   "cell_type": "code",
   "execution_count": 5,
   "metadata": {
    "id": "vHBmUf1t9hE1"
   },
   "outputs": [],
   "source": [
    "model = tf.keras.models.Sequential([\n",
    "    tf.keras.layers.Input((21 * 2, )),\n",
    "    tf.keras.layers.Dropout(0.2),\n",
    "    tf.keras.layers.Dense(256, activation='relu'),\n",
    "    tf.keras.layers.Dropout(0.4),\n",
    "    tf.keras.layers.Dense(128, activation='relu'),\n",
    "    tf.keras.layers.Dense(NUM_CLASSES, activation='softmax')\n",
    "])"
   ]
  },
  {
   "cell_type": "code",
   "execution_count": 6,
   "metadata": {
    "colab": {
     "base_uri": "https://localhost:8080/"
    },
    "id": "ypqky9tc9hE1",
    "outputId": "5db082bb-30e3-4110-bf63-a1ee777ecd46"
   },
   "outputs": [
    {
     "name": "stdout",
     "output_type": "stream",
     "text": [
      "Model: \"sequential\"\n",
      "_________________________________________________________________\n",
      " Layer (type)                Output Shape              Param #   \n",
      "=================================================================\n",
      " dropout (Dropout)           (None, 42)                0         \n",
      "                                                                 \n",
      " dense (Dense)               (None, 256)               11008     \n",
      "                                                                 \n",
      " dropout_1 (Dropout)         (None, 256)               0         \n",
      "                                                                 \n",
      " dense_1 (Dense)             (None, 128)               32896     \n",
      "                                                                 \n",
      " dense_2 (Dense)             (None, 56)                7224      \n",
      "                                                                 \n",
      "=================================================================\n",
      "Total params: 51,128\n",
      "Trainable params: 51,128\n",
      "Non-trainable params: 0\n",
      "_________________________________________________________________\n"
     ]
    }
   ],
   "source": [
    "model.summary()  # tf.keras.utils.plot_model(model, show_shapes=True)"
   ]
  },
  {
   "cell_type": "code",
   "execution_count": 7,
   "metadata": {
    "id": "MbMjOflQ9hE1"
   },
   "outputs": [],
   "source": [
    "# Model checkpoint callback\n",
    "cp_callback = tf.keras.callbacks.ModelCheckpoint(\n",
    "    model_save_path, verbose=1, save_weights_only=False)\n",
    "# Callback for early stopping\n",
    "es_callback = tf.keras.callbacks.EarlyStopping(patience=20, verbose=1)"
   ]
  },
  {
   "cell_type": "code",
   "execution_count": 8,
   "metadata": {
    "id": "c3Dac0M_9hE2"
   },
   "outputs": [],
   "source": [
    "# Model compilation\n",
    "model.compile(\n",
    "    optimizer='adam',\n",
    "    loss='sparse_categorical_crossentropy',\n",
    "    metrics=['accuracy']\n",
    ")"
   ]
  },
  {
   "cell_type": "code",
   "execution_count": 9,
   "metadata": {
    "colab": {
     "base_uri": "https://localhost:8080/"
    },
    "id": "WirBl-JE9hE3",
    "outputId": "71b30ca2-8294-4d9d-8aa2-800d90d399de",
    "scrolled": true
   },
   "outputs": [
    {
     "name": "stdout",
     "output_type": "stream",
     "text": [
      "Epoch 1/1000\n",
      "167/172 [============================>.] - ETA: 0s - loss: 3.3457 - accuracy: 0.1330\n",
      "Epoch 1: saving model to model/keypoint_classifier/keypoint_classifier.hdf5\n",
      "172/172 [==============================] - 1s 3ms/step - loss: 3.3297 - accuracy: 0.1338 - val_loss: 2.5492 - val_accuracy: 0.3362\n",
      "Epoch 2/1000\n",
      "163/172 [===========================>..] - ETA: 0s - loss: 2.3807 - accuracy: 0.2818\n",
      "Epoch 2: saving model to model/keypoint_classifier/keypoint_classifier.hdf5\n",
      "172/172 [==============================] - 0s 2ms/step - loss: 2.3660 - accuracy: 0.2846 - val_loss: 1.7810 - val_accuracy: 0.4864\n",
      "Epoch 3/1000\n",
      "161/172 [===========================>..] - ETA: 0s - loss: 1.9446 - accuracy: 0.3903\n",
      "Epoch 3: saving model to model/keypoint_classifier/keypoint_classifier.hdf5\n",
      "172/172 [==============================] - 0s 2ms/step - loss: 1.9365 - accuracy: 0.3914 - val_loss: 1.3357 - val_accuracy: 0.6130\n",
      "Epoch 4/1000\n",
      "167/172 [============================>.] - ETA: 0s - loss: 1.7330 - accuracy: 0.4328\n",
      "Epoch 4: saving model to model/keypoint_classifier/keypoint_classifier.hdf5\n",
      "172/172 [==============================] - 0s 2ms/step - loss: 1.7322 - accuracy: 0.4328 - val_loss: 1.1692 - val_accuracy: 0.6326\n",
      "Epoch 5/1000\n",
      "151/172 [=========================>....] - ETA: 0s - loss: 1.5679 - accuracy: 0.4789\n",
      "Epoch 5: saving model to model/keypoint_classifier/keypoint_classifier.hdf5\n",
      "172/172 [==============================] - 0s 2ms/step - loss: 1.5669 - accuracy: 0.4792 - val_loss: 1.0302 - val_accuracy: 0.6763\n",
      "Epoch 6/1000\n",
      "158/172 [==========================>...] - ETA: 0s - loss: 1.4614 - accuracy: 0.5063\n",
      "Epoch 6: saving model to model/keypoint_classifier/keypoint_classifier.hdf5\n",
      "172/172 [==============================] - 0s 2ms/step - loss: 1.4606 - accuracy: 0.5074 - val_loss: 0.8954 - val_accuracy: 0.7271\n",
      "Epoch 7/1000\n",
      "172/172 [==============================] - ETA: 0s - loss: 1.3843 - accuracy: 0.5310\n",
      "Epoch 7: saving model to model/keypoint_classifier/keypoint_classifier.hdf5\n",
      "172/172 [==============================] - 0s 2ms/step - loss: 1.3843 - accuracy: 0.5310 - val_loss: 0.8345 - val_accuracy: 0.7189\n",
      "Epoch 8/1000\n",
      "157/172 [==========================>...] - ETA: 0s - loss: 1.3135 - accuracy: 0.5520\n",
      "Epoch 8: saving model to model/keypoint_classifier/keypoint_classifier.hdf5\n",
      "172/172 [==============================] - 0s 3ms/step - loss: 1.3053 - accuracy: 0.5545 - val_loss: 0.7705 - val_accuracy: 0.7849\n",
      "Epoch 9/1000\n",
      "171/172 [============================>.] - ETA: 0s - loss: 1.2590 - accuracy: 0.5629\n",
      "Epoch 9: saving model to model/keypoint_classifier/keypoint_classifier.hdf5\n",
      "172/172 [==============================] - 0s 2ms/step - loss: 1.2592 - accuracy: 0.5632 - val_loss: 0.7357 - val_accuracy: 0.7784\n",
      "Epoch 10/1000\n",
      "168/172 [============================>.] - ETA: 0s - loss: 1.1976 - accuracy: 0.5841\n",
      "Epoch 10: saving model to model/keypoint_classifier/keypoint_classifier.hdf5\n",
      "172/172 [==============================] - 0s 2ms/step - loss: 1.1958 - accuracy: 0.5853 - val_loss: 0.6987 - val_accuracy: 0.8231\n",
      "Epoch 11/1000\n",
      "149/172 [========================>.....] - ETA: 0s - loss: 1.1703 - accuracy: 0.5896\n",
      "Epoch 11: saving model to model/keypoint_classifier/keypoint_classifier.hdf5\n",
      "172/172 [==============================] - 1s 3ms/step - loss: 1.1605 - accuracy: 0.5914 - val_loss: 0.6479 - val_accuracy: 0.8150\n",
      "Epoch 12/1000\n",
      "164/172 [===========================>..] - ETA: 0s - loss: 1.1043 - accuracy: 0.6094\n",
      "Epoch 12: saving model to model/keypoint_classifier/keypoint_classifier.hdf5\n",
      "172/172 [==============================] - 0s 2ms/step - loss: 1.1009 - accuracy: 0.6106 - val_loss: 0.6419 - val_accuracy: 0.7986\n",
      "Epoch 13/1000\n",
      "143/172 [=======================>......] - ETA: 0s - loss: 1.0615 - accuracy: 0.6298\n",
      "Epoch 13: saving model to model/keypoint_classifier/keypoint_classifier.hdf5\n",
      "172/172 [==============================] - 0s 2ms/step - loss: 1.0625 - accuracy: 0.6291 - val_loss: 0.6024 - val_accuracy: 0.8362\n",
      "Epoch 14/1000\n",
      "166/172 [===========================>..] - ETA: 0s - loss: 1.0397 - accuracy: 0.6346\n",
      "Epoch 14: saving model to model/keypoint_classifier/keypoint_classifier.hdf5\n",
      "172/172 [==============================] - 0s 2ms/step - loss: 1.0427 - accuracy: 0.6326 - val_loss: 0.6017 - val_accuracy: 0.8302\n",
      "Epoch 15/1000\n",
      "148/172 [========================>.....] - ETA: 0s - loss: 1.0145 - accuracy: 0.6303\n",
      "Epoch 15: saving model to model/keypoint_classifier/keypoint_classifier.hdf5\n",
      "172/172 [==============================] - 0s 2ms/step - loss: 1.0049 - accuracy: 0.6364 - val_loss: 0.5838 - val_accuracy: 0.8150\n",
      "Epoch 16/1000\n",
      "164/172 [===========================>..] - ETA: 0s - loss: 0.9958 - accuracy: 0.6366\n",
      "Epoch 16: saving model to model/keypoint_classifier/keypoint_classifier.hdf5\n",
      "172/172 [==============================] - 1s 4ms/step - loss: 0.9994 - accuracy: 0.6360 - val_loss: 0.5583 - val_accuracy: 0.8242\n",
      "Epoch 17/1000\n",
      "172/172 [==============================] - ETA: 0s - loss: 0.9728 - accuracy: 0.6433\n",
      "Epoch 17: saving model to model/keypoint_classifier/keypoint_classifier.hdf5\n",
      "172/172 [==============================] - 1s 3ms/step - loss: 0.9728 - accuracy: 0.6433 - val_loss: 0.5505 - val_accuracy: 0.8395\n",
      "Epoch 18/1000\n",
      "159/172 [==========================>...] - ETA: 0s - loss: 0.9381 - accuracy: 0.6641\n",
      "Epoch 18: saving model to model/keypoint_classifier/keypoint_classifier.hdf5\n",
      "172/172 [==============================] - 0s 2ms/step - loss: 0.9346 - accuracy: 0.6650 - val_loss: 0.5362 - val_accuracy: 0.8477\n",
      "Epoch 19/1000\n",
      "161/172 [===========================>..] - ETA: 0s - loss: 0.9026 - accuracy: 0.6778\n",
      "Epoch 19: saving model to model/keypoint_classifier/keypoint_classifier.hdf5\n",
      "172/172 [==============================] - 1s 3ms/step - loss: 0.9026 - accuracy: 0.6792 - val_loss: 0.5238 - val_accuracy: 0.8368\n",
      "Epoch 20/1000\n",
      "151/172 [=========================>....] - ETA: 0s - loss: 0.9133 - accuracy: 0.6757\n",
      "Epoch 20: saving model to model/keypoint_classifier/keypoint_classifier.hdf5\n",
      "172/172 [==============================] - 0s 2ms/step - loss: 0.9071 - accuracy: 0.6777 - val_loss: 0.4790 - val_accuracy: 0.8788\n",
      "Epoch 21/1000\n",
      "152/172 [=========================>....] - ETA: 0s - loss: 0.8766 - accuracy: 0.6908\n",
      "Epoch 21: saving model to model/keypoint_classifier/keypoint_classifier.hdf5\n",
      "172/172 [==============================] - 0s 2ms/step - loss: 0.8718 - accuracy: 0.6914 - val_loss: 0.4826 - val_accuracy: 0.8821\n",
      "Epoch 22/1000\n",
      "149/172 [========================>.....] - ETA: 0s - loss: 0.8628 - accuracy: 0.6839\n",
      "Epoch 22: saving model to model/keypoint_classifier/keypoint_classifier.hdf5\n",
      "172/172 [==============================] - 0s 2ms/step - loss: 0.8647 - accuracy: 0.6852 - val_loss: 0.5261 - val_accuracy: 0.8477\n",
      "Epoch 23/1000\n",
      "148/172 [========================>.....] - ETA: 0s - loss: 0.8206 - accuracy: 0.7031\n",
      "Epoch 23: saving model to model/keypoint_classifier/keypoint_classifier.hdf5\n",
      "172/172 [==============================] - 0s 2ms/step - loss: 0.8288 - accuracy: 0.7021 - val_loss: 0.4688 - val_accuracy: 0.8684\n",
      "Epoch 24/1000\n",
      "149/172 [========================>.....] - ETA: 0s - loss: 0.8028 - accuracy: 0.7104\n",
      "Epoch 24: saving model to model/keypoint_classifier/keypoint_classifier.hdf5\n",
      "172/172 [==============================] - 0s 2ms/step - loss: 0.8099 - accuracy: 0.7085 - val_loss: 0.4731 - val_accuracy: 0.8652\n",
      "Epoch 25/1000\n",
      "155/172 [==========================>...] - ETA: 0s - loss: 0.7932 - accuracy: 0.7123\n",
      "Epoch 25: saving model to model/keypoint_classifier/keypoint_classifier.hdf5\n",
      "172/172 [==============================] - 0s 2ms/step - loss: 0.7946 - accuracy: 0.7092 - val_loss: 0.4983 - val_accuracy: 0.8526\n",
      "Epoch 26/1000\n",
      "154/172 [=========================>....] - ETA: 0s - loss: 0.7828 - accuracy: 0.7177\n",
      "Epoch 26: saving model to model/keypoint_classifier/keypoint_classifier.hdf5\n",
      "172/172 [==============================] - 0s 2ms/step - loss: 0.7899 - accuracy: 0.7159 - val_loss: 0.4338 - val_accuracy: 0.8837\n",
      "Epoch 27/1000\n",
      "150/172 [=========================>....] - ETA: 0s - loss: 0.7406 - accuracy: 0.7346\n",
      "Epoch 27: saving model to model/keypoint_classifier/keypoint_classifier.hdf5\n",
      "172/172 [==============================] - 0s 2ms/step - loss: 0.7471 - accuracy: 0.7334 - val_loss: 0.4407 - val_accuracy: 0.8745\n",
      "Epoch 28/1000\n",
      "150/172 [=========================>....] - ETA: 0s - loss: 0.7307 - accuracy: 0.7423\n",
      "Epoch 28: saving model to model/keypoint_classifier/keypoint_classifier.hdf5\n",
      "172/172 [==============================] - 0s 2ms/step - loss: 0.7323 - accuracy: 0.7418 - val_loss: 0.4521 - val_accuracy: 0.8805\n",
      "Epoch 29/1000\n",
      "154/172 [=========================>....] - ETA: 0s - loss: 0.7522 - accuracy: 0.7297\n",
      "Epoch 29: saving model to model/keypoint_classifier/keypoint_classifier.hdf5\n",
      "172/172 [==============================] - 0s 2ms/step - loss: 0.7470 - accuracy: 0.7345 - val_loss: 0.4116 - val_accuracy: 0.8859\n",
      "Epoch 30/1000\n",
      "155/172 [==========================>...] - ETA: 0s - loss: 0.6993 - accuracy: 0.7446\n",
      "Epoch 30: saving model to model/keypoint_classifier/keypoint_classifier.hdf5\n",
      "172/172 [==============================] - 0s 2ms/step - loss: 0.6943 - accuracy: 0.7481 - val_loss: 0.4322 - val_accuracy: 0.8876\n",
      "Epoch 31/1000\n",
      "149/172 [========================>.....] - ETA: 0s - loss: 0.7110 - accuracy: 0.7460\n",
      "Epoch 31: saving model to model/keypoint_classifier/keypoint_classifier.hdf5\n",
      "172/172 [==============================] - 0s 2ms/step - loss: 0.7143 - accuracy: 0.7412 - val_loss: 0.4196 - val_accuracy: 0.8816\n",
      "Epoch 32/1000\n",
      "150/172 [=========================>....] - ETA: 0s - loss: 0.6949 - accuracy: 0.7500\n",
      "Epoch 32: saving model to model/keypoint_classifier/keypoint_classifier.hdf5\n",
      "172/172 [==============================] - 0s 2ms/step - loss: 0.7055 - accuracy: 0.7441 - val_loss: 0.4197 - val_accuracy: 0.8941\n",
      "Epoch 33/1000\n",
      "149/172 [========================>.....] - ETA: 0s - loss: 0.6846 - accuracy: 0.7573\n",
      "Epoch 33: saving model to model/keypoint_classifier/keypoint_classifier.hdf5\n",
      "172/172 [==============================] - 0s 2ms/step - loss: 0.6875 - accuracy: 0.7551 - val_loss: 0.4433 - val_accuracy: 0.8663\n",
      "Epoch 34/1000\n",
      "146/172 [========================>.....] - ETA: 0s - loss: 0.6709 - accuracy: 0.7586\n",
      "Epoch 34: saving model to model/keypoint_classifier/keypoint_classifier.hdf5\n",
      "172/172 [==============================] - 0s 2ms/step - loss: 0.6729 - accuracy: 0.7587 - val_loss: 0.4289 - val_accuracy: 0.8668\n",
      "Epoch 35/1000\n",
      "150/172 [=========================>....] - ETA: 0s - loss: 0.6422 - accuracy: 0.7656\n",
      "Epoch 35: saving model to model/keypoint_classifier/keypoint_classifier.hdf5\n",
      "172/172 [==============================] - 0s 2ms/step - loss: 0.6462 - accuracy: 0.7627 - val_loss: 0.3985 - val_accuracy: 0.8963\n",
      "Epoch 36/1000\n",
      "149/172 [========================>.....] - ETA: 0s - loss: 0.6356 - accuracy: 0.7693\n",
      "Epoch 36: saving model to model/keypoint_classifier/keypoint_classifier.hdf5\n",
      "172/172 [==============================] - 0s 2ms/step - loss: 0.6308 - accuracy: 0.7725 - val_loss: 0.3796 - val_accuracy: 0.8892\n",
      "Epoch 37/1000\n",
      "166/172 [===========================>..] - ETA: 0s - loss: 0.6342 - accuracy: 0.7713\n",
      "Epoch 37: saving model to model/keypoint_classifier/keypoint_classifier.hdf5\n",
      "172/172 [==============================] - 0s 2ms/step - loss: 0.6345 - accuracy: 0.7709 - val_loss: 0.3798 - val_accuracy: 0.9023\n",
      "Epoch 38/1000\n",
      "172/172 [==============================] - ETA: 0s - loss: 0.6290 - accuracy: 0.7687\n",
      "Epoch 38: saving model to model/keypoint_classifier/keypoint_classifier.hdf5\n",
      "172/172 [==============================] - 0s 2ms/step - loss: 0.6290 - accuracy: 0.7687 - val_loss: 0.4005 - val_accuracy: 0.8952\n",
      "Epoch 39/1000\n",
      "169/172 [============================>.] - ETA: 0s - loss: 0.6179 - accuracy: 0.7722\n",
      "Epoch 39: saving model to model/keypoint_classifier/keypoint_classifier.hdf5\n",
      "172/172 [==============================] - 0s 2ms/step - loss: 0.6172 - accuracy: 0.7723 - val_loss: 0.3783 - val_accuracy: 0.9007\n",
      "Epoch 40/1000\n",
      "165/172 [===========================>..] - ETA: 0s - loss: 0.6018 - accuracy: 0.7864\n",
      "Epoch 40: saving model to model/keypoint_classifier/keypoint_classifier.hdf5\n",
      "172/172 [==============================] - 0s 2ms/step - loss: 0.6021 - accuracy: 0.7860 - val_loss: 0.3796 - val_accuracy: 0.8996\n",
      "Epoch 41/1000\n",
      "162/172 [===========================>..] - ETA: 0s - loss: 0.5815 - accuracy: 0.7868\n",
      "Epoch 41: saving model to model/keypoint_classifier/keypoint_classifier.hdf5\n",
      "172/172 [==============================] - 0s 2ms/step - loss: 0.5862 - accuracy: 0.7867 - val_loss: 0.3532 - val_accuracy: 0.9067\n",
      "Epoch 42/1000\n",
      "159/172 [==========================>...] - ETA: 0s - loss: 0.5784 - accuracy: 0.7895\n",
      "Epoch 42: saving model to model/keypoint_classifier/keypoint_classifier.hdf5\n",
      "172/172 [==============================] - 0s 2ms/step - loss: 0.5772 - accuracy: 0.7900 - val_loss: 0.3848 - val_accuracy: 0.9067\n",
      "Epoch 43/1000\n",
      "163/172 [===========================>..] - ETA: 0s - loss: 0.5657 - accuracy: 0.7951\n",
      "Epoch 43: saving model to model/keypoint_classifier/keypoint_classifier.hdf5\n",
      "172/172 [==============================] - 0s 2ms/step - loss: 0.5666 - accuracy: 0.7945 - val_loss: 0.3681 - val_accuracy: 0.8979\n",
      "Epoch 44/1000\n",
      "166/172 [===========================>..] - ETA: 0s - loss: 0.5738 - accuracy: 0.7920\n",
      "Epoch 44: saving model to model/keypoint_classifier/keypoint_classifier.hdf5\n",
      "172/172 [==============================] - 0s 2ms/step - loss: 0.5747 - accuracy: 0.7914 - val_loss: 0.4048 - val_accuracy: 0.8794\n",
      "Epoch 45/1000\n",
      "162/172 [===========================>..] - ETA: 0s - loss: 0.5569 - accuracy: 0.7965\n",
      "Epoch 45: saving model to model/keypoint_classifier/keypoint_classifier.hdf5\n",
      "172/172 [==============================] - 0s 2ms/step - loss: 0.5596 - accuracy: 0.7953 - val_loss: 0.3580 - val_accuracy: 0.9034\n",
      "Epoch 46/1000\n",
      "163/172 [===========================>..] - ETA: 0s - loss: 0.5411 - accuracy: 0.8002\n",
      "Epoch 46: saving model to model/keypoint_classifier/keypoint_classifier.hdf5\n",
      "172/172 [==============================] - 0s 2ms/step - loss: 0.5438 - accuracy: 0.7987 - val_loss: 0.3459 - val_accuracy: 0.9045\n",
      "Epoch 47/1000\n",
      "165/172 [===========================>..] - ETA: 0s - loss: 0.5476 - accuracy: 0.8017\n",
      "Epoch 47: saving model to model/keypoint_classifier/keypoint_classifier.hdf5\n",
      "172/172 [==============================] - 0s 2ms/step - loss: 0.5456 - accuracy: 0.8024 - val_loss: 0.3522 - val_accuracy: 0.9094\n",
      "Epoch 48/1000\n",
      "164/172 [===========================>..] - ETA: 0s - loss: 0.5380 - accuracy: 0.8100\n",
      "Epoch 48: saving model to model/keypoint_classifier/keypoint_classifier.hdf5\n",
      "172/172 [==============================] - 0s 2ms/step - loss: 0.5375 - accuracy: 0.8102 - val_loss: 0.3513 - val_accuracy: 0.8974\n",
      "Epoch 49/1000\n",
      "163/172 [===========================>..] - ETA: 0s - loss: 0.5314 - accuracy: 0.8062\n",
      "Epoch 49: saving model to model/keypoint_classifier/keypoint_classifier.hdf5\n",
      "172/172 [==============================] - 0s 2ms/step - loss: 0.5349 - accuracy: 0.8047 - val_loss: 0.3811 - val_accuracy: 0.8772\n",
      "Epoch 50/1000\n",
      "161/172 [===========================>..] - ETA: 0s - loss: 0.5228 - accuracy: 0.8164\n",
      "Epoch 50: saving model to model/keypoint_classifier/keypoint_classifier.hdf5\n",
      "172/172 [==============================] - 0s 2ms/step - loss: 0.5220 - accuracy: 0.8151 - val_loss: 0.3642 - val_accuracy: 0.8886\n",
      "Epoch 51/1000\n",
      "165/172 [===========================>..] - ETA: 0s - loss: 0.5083 - accuracy: 0.8163\n",
      "Epoch 51: saving model to model/keypoint_classifier/keypoint_classifier.hdf5\n",
      "172/172 [==============================] - 0s 2ms/step - loss: 0.5085 - accuracy: 0.8162 - val_loss: 0.3899 - val_accuracy: 0.8641\n",
      "Epoch 52/1000\n",
      "164/172 [===========================>..] - ETA: 0s - loss: 0.5221 - accuracy: 0.8188\n",
      "Epoch 52: saving model to model/keypoint_classifier/keypoint_classifier.hdf5\n",
      "172/172 [==============================] - 0s 2ms/step - loss: 0.5235 - accuracy: 0.8189 - val_loss: 0.3714 - val_accuracy: 0.8996\n",
      "Epoch 53/1000\n",
      "161/172 [===========================>..] - ETA: 0s - loss: 0.4940 - accuracy: 0.8224\n",
      "Epoch 53: saving model to model/keypoint_classifier/keypoint_classifier.hdf5\n",
      "172/172 [==============================] - 0s 2ms/step - loss: 0.4956 - accuracy: 0.8195 - val_loss: 0.3116 - val_accuracy: 0.9209\n",
      "Epoch 54/1000\n",
      "163/172 [===========================>..] - ETA: 0s - loss: 0.5115 - accuracy: 0.8104\n",
      "Epoch 54: saving model to model/keypoint_classifier/keypoint_classifier.hdf5\n",
      "172/172 [==============================] - 0s 2ms/step - loss: 0.5046 - accuracy: 0.8135 - val_loss: 0.3452 - val_accuracy: 0.9192\n",
      "Epoch 55/1000\n",
      "165/172 [===========================>..] - ETA: 0s - loss: 0.5033 - accuracy: 0.8222\n",
      "Epoch 55: saving model to model/keypoint_classifier/keypoint_classifier.hdf5\n",
      "172/172 [==============================] - 0s 2ms/step - loss: 0.5041 - accuracy: 0.8215 - val_loss: 0.3554 - val_accuracy: 0.8777\n",
      "Epoch 56/1000\n",
      "165/172 [===========================>..] - ETA: 0s - loss: 0.4899 - accuracy: 0.8223\n",
      "Epoch 56: saving model to model/keypoint_classifier/keypoint_classifier.hdf5\n",
      "172/172 [==============================] - 0s 2ms/step - loss: 0.4934 - accuracy: 0.8197 - val_loss: 0.3854 - val_accuracy: 0.8695\n",
      "Epoch 57/1000\n",
      "163/172 [===========================>..] - ETA: 0s - loss: 0.4751 - accuracy: 0.8253\n",
      "Epoch 57: saving model to model/keypoint_classifier/keypoint_classifier.hdf5\n",
      "172/172 [==============================] - 0s 2ms/step - loss: 0.4785 - accuracy: 0.8231 - val_loss: 0.3579 - val_accuracy: 0.8892\n",
      "Epoch 58/1000\n",
      "163/172 [===========================>..] - ETA: 0s - loss: 0.4717 - accuracy: 0.8342\n",
      "Epoch 58: saving model to model/keypoint_classifier/keypoint_classifier.hdf5\n",
      "172/172 [==============================] - 0s 2ms/step - loss: 0.4709 - accuracy: 0.8342 - val_loss: 0.3136 - val_accuracy: 0.9203\n",
      "Epoch 59/1000\n",
      "162/172 [===========================>..] - ETA: 0s - loss: 0.4735 - accuracy: 0.8285\n",
      "Epoch 59: saving model to model/keypoint_classifier/keypoint_classifier.hdf5\n",
      "172/172 [==============================] - 0s 2ms/step - loss: 0.4708 - accuracy: 0.8306 - val_loss: 0.3406 - val_accuracy: 0.9078\n",
      "Epoch 60/1000\n",
      "163/172 [===========================>..] - ETA: 0s - loss: 0.4560 - accuracy: 0.8332\n",
      "Epoch 60: saving model to model/keypoint_classifier/keypoint_classifier.hdf5\n",
      "172/172 [==============================] - 0s 2ms/step - loss: 0.4560 - accuracy: 0.8320 - val_loss: 0.3276 - val_accuracy: 0.9094\n",
      "Epoch 61/1000\n",
      "161/172 [===========================>..] - ETA: 0s - loss: 0.4594 - accuracy: 0.8344\n",
      "Epoch 61: saving model to model/keypoint_classifier/keypoint_classifier.hdf5\n",
      "172/172 [==============================] - 0s 2ms/step - loss: 0.4610 - accuracy: 0.8333 - val_loss: 0.3212 - val_accuracy: 0.8996\n",
      "Epoch 62/1000\n",
      "163/172 [===========================>..] - ETA: 0s - loss: 0.4518 - accuracy: 0.8390\n",
      "Epoch 62: saving model to model/keypoint_classifier/keypoint_classifier.hdf5\n",
      "172/172 [==============================] - 0s 2ms/step - loss: 0.4511 - accuracy: 0.8397 - val_loss: 0.3825 - val_accuracy: 0.8908\n",
      "Epoch 63/1000\n",
      "165/172 [===========================>..] - ETA: 0s - loss: 0.4522 - accuracy: 0.8292\n",
      "Epoch 63: saving model to model/keypoint_classifier/keypoint_classifier.hdf5\n",
      "172/172 [==============================] - 0s 2ms/step - loss: 0.4494 - accuracy: 0.8295 - val_loss: 0.3491 - val_accuracy: 0.8892\n",
      "Epoch 64/1000\n",
      "162/172 [===========================>..] - ETA: 0s - loss: 0.4526 - accuracy: 0.8382\n",
      "Epoch 64: saving model to model/keypoint_classifier/keypoint_classifier.hdf5\n",
      "172/172 [==============================] - 0s 2ms/step - loss: 0.4499 - accuracy: 0.8395 - val_loss: 0.3035 - val_accuracy: 0.9105\n",
      "Epoch 65/1000\n",
      "161/172 [===========================>..] - ETA: 0s - loss: 0.4422 - accuracy: 0.8438\n",
      "Epoch 65: saving model to model/keypoint_classifier/keypoint_classifier.hdf5\n",
      "172/172 [==============================] - 0s 2ms/step - loss: 0.4425 - accuracy: 0.8424 - val_loss: 0.3613 - val_accuracy: 0.8777\n",
      "Epoch 66/1000\n",
      "164/172 [===========================>..] - ETA: 0s - loss: 0.4209 - accuracy: 0.8453\n",
      "Epoch 66: saving model to model/keypoint_classifier/keypoint_classifier.hdf5\n",
      "172/172 [==============================] - 0s 2ms/step - loss: 0.4213 - accuracy: 0.8455 - val_loss: 0.3108 - val_accuracy: 0.9127\n",
      "Epoch 67/1000\n",
      "162/172 [===========================>..] - ETA: 0s - loss: 0.4406 - accuracy: 0.8380\n",
      "Epoch 67: saving model to model/keypoint_classifier/keypoint_classifier.hdf5\n",
      "172/172 [==============================] - 0s 2ms/step - loss: 0.4403 - accuracy: 0.8384 - val_loss: 0.3042 - val_accuracy: 0.9203\n",
      "Epoch 68/1000\n",
      "162/172 [===========================>..] - ETA: 0s - loss: 0.4321 - accuracy: 0.8455\n",
      "Epoch 68: saving model to model/keypoint_classifier/keypoint_classifier.hdf5\n",
      "172/172 [==============================] - 0s 2ms/step - loss: 0.4348 - accuracy: 0.8446 - val_loss: 0.3358 - val_accuracy: 0.8914\n",
      "Epoch 69/1000\n",
      "162/172 [===========================>..] - ETA: 0s - loss: 0.4218 - accuracy: 0.8459\n",
      "Epoch 69: saving model to model/keypoint_classifier/keypoint_classifier.hdf5\n",
      "172/172 [==============================] - 0s 2ms/step - loss: 0.4216 - accuracy: 0.8462 - val_loss: 0.3200 - val_accuracy: 0.8957\n",
      "Epoch 70/1000\n",
      "164/172 [===========================>..] - ETA: 0s - loss: 0.4270 - accuracy: 0.8439\n",
      "Epoch 70: saving model to model/keypoint_classifier/keypoint_classifier.hdf5\n",
      "172/172 [==============================] - 0s 2ms/step - loss: 0.4270 - accuracy: 0.8444 - val_loss: 0.3045 - val_accuracy: 0.9072\n",
      "Epoch 71/1000\n",
      "163/172 [===========================>..] - ETA: 0s - loss: 0.4242 - accuracy: 0.8445\n",
      "Epoch 71: saving model to model/keypoint_classifier/keypoint_classifier.hdf5\n",
      "172/172 [==============================] - 0s 2ms/step - loss: 0.4215 - accuracy: 0.8462 - val_loss: 0.3768 - val_accuracy: 0.8821\n",
      "Epoch 72/1000\n",
      "162/172 [===========================>..] - ETA: 0s - loss: 0.4166 - accuracy: 0.8522\n",
      "Epoch 72: saving model to model/keypoint_classifier/keypoint_classifier.hdf5\n",
      "172/172 [==============================] - 0s 2ms/step - loss: 0.4162 - accuracy: 0.8528 - val_loss: 0.3123 - val_accuracy: 0.9083\n",
      "Epoch 73/1000\n",
      "160/172 [==========================>...] - ETA: 0s - loss: 0.4196 - accuracy: 0.8496\n",
      "Epoch 73: saving model to model/keypoint_classifier/keypoint_classifier.hdf5\n",
      "172/172 [==============================] - 0s 2ms/step - loss: 0.4167 - accuracy: 0.8497 - val_loss: 0.3442 - val_accuracy: 0.8876\n",
      "Epoch 74/1000\n",
      "163/172 [===========================>..] - ETA: 0s - loss: 0.4059 - accuracy: 0.8505\n",
      "Epoch 74: saving model to model/keypoint_classifier/keypoint_classifier.hdf5\n",
      "172/172 [==============================] - 0s 2ms/step - loss: 0.4017 - accuracy: 0.8522 - val_loss: 0.3454 - val_accuracy: 0.8919\n",
      "Epoch 75/1000\n",
      "164/172 [===========================>..] - ETA: 0s - loss: 0.4011 - accuracy: 0.8552\n",
      "Epoch 75: saving model to model/keypoint_classifier/keypoint_classifier.hdf5\n",
      "172/172 [==============================] - 0s 2ms/step - loss: 0.4007 - accuracy: 0.8546 - val_loss: 0.3502 - val_accuracy: 0.8799\n",
      "Epoch 76/1000\n",
      "162/172 [===========================>..] - ETA: 0s - loss: 0.3923 - accuracy: 0.8573\n",
      "Epoch 76: saving model to model/keypoint_classifier/keypoint_classifier.hdf5\n",
      "172/172 [==============================] - 0s 2ms/step - loss: 0.3930 - accuracy: 0.8559 - val_loss: 0.3977 - val_accuracy: 0.8674\n",
      "Epoch 77/1000\n",
      "160/172 [==========================>...] - ETA: 0s - loss: 0.3787 - accuracy: 0.8609\n",
      "Epoch 77: saving model to model/keypoint_classifier/keypoint_classifier.hdf5\n",
      "172/172 [==============================] - 0s 2ms/step - loss: 0.3746 - accuracy: 0.8626 - val_loss: 0.3503 - val_accuracy: 0.8745\n",
      "Epoch 78/1000\n",
      "164/172 [===========================>..] - ETA: 0s - loss: 0.3767 - accuracy: 0.8613\n",
      "Epoch 78: saving model to model/keypoint_classifier/keypoint_classifier.hdf5\n",
      "172/172 [==============================] - 0s 2ms/step - loss: 0.3804 - accuracy: 0.8611 - val_loss: 0.3278 - val_accuracy: 0.8990\n",
      "Epoch 79/1000\n",
      "164/172 [===========================>..] - ETA: 0s - loss: 0.3797 - accuracy: 0.8628\n",
      "Epoch 79: saving model to model/keypoint_classifier/keypoint_classifier.hdf5\n",
      "172/172 [==============================] - 0s 2ms/step - loss: 0.3764 - accuracy: 0.8652 - val_loss: 0.3221 - val_accuracy: 0.8990\n",
      "Epoch 80/1000\n",
      "157/172 [==========================>...] - ETA: 0s - loss: 0.3782 - accuracy: 0.8641\n",
      "Epoch 80: saving model to model/keypoint_classifier/keypoint_classifier.hdf5\n",
      "172/172 [==============================] - 0s 2ms/step - loss: 0.3770 - accuracy: 0.8637 - val_loss: 0.3178 - val_accuracy: 0.8897\n",
      "Epoch 81/1000\n",
      "159/172 [==========================>...] - ETA: 0s - loss: 0.3655 - accuracy: 0.8717\n",
      "Epoch 81: saving model to model/keypoint_classifier/keypoint_classifier.hdf5\n",
      "172/172 [==============================] - 0s 2ms/step - loss: 0.3710 - accuracy: 0.8690 - val_loss: 0.3095 - val_accuracy: 0.9017\n",
      "Epoch 82/1000\n",
      "163/172 [===========================>..] - ETA: 0s - loss: 0.3843 - accuracy: 0.8545\n",
      "Epoch 82: saving model to model/keypoint_classifier/keypoint_classifier.hdf5\n",
      "172/172 [==============================] - 0s 2ms/step - loss: 0.3852 - accuracy: 0.8542 - val_loss: 0.3238 - val_accuracy: 0.8985\n",
      "Epoch 83/1000\n",
      "160/172 [==========================>...] - ETA: 0s - loss: 0.3802 - accuracy: 0.8611\n",
      "Epoch 83: saving model to model/keypoint_classifier/keypoint_classifier.hdf5\n",
      "172/172 [==============================] - 0s 2ms/step - loss: 0.3783 - accuracy: 0.8630 - val_loss: 0.2929 - val_accuracy: 0.8996\n",
      "Epoch 84/1000\n",
      "160/172 [==========================>...] - ETA: 0s - loss: 0.3880 - accuracy: 0.8643\n",
      "Epoch 84: saving model to model/keypoint_classifier/keypoint_classifier.hdf5\n",
      "172/172 [==============================] - 0s 2ms/step - loss: 0.3859 - accuracy: 0.8642 - val_loss: 0.3415 - val_accuracy: 0.8897\n",
      "Epoch 85/1000\n",
      "162/172 [===========================>..] - ETA: 0s - loss: 0.3522 - accuracy: 0.8804\n",
      "Epoch 85: saving model to model/keypoint_classifier/keypoint_classifier.hdf5\n",
      "172/172 [==============================] - 0s 2ms/step - loss: 0.3518 - accuracy: 0.8803 - val_loss: 0.3233 - val_accuracy: 0.8952\n",
      "Epoch 86/1000\n",
      "153/172 [=========================>....] - ETA: 0s - loss: 0.3694 - accuracy: 0.8627\n",
      "Epoch 86: saving model to model/keypoint_classifier/keypoint_classifier.hdf5\n",
      "172/172 [==============================] - 0s 2ms/step - loss: 0.3706 - accuracy: 0.8622 - val_loss: 0.3273 - val_accuracy: 0.8985\n",
      "Epoch 87/1000\n",
      "158/172 [==========================>...] - ETA: 0s - loss: 0.3607 - accuracy: 0.8695\n",
      "Epoch 87: saving model to model/keypoint_classifier/keypoint_classifier.hdf5\n",
      "172/172 [==============================] - 0s 2ms/step - loss: 0.3588 - accuracy: 0.8704 - val_loss: 0.3206 - val_accuracy: 0.8892\n",
      "Epoch 88/1000\n",
      "168/172 [============================>.] - ETA: 0s - loss: 0.3626 - accuracy: 0.8707\n",
      "Epoch 88: saving model to model/keypoint_classifier/keypoint_classifier.hdf5\n",
      "172/172 [==============================] - 1s 6ms/step - loss: 0.3624 - accuracy: 0.8712 - val_loss: 0.3477 - val_accuracy: 0.8832\n",
      "Epoch 89/1000\n",
      "163/172 [===========================>..] - ETA: 0s - loss: 0.3691 - accuracy: 0.8727\n",
      "Epoch 89: saving model to model/keypoint_classifier/keypoint_classifier.hdf5\n",
      "172/172 [==============================] - 1s 3ms/step - loss: 0.3704 - accuracy: 0.8712 - val_loss: 0.2937 - val_accuracy: 0.9083\n",
      "Epoch 90/1000\n",
      "161/172 [===========================>..] - ETA: 0s - loss: 0.3469 - accuracy: 0.8709\n",
      "Epoch 90: saving model to model/keypoint_classifier/keypoint_classifier.hdf5\n",
      "172/172 [==============================] - 1s 3ms/step - loss: 0.3451 - accuracy: 0.8724 - val_loss: 0.2994 - val_accuracy: 0.8886\n",
      "Epoch 91/1000\n",
      "167/172 [============================>.] - ETA: 0s - loss: 0.3484 - accuracy: 0.8744\n",
      "Epoch 91: saving model to model/keypoint_classifier/keypoint_classifier.hdf5\n",
      "172/172 [==============================] - 1s 3ms/step - loss: 0.3471 - accuracy: 0.8748 - val_loss: 0.3291 - val_accuracy: 0.8876\n",
      "Epoch 92/1000\n",
      "169/172 [============================>.] - ETA: 0s - loss: 0.3427 - accuracy: 0.8800\n",
      "Epoch 92: saving model to model/keypoint_classifier/keypoint_classifier.hdf5\n",
      "172/172 [==============================] - 1s 3ms/step - loss: 0.3412 - accuracy: 0.8804 - val_loss: 0.3454 - val_accuracy: 0.8777\n",
      "Epoch 93/1000\n",
      "170/172 [============================>.] - ETA: 0s - loss: 0.3472 - accuracy: 0.8757\n",
      "Epoch 93: saving model to model/keypoint_classifier/keypoint_classifier.hdf5\n",
      "172/172 [==============================] - 1s 3ms/step - loss: 0.3481 - accuracy: 0.8752 - val_loss: 0.3580 - val_accuracy: 0.8624\n",
      "Epoch 94/1000\n",
      "155/172 [==========================>...] - ETA: 0s - loss: 0.3451 - accuracy: 0.8752\n",
      "Epoch 94: saving model to model/keypoint_classifier/keypoint_classifier.hdf5\n",
      "172/172 [==============================] - 1s 3ms/step - loss: 0.3442 - accuracy: 0.8753 - val_loss: 0.3363 - val_accuracy: 0.8810\n",
      "Epoch 95/1000\n",
      "163/172 [===========================>..] - ETA: 0s - loss: 0.3278 - accuracy: 0.8834\n",
      "Epoch 95: saving model to model/keypoint_classifier/keypoint_classifier.hdf5\n",
      "172/172 [==============================] - 0s 3ms/step - loss: 0.3276 - accuracy: 0.8833 - val_loss: 0.3685 - val_accuracy: 0.8581\n",
      "Epoch 96/1000\n",
      "158/172 [==========================>...] - ETA: 0s - loss: 0.3345 - accuracy: 0.8784\n",
      "Epoch 96: saving model to model/keypoint_classifier/keypoint_classifier.hdf5\n",
      "172/172 [==============================] - 1s 3ms/step - loss: 0.3275 - accuracy: 0.8812 - val_loss: 0.3202 - val_accuracy: 0.8903\n",
      "Epoch 97/1000\n",
      "162/172 [===========================>..] - ETA: 0s - loss: 0.3388 - accuracy: 0.8798\n",
      "Epoch 97: saving model to model/keypoint_classifier/keypoint_classifier.hdf5\n",
      "172/172 [==============================] - 1s 3ms/step - loss: 0.3377 - accuracy: 0.8790 - val_loss: 0.3286 - val_accuracy: 0.8859\n",
      "Epoch 98/1000\n",
      "172/172 [==============================] - ETA: 0s - loss: 0.3408 - accuracy: 0.8757\n",
      "Epoch 98: saving model to model/keypoint_classifier/keypoint_classifier.hdf5\n",
      "172/172 [==============================] - 1s 3ms/step - loss: 0.3408 - accuracy: 0.8757 - val_loss: 0.2449 - val_accuracy: 0.9252\n",
      "Epoch 99/1000\n",
      "151/172 [=========================>....] - ETA: 0s - loss: 0.3421 - accuracy: 0.8764\n",
      "Epoch 99: saving model to model/keypoint_classifier/keypoint_classifier.hdf5\n",
      "172/172 [==============================] - 0s 3ms/step - loss: 0.3399 - accuracy: 0.8773 - val_loss: 0.3755 - val_accuracy: 0.8630\n",
      "Epoch 100/1000\n",
      "152/172 [=========================>....] - ETA: 0s - loss: 0.3259 - accuracy: 0.8808\n",
      "Epoch 100: saving model to model/keypoint_classifier/keypoint_classifier.hdf5\n",
      "172/172 [==============================] - 1s 3ms/step - loss: 0.3314 - accuracy: 0.8795 - val_loss: 0.2905 - val_accuracy: 0.9017\n",
      "Epoch 101/1000\n",
      "150/172 [=========================>....] - ETA: 0s - loss: 0.3232 - accuracy: 0.8817\n",
      "Epoch 101: saving model to model/keypoint_classifier/keypoint_classifier.hdf5\n",
      "172/172 [==============================] - 0s 3ms/step - loss: 0.3234 - accuracy: 0.8812 - val_loss: 0.2682 - val_accuracy: 0.9083\n",
      "Epoch 102/1000\n",
      "151/172 [=========================>....] - ETA: 0s - loss: 0.3231 - accuracy: 0.8820\n",
      "Epoch 102: saving model to model/keypoint_classifier/keypoint_classifier.hdf5\n",
      "172/172 [==============================] - 1s 3ms/step - loss: 0.3194 - accuracy: 0.8828 - val_loss: 0.3296 - val_accuracy: 0.8799\n",
      "Epoch 103/1000\n",
      "166/172 [===========================>..] - ETA: 0s - loss: 0.3250 - accuracy: 0.8838\n",
      "Epoch 103: saving model to model/keypoint_classifier/keypoint_classifier.hdf5\n",
      "172/172 [==============================] - 0s 3ms/step - loss: 0.3286 - accuracy: 0.8824 - val_loss: 0.3375 - val_accuracy: 0.8968\n",
      "Epoch 104/1000\n",
      "171/172 [============================>.] - ETA: 0s - loss: 0.3025 - accuracy: 0.8885\n",
      "Epoch 104: saving model to model/keypoint_classifier/keypoint_classifier.hdf5\n",
      "172/172 [==============================] - 1s 3ms/step - loss: 0.3038 - accuracy: 0.8881 - val_loss: 0.2751 - val_accuracy: 0.9176\n",
      "Epoch 105/1000\n",
      "159/172 [==========================>...] - ETA: 0s - loss: 0.3117 - accuracy: 0.8854\n",
      "Epoch 105: saving model to model/keypoint_classifier/keypoint_classifier.hdf5\n",
      "172/172 [==============================] - 0s 3ms/step - loss: 0.3155 - accuracy: 0.8830 - val_loss: 0.2972 - val_accuracy: 0.9007\n",
      "Epoch 106/1000\n",
      "170/172 [============================>.] - ETA: 0s - loss: 0.3138 - accuracy: 0.8842\n",
      "Epoch 106: saving model to model/keypoint_classifier/keypoint_classifier.hdf5\n",
      "172/172 [==============================] - 1s 4ms/step - loss: 0.3125 - accuracy: 0.8848 - val_loss: 0.2900 - val_accuracy: 0.9187\n",
      "Epoch 107/1000\n",
      "142/172 [=======================>......] - ETA: 0s - loss: 0.3316 - accuracy: 0.8851\n",
      "Epoch 107: saving model to model/keypoint_classifier/keypoint_classifier.hdf5\n",
      "172/172 [==============================] - 1s 4ms/step - loss: 0.3328 - accuracy: 0.8844 - val_loss: 0.3610 - val_accuracy: 0.8706\n",
      "Epoch 108/1000\n",
      "165/172 [===========================>..] - ETA: 0s - loss: 0.3103 - accuracy: 0.8850\n",
      "Epoch 108: saving model to model/keypoint_classifier/keypoint_classifier.hdf5\n",
      "172/172 [==============================] - 0s 3ms/step - loss: 0.3115 - accuracy: 0.8852 - val_loss: 0.3487 - val_accuracy: 0.8739\n",
      "Epoch 109/1000\n",
      "148/172 [========================>.....] - ETA: 0s - loss: 0.2936 - accuracy: 0.8904\n",
      "Epoch 109: saving model to model/keypoint_classifier/keypoint_classifier.hdf5\n",
      "172/172 [==============================] - 0s 2ms/step - loss: 0.3009 - accuracy: 0.8890 - val_loss: 0.3350 - val_accuracy: 0.8816\n",
      "Epoch 110/1000\n",
      "163/172 [===========================>..] - ETA: 0s - loss: 0.3168 - accuracy: 0.8888\n",
      "Epoch 110: saving model to model/keypoint_classifier/keypoint_classifier.hdf5\n",
      "172/172 [==============================] - 0s 2ms/step - loss: 0.3190 - accuracy: 0.8874 - val_loss: 0.3608 - val_accuracy: 0.8728\n",
      "Epoch 111/1000\n",
      "161/172 [===========================>..] - ETA: 0s - loss: 0.3063 - accuracy: 0.8890\n",
      "Epoch 111: saving model to model/keypoint_classifier/keypoint_classifier.hdf5\n",
      "172/172 [==============================] - 0s 2ms/step - loss: 0.3089 - accuracy: 0.8872 - val_loss: 0.3091 - val_accuracy: 0.8979\n",
      "Epoch 112/1000\n",
      "156/172 [==========================>...] - ETA: 0s - loss: 0.3137 - accuracy: 0.8844\n",
      "Epoch 112: saving model to model/keypoint_classifier/keypoint_classifier.hdf5\n",
      "172/172 [==============================] - 0s 2ms/step - loss: 0.3120 - accuracy: 0.8848 - val_loss: 0.3107 - val_accuracy: 0.8848\n",
      "Epoch 113/1000\n",
      "159/172 [==========================>...] - ETA: 0s - loss: 0.3013 - accuracy: 0.8911\n",
      "Epoch 113: saving model to model/keypoint_classifier/keypoint_classifier.hdf5\n",
      "172/172 [==============================] - 0s 2ms/step - loss: 0.3023 - accuracy: 0.8915 - val_loss: 0.3121 - val_accuracy: 0.8963\n",
      "Epoch 114/1000\n",
      "162/172 [===========================>..] - ETA: 0s - loss: 0.3042 - accuracy: 0.8927\n",
      "Epoch 114: saving model to model/keypoint_classifier/keypoint_classifier.hdf5\n",
      "172/172 [==============================] - 0s 2ms/step - loss: 0.3027 - accuracy: 0.8932 - val_loss: 0.3065 - val_accuracy: 0.9045\n",
      "Epoch 115/1000\n",
      "159/172 [==========================>...] - ETA: 0s - loss: 0.2984 - accuracy: 0.8933\n",
      "Epoch 115: saving model to model/keypoint_classifier/keypoint_classifier.hdf5\n",
      "172/172 [==============================] - 0s 2ms/step - loss: 0.3039 - accuracy: 0.8915 - val_loss: 0.3023 - val_accuracy: 0.8865\n",
      "Epoch 116/1000\n",
      "153/172 [=========================>....] - ETA: 0s - loss: 0.3096 - accuracy: 0.8881\n",
      "Epoch 116: saving model to model/keypoint_classifier/keypoint_classifier.hdf5\n",
      "172/172 [==============================] - 0s 2ms/step - loss: 0.3043 - accuracy: 0.8894 - val_loss: 0.2753 - val_accuracy: 0.9050\n",
      "Epoch 117/1000\n",
      "159/172 [==========================>...] - ETA: 0s - loss: 0.2905 - accuracy: 0.8968\n",
      "Epoch 117: saving model to model/keypoint_classifier/keypoint_classifier.hdf5\n",
      "172/172 [==============================] - 0s 2ms/step - loss: 0.2915 - accuracy: 0.8961 - val_loss: 0.3158 - val_accuracy: 0.8941\n",
      "Epoch 118/1000\n",
      "164/172 [===========================>..] - ETA: 0s - loss: 0.3080 - accuracy: 0.8897\n",
      "Epoch 118: saving model to model/keypoint_classifier/keypoint_classifier.hdf5\n",
      "172/172 [==============================] - 0s 2ms/step - loss: 0.3075 - accuracy: 0.8892 - val_loss: 0.3229 - val_accuracy: 0.8908\n",
      "Epoch 118: early stopping\n"
     ]
    },
    {
     "data": {
      "text/plain": [
       "<keras.callbacks.History at 0x7ff1225d8670>"
      ]
     },
     "execution_count": 9,
     "metadata": {},
     "output_type": "execute_result"
    }
   ],
   "source": [
    "model.fit(\n",
    "    X_train,\n",
    "    y_train,\n",
    "    epochs=1000,\n",
    "    batch_size=32,\n",
    "    validation_data=(X_test, y_test),\n",
    "    callbacks=[cp_callback, es_callback]\n",
    ")"
   ]
  },
  {
   "cell_type": "code",
   "execution_count": 10,
   "metadata": {
    "colab": {
     "base_uri": "https://localhost:8080/"
    },
    "id": "pxvb2Y299hE3",
    "outputId": "59eb3185-2e37-4b9e-bc9d-ab1b8ac29b7f"
   },
   "outputs": [
    {
     "name": "stdout",
     "output_type": "stream",
     "text": [
      "58/58 [==============================] - 0s 1ms/step - loss: 0.3229 - accuracy: 0.8908\n"
     ]
    }
   ],
   "source": [
    "# Model evaluation\n",
    "val_loss, val_acc = model.evaluate(X_test, y_test, batch_size=32)"
   ]
  },
  {
   "cell_type": "code",
   "execution_count": 11,
   "metadata": {
    "id": "RBkmDeUW9hE4"
   },
   "outputs": [],
   "source": [
    "# Loading the saved model\n",
    "model = tf.keras.models.load_model(model_save_path)"
   ]
  },
  {
   "cell_type": "code",
   "execution_count": 12,
   "metadata": {
    "colab": {
     "base_uri": "https://localhost:8080/"
    },
    "id": "tFz9Tb0I9hE4",
    "outputId": "1c3b3528-54ae-4ee2-ab04-77429211cbef"
   },
   "outputs": [
    {
     "name": "stdout",
     "output_type": "stream",
     "text": [
      "[2.7739498e-08 5.8528690e-07 1.3814642e-04 2.6758717e-11 1.2601606e-10\n",
      " 1.3110437e-04 6.3361233e-07 2.0376031e-11 5.4959946e-06 2.4085246e-11\n",
      " 6.5768340e-06 3.0224960e-06 2.2312519e-01 8.5515156e-10 2.8502912e-12\n",
      " 3.1500131e-06 1.8830850e-14 3.8717110e-14 3.6130186e-05 3.0725230e-05\n",
      " 6.8839604e-01 2.5584023e-07 1.2876680e-09 7.3928717e-11 8.5288957e-02\n",
      " 5.5637787e-07 3.0793913e-08 3.6603797e-07 4.4968255e-07 1.5105949e-11\n",
      " 5.9388931e-06 3.5000898e-04 3.0548227e-07 9.7966800e-04 1.0112265e-09\n",
      " 9.4486741e-06 1.2336869e-05 9.9448616e-10 1.1795177e-10 6.4476090e-08\n",
      " 1.0518848e-12 1.3492923e-03 4.8630575e-09 4.8519403e-05 1.7448720e-05\n",
      " 1.2529184e-13 5.7536065e-09 2.3628172e-06 1.7293122e-06 9.1540877e-18\n",
      " 1.2093042e-12 3.8317780e-09 2.3201137e-05 2.5239017e-06 2.9739471e-05\n",
      " 1.4043644e-09]\n",
      "20\n"
     ]
    }
   ],
   "source": [
    "# Inference test\n",
    "predict_result = model.predict(np.array([X_test[0]]))\n",
    "print(np.squeeze(predict_result))\n",
    "print(np.argmax(np.squeeze(predict_result)))"
   ]
  },
  {
   "cell_type": "markdown",
   "metadata": {
    "id": "S3U4yNWx9hE4"
   },
   "source": [
    "# 5. Check Trained Model"
   ]
  },
  {
   "cell_type": "code",
   "execution_count": 13,
   "metadata": {
    "colab": {
     "base_uri": "https://localhost:8080/",
     "height": 582
    },
    "id": "AP1V6SCk9hE5",
    "outputId": "08e41a80-7a4a-4619-8125-ecc371368d19"
   },
   "outputs": [
    {
     "data": {
      "image/png": "[encoded data removed]",
      "text/plain": [
       "<Figure size 504x432 with 2 Axes>"
      ]
     },
     "metadata": {
      "needs_background": "light"
     },
     "output_type": "display_data"
    },
    {
     "name": "stdout",
     "output_type": "stream",
     "text": [
      "Classification Report\n",
      "              precision    recall  f1-score   support\n",
      "\n",
      "           0       0.95      1.00      0.98        40\n",
      "           1       0.85      1.00      0.92        57\n",
      "           2       0.88      0.83      0.85        42\n",
      "           3       1.00      1.00      1.00        38\n",
      "           4       1.00      0.21      0.35        43\n",
      "           5       0.56      1.00      0.72        38\n",
      "           6       0.94      1.00      0.97        62\n",
      "           7       0.98      1.00      0.99        63\n",
      "           8       0.92      1.00      0.96        58\n",
      "           9       0.97      1.00      0.98        30\n",
      "          10       1.00      0.96      0.98        27\n",
      "          11       1.00      1.00      1.00        25\n",
      "          12       0.90      0.95      0.93        20\n",
      "          13       0.92      0.85      0.88        54\n",
      "          14       0.86      0.95      0.90        40\n",
      "          15       0.93      0.47      0.62        53\n",
      "          16       1.00      1.00      1.00        13\n",
      "          17       1.00      1.00      1.00        24\n",
      "          18       0.89      1.00      0.94        48\n",
      "          19       0.88      0.85      0.87        34\n",
      "          20       1.00      0.77      0.87        26\n",
      "          21       0.90      0.98      0.94        45\n",
      "          22       1.00      1.00      1.00        21\n",
      "          23       1.00      1.00      1.00        41\n",
      "          24       0.68      0.94      0.79        16\n",
      "          25       1.00      0.83      0.91        18\n",
      "          26       0.83      0.59      0.69        17\n",
      "          27       0.83      1.00      0.91        20\n",
      "          28       0.60      1.00      0.75        45\n",
      "          29       0.97      1.00      0.99        33\n",
      "          30       1.00      0.90      0.95        42\n",
      "          31       1.00      0.96      0.98        26\n",
      "          32       1.00      0.62      0.77        45\n",
      "          33       0.63      0.70      0.67        37\n",
      "          34       0.95      1.00      0.98        40\n",
      "          35       0.97      0.94      0.95        33\n",
      "          36       1.00      1.00      1.00        17\n",
      "          37       0.83      0.96      0.89        25\n",
      "          38       1.00      0.94      0.97        33\n",
      "          39       1.00      0.86      0.92        21\n",
      "          40       0.92      0.88      0.90        26\n",
      "          41       1.00      0.96      0.98        28\n",
      "          42       1.00      0.73      0.84        22\n",
      "          43       1.00      0.97      0.99        36\n",
      "          44       0.96      0.53      0.68        47\n",
      "          45       1.00      0.97      0.98        30\n",
      "          46       1.00      0.92      0.96        25\n",
      "          47       0.82      0.96      0.88        24\n",
      "          48       0.73      1.00      0.84        19\n",
      "          49       1.00      1.00      1.00        20\n",
      "          50       0.59      1.00      0.74        27\n",
      "          51       1.00      0.86      0.92        21\n",
      "          52       1.00      0.88      0.94        33\n",
      "          53       1.00      1.00      1.00        19\n",
      "          54       0.60      0.69      0.64        26\n",
      "          55       1.00      0.84      0.91        19\n",
      "\n",
      "    accuracy                           0.89      1832\n",
      "   macro avg       0.92      0.90      0.89      1832\n",
      "weighted avg       0.91      0.89      0.89      1832\n",
      "\n"
     ]
    }
   ],
   "source": [
    "import pandas as pd\n",
    "import seaborn as sns\n",
    "import matplotlib.pyplot as plt\n",
    "from sklearn.metrics import confusion_matrix, classification_report\n",
    "\n",
    "def print_confusion_matrix(y_true, y_pred, report=True):\n",
    "    labels = sorted(list(set(y_true)))\n",
    "    cmx_data = confusion_matrix(y_true, y_pred, labels=labels)\n",
    "    \n",
    "    df_cmx = pd.DataFrame(cmx_data, index=labels, columns=labels)\n",
    " \n",
    "    fig, ax = plt.subplots(figsize=(7, 6))\n",
    "    sns.heatmap(df_cmx, annot=True, fmt='g' ,square=False)\n",
    "    ax.set_ylim(len(set(y_true)), 0)\n",
    "    plt.show()\n",
    "    \n",
    "    if report:\n",
    "        print('Classification Report')\n",
    "        print(classification_report(y_test, y_pred))\n",
    "\n",
    "Y_pred = model.predict(X_test)\n",
    "y_pred = np.argmax(Y_pred, axis=1)\n",
    "\n",
    "print_confusion_matrix(y_test, y_pred)"
   ]
  },
  {
   "cell_type": "markdown",
   "metadata": {
    "id": "FNP6aqzc9hE5"
   },
   "source": [
    "# 6. Convert to Tensorflow Lite"
   ]
  },
  {
   "cell_type": "code",
   "execution_count": 14,
   "metadata": {
    "id": "ODjnYyld9hE6"
   },
   "outputs": [],
   "source": [
    "# Save as a model dedicated to inference\n",
    "model.save(model_save_path, include_optimizer=False)"
   ]
  },
  {
   "cell_type": "code",
   "execution_count": 15,
   "metadata": {
    "colab": {
     "base_uri": "https://localhost:8080/"
    },
    "id": "zRfuK8Y59hE6",
    "outputId": "a4ca585c-b5d5-4244-8291-8674063209bb"
   },
   "outputs": [
    {
     "name": "stdout",
     "output_type": "stream",
     "text": [
      "INFO:tensorflow:Assets written to: /var/folders/fr/jbv693556wl33l33vy0f6c080000gn/T/tmpxxceq4mf/assets\n"
     ]
    },
    {
     "data": {
      "text/plain": [
       "54424"
      ]
     },
     "execution_count": 15,
     "metadata": {},
     "output_type": "execute_result"
    }
   ],
   "source": [
    "# Transform model (quantization)\n",
    "\n",
    "converter = tf.lite.TFLiteConverter.from_keras_model(model)\n",
    "converter.optimizations = [tf.lite.Optimize.DEFAULT]\n",
    "tflite_quantized_model = converter.convert()\n",
    "\n",
    "open(tflite_save_path, 'wb').write(tflite_quantized_model)"
   ]
  }
 ],
 "metadata": {
  "accelerator": "GPU",
  "colab": {
   "collapsed_sections": [],
   "name": "keypoint_classification_EN.ipynb",
   "provenance": [],
   "toc_visible": true
  },
  "kernelspec": {
   "display_name": "Python 3",
   "language": "python",
   "name": "python3"
  },
  "language_info": {
   "codemirror_mode": {
    "name": "ipython",
    "version": 3
   },
   "file_extension": ".py",
   "mimetype": "text/x-python",
   "name": "python",
   "nbconvert_exporter": "python",
   "pygments_lexer": "ipython3",
   "version": "3.8.8"
  }
 },
 "nbformat": 4,
 "nbformat_minor": 4
}
