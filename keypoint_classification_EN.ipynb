{
 "cells": [
  {
   "cell_type": "code",
   "execution_count": 1,
   "metadata": {
    "id": "igMyGnjE9hEp"
   },
   "outputs": [],
   "source": [
    "import csv\n",
    "\n",
    "import numpy as np\n",
    "import tensorflow as tf\n",
    "from sklearn.model_selection import train_test_split"
   ]
  },
  {
   "cell_type": "markdown",
   "metadata": {
    "id": "t2HDvhIu9hEr"
   },
   "source": [
    "# 1. Specify Pathfile"
   ]
  },
  {
   "cell_type": "code",
   "execution_count": 2,
   "metadata": {
    "id": "9NvZP2Zn9hEy"
   },
   "outputs": [],
   "source": [
    "dataset = 'model/keypoint_classifier/keypoint.csv'\n",
    "model_save_path = 'model/keypoint_classifier/keypoint_classifier.hdf5'\n",
    "tflite_save_path = 'model/keypoint_classifier/keypoint_classifier.tflite'"
   ]
  },
  {
   "cell_type": "markdown",
   "metadata": {
    "id": "s5oMH7x19hEz"
   },
   "source": [
    "# 2. Specify Number of Classes"
   ]
  },
  {
   "cell_type": "code",
   "execution_count": 3,
   "metadata": {
    "id": "du4kodXL9hEz"
   },
   "outputs": [],
   "source": [
    "NUM_CLASSES = 29"
   ]
  },
  {
   "cell_type": "markdown",
   "metadata": {
    "id": "XjnL0uso9hEz"
   },
   "source": [
    "# 3. Reading Dataset"
   ]
  },
  {
   "cell_type": "code",
   "execution_count": 4,
   "metadata": {
    "id": "QT5ZqtEz9hE0"
   },
   "outputs": [],
   "source": [
    "X_dataset = np.loadtxt(dataset, delimiter=',', dtype='float32', usecols=list(range(1, (21 * 2) + 1)))"
   ]
  },
  {
   "cell_type": "code",
   "execution_count": 5,
   "metadata": {
    "id": "QmoKFsp49hE0"
   },
   "outputs": [],
   "source": [
    "y_dataset = np.loadtxt(dataset, delimiter=',', dtype='int32', usecols=(0))"
   ]
  },
  {
   "cell_type": "code",
   "execution_count": 6,
   "metadata": {
    "id": "xQU7JTZ_9hE0"
   },
   "outputs": [],
   "source": [
    "X_train, X_test, y_train, y_test = train_test_split(X_dataset, y_dataset, train_size=0.75, random_state=42)"
   ]
  },
  {
   "cell_type": "markdown",
   "metadata": {
    "id": "mxK_lETT9hE0"
   },
   "source": [
    "# 4. Training Model"
   ]
  },
  {
   "cell_type": "code",
   "execution_count": 7,
   "metadata": {
    "id": "vHBmUf1t9hE1"
   },
   "outputs": [],
   "source": [
    "model = tf.keras.models.Sequential([\n",
    "    tf.keras.layers.Input((21 * 2, )),\n",
    "    tf.keras.layers.Dropout(0.2),\n",
    "    tf.keras.layers.Dense(128, activation='relu'),\n",
    "    tf.keras.layers.Dropout(0.4),\n",
    "    tf.keras.layers.Dense(64, activation='relu'),\n",
    "    tf.keras.layers.Dense(NUM_CLASSES, activation='softmax')\n",
    "])"
   ]
  },
  {
   "cell_type": "code",
   "execution_count": 8,
   "metadata": {
    "colab": {
     "base_uri": "https://localhost:8080/"
    },
    "id": "ypqky9tc9hE1",
    "outputId": "5db082bb-30e3-4110-bf63-a1ee777ecd46"
   },
   "outputs": [
    {
     "name": "stdout",
     "output_type": "stream",
     "text": [
      "Model: \"sequential\"\n",
      "_________________________________________________________________\n",
      " Layer (type)                Output Shape              Param #   \n",
      "=================================================================\n",
      " dropout (Dropout)           (None, 42)                0         \n",
      "                                                                 \n",
      " dense (Dense)               (None, 128)               5504      \n",
      "                                                                 \n",
      " dropout_1 (Dropout)         (None, 128)               0         \n",
      "                                                                 \n",
      " dense_1 (Dense)             (None, 64)                8256      \n",
      "                                                                 \n",
      " dense_2 (Dense)             (None, 29)                1885      \n",
      "                                                                 \n",
      "=================================================================\n",
      "Total params: 15,645\n",
      "Trainable params: 15,645\n",
      "Non-trainable params: 0\n",
      "_________________________________________________________________\n"
     ]
    }
   ],
   "source": [
    "model.summary()  # tf.keras.utils.plot_model(model, show_shapes=True)"
   ]
  },
  {
   "cell_type": "code",
   "execution_count": 9,
   "metadata": {
    "id": "MbMjOflQ9hE1"
   },
   "outputs": [],
   "source": [
    "# Model checkpoint callback\n",
    "cp_callback = tf.keras.callbacks.ModelCheckpoint(\n",
    "    model_save_path, verbose=1, save_weights_only=False)\n",
    "# Callback for early stopping\n",
    "es_callback = tf.keras.callbacks.EarlyStopping(patience=20, verbose=1)"
   ]
  },
  {
   "cell_type": "code",
   "execution_count": 10,
   "metadata": {
    "id": "c3Dac0M_9hE2"
   },
   "outputs": [],
   "source": [
    "# Model compilation\n",
    "model.compile(\n",
    "    optimizer='adam',\n",
    "    loss='sparse_categorical_crossentropy',\n",
    "    metrics=['accuracy']\n",
    ")"
   ]
  },
  {
   "cell_type": "code",
   "execution_count": 11,
   "metadata": {
    "colab": {
     "base_uri": "https://localhost:8080/"
    },
    "id": "WirBl-JE9hE3",
    "outputId": "71b30ca2-8294-4d9d-8aa2-800d90d399de",
    "scrolled": true
   },
   "outputs": [
    {
     "name": "stdout",
     "output_type": "stream",
     "text": [
      "Epoch 1/1000\n",
      "77/99 [======================>.......] - ETA: 0s - loss: 3.1874 - accuracy: 0.0864\n",
      "Epoch 1: saving model to model/keypoint_classifier/keypoint_classifier.hdf5\n",
      "99/99 [==============================] - 1s 3ms/step - loss: 3.1301 - accuracy: 0.0973 - val_loss: 2.7774 - val_accuracy: 0.2321\n",
      "Epoch 2/1000\n",
      "70/99 [====================>.........] - ETA: 0s - loss: 2.7213 - accuracy: 0.2121\n",
      "Epoch 2: saving model to model/keypoint_classifier/keypoint_classifier.hdf5\n",
      "99/99 [==============================] - 0s 2ms/step - loss: 2.6545 - accuracy: 0.2251 - val_loss: 2.2546 - val_accuracy: 0.3527\n",
      "Epoch 3/1000\n",
      "67/99 [===================>..........] - ETA: 0s - loss: 2.3067 - accuracy: 0.2694\n",
      "Epoch 3: saving model to model/keypoint_classifier/keypoint_classifier.hdf5\n",
      "99/99 [==============================] - 0s 2ms/step - loss: 2.2295 - accuracy: 0.2928 - val_loss: 1.7715 - val_accuracy: 0.5145\n",
      "Epoch 4/1000\n",
      "67/99 [===================>..........] - ETA: 0s - loss: 1.9925 - accuracy: 0.3306\n",
      "Epoch 4: saving model to model/keypoint_classifier/keypoint_classifier.hdf5\n",
      "99/99 [==============================] - 0s 2ms/step - loss: 1.9726 - accuracy: 0.3447 - val_loss: 1.4959 - val_accuracy: 0.5496\n",
      "Epoch 5/1000\n",
      "78/99 [======================>.......] - ETA: 0s - loss: 1.7751 - accuracy: 0.3962\n",
      "Epoch 5: saving model to model/keypoint_classifier/keypoint_classifier.hdf5\n",
      "99/99 [==============================] - 0s 2ms/step - loss: 1.7663 - accuracy: 0.3966 - val_loss: 1.2738 - val_accuracy: 0.6870\n",
      "Epoch 6/1000\n",
      "75/99 [=====================>........] - ETA: 0s - loss: 1.6608 - accuracy: 0.4160\n",
      "Epoch 6: saving model to model/keypoint_classifier/keypoint_classifier.hdf5\n",
      "99/99 [==============================] - 0s 2ms/step - loss: 1.6367 - accuracy: 0.4236 - val_loss: 1.1399 - val_accuracy: 0.7252\n",
      "Epoch 7/1000\n",
      "77/99 [======================>.......] - ETA: 0s - loss: 1.5431 - accuracy: 0.4481\n",
      "Epoch 7: saving model to model/keypoint_classifier/keypoint_classifier.hdf5\n",
      "99/99 [==============================] - 0s 2ms/step - loss: 1.5330 - accuracy: 0.4537 - val_loss: 1.0489 - val_accuracy: 0.7252\n",
      "Epoch 8/1000\n",
      "74/99 [=====================>........] - ETA: 0s - loss: 1.4640 - accuracy: 0.4770\n",
      "Epoch 8: saving model to model/keypoint_classifier/keypoint_classifier.hdf5\n",
      "99/99 [==============================] - 0s 2ms/step - loss: 1.4508 - accuracy: 0.4857 - val_loss: 0.9561 - val_accuracy: 0.7496\n",
      "Epoch 9/1000\n",
      "77/99 [======================>.......] - ETA: 0s - loss: 1.3447 - accuracy: 0.5156\n",
      "Epoch 9: saving model to model/keypoint_classifier/keypoint_classifier.hdf5\n",
      "99/99 [==============================] - 0s 2ms/step - loss: 1.3372 - accuracy: 0.5219 - val_loss: 0.8955 - val_accuracy: 0.7588\n",
      "Epoch 10/1000\n",
      "78/99 [======================>.......] - ETA: 0s - loss: 1.3517 - accuracy: 0.4955\n",
      "Epoch 10: saving model to model/keypoint_classifier/keypoint_classifier.hdf5\n",
      "99/99 [==============================] - 0s 2ms/step - loss: 1.3379 - accuracy: 0.5061 - val_loss: 0.8381 - val_accuracy: 0.7649\n",
      "Epoch 11/1000\n",
      "77/99 [======================>.......] - ETA: 0s - loss: 1.3046 - accuracy: 0.5208\n",
      "Epoch 11: saving model to model/keypoint_classifier/keypoint_classifier.hdf5\n",
      "99/99 [==============================] - 0s 2ms/step - loss: 1.3072 - accuracy: 0.5229 - val_loss: 0.7992 - val_accuracy: 0.8000\n",
      "Epoch 12/1000\n",
      "73/99 [=====================>........] - ETA: 0s - loss: 1.2719 - accuracy: 0.5260\n",
      "Epoch 12: saving model to model/keypoint_classifier/keypoint_classifier.hdf5\n",
      "99/99 [==============================] - 0s 2ms/step - loss: 1.2583 - accuracy: 0.5331 - val_loss: 0.7576 - val_accuracy: 0.8000\n",
      "Epoch 13/1000\n",
      "75/99 [=====================>........] - ETA: 0s - loss: 1.2404 - accuracy: 0.5453\n",
      "Epoch 13: saving model to model/keypoint_classifier/keypoint_classifier.hdf5\n",
      "99/99 [==============================] - 0s 2ms/step - loss: 1.2313 - accuracy: 0.5448 - val_loss: 0.7306 - val_accuracy: 0.8519\n",
      "Epoch 14/1000\n",
      "78/99 [======================>.......] - ETA: 0s - loss: 1.2056 - accuracy: 0.5532\n",
      "Epoch 14: saving model to model/keypoint_classifier/keypoint_classifier.hdf5\n",
      "99/99 [==============================] - 0s 2ms/step - loss: 1.2083 - accuracy: 0.5484 - val_loss: 0.7110 - val_accuracy: 0.8244\n",
      "Epoch 15/1000\n",
      "75/99 [=====================>........] - ETA: 0s - loss: 1.2119 - accuracy: 0.5547\n",
      "Epoch 15: saving model to model/keypoint_classifier/keypoint_classifier.hdf5\n",
      "99/99 [==============================] - 0s 2ms/step - loss: 1.2080 - accuracy: 0.5550 - val_loss: 0.6892 - val_accuracy: 0.8107\n",
      "Epoch 16/1000\n",
      "92/99 [==========================>...] - ETA: 0s - loss: 1.1500 - accuracy: 0.5685\n",
      "Epoch 16: saving model to model/keypoint_classifier/keypoint_classifier.hdf5\n",
      "99/99 [==============================] - 0s 2ms/step - loss: 1.1430 - accuracy: 0.5748 - val_loss: 0.6648 - val_accuracy: 0.8580\n",
      "Epoch 17/1000\n",
      "69/99 [===================>..........] - ETA: 0s - loss: 1.1279 - accuracy: 0.5899\n",
      "Epoch 17: saving model to model/keypoint_classifier/keypoint_classifier.hdf5\n",
      "99/99 [==============================] - 0s 2ms/step - loss: 1.1306 - accuracy: 0.5901 - val_loss: 0.6468 - val_accuracy: 0.8504\n",
      "Epoch 18/1000\n",
      "73/99 [=====================>........] - ETA: 0s - loss: 1.1012 - accuracy: 0.5849\n",
      "Epoch 18: saving model to model/keypoint_classifier/keypoint_classifier.hdf5\n",
      "99/99 [==============================] - 0s 2ms/step - loss: 1.1103 - accuracy: 0.5911 - val_loss: 0.6505 - val_accuracy: 0.8595\n",
      "Epoch 19/1000\n",
      "74/99 [=====================>........] - ETA: 0s - loss: 1.0891 - accuracy: 0.5919\n",
      "Epoch 19: saving model to model/keypoint_classifier/keypoint_classifier.hdf5\n",
      "99/99 [==============================] - 0s 2ms/step - loss: 1.0931 - accuracy: 0.5871 - val_loss: 0.6348 - val_accuracy: 0.8183\n",
      "Epoch 20/1000\n",
      "73/99 [=====================>........] - ETA: 0s - loss: 1.1063 - accuracy: 0.5973\n",
      "Epoch 20: saving model to model/keypoint_classifier/keypoint_classifier.hdf5\n",
      "99/99 [==============================] - 0s 2ms/step - loss: 1.0966 - accuracy: 0.5886 - val_loss: 0.6132 - val_accuracy: 0.8397\n",
      "Epoch 21/1000\n",
      "99/99 [==============================] - ETA: 0s - loss: 1.0636 - accuracy: 0.6034\n",
      "Epoch 21: saving model to model/keypoint_classifier/keypoint_classifier.hdf5\n",
      "99/99 [==============================] - 0s 2ms/step - loss: 1.0636 - accuracy: 0.6034 - val_loss: 0.6188 - val_accuracy: 0.8198\n",
      "Epoch 22/1000\n",
      "88/99 [=========================>....] - ETA: 0s - loss: 1.0237 - accuracy: 0.6170\n",
      "Epoch 22: saving model to model/keypoint_classifier/keypoint_classifier.hdf5\n",
      "99/99 [==============================] - 0s 3ms/step - loss: 1.0273 - accuracy: 0.6156 - val_loss: 0.5579 - val_accuracy: 0.8443\n",
      "Epoch 23/1000\n",
      "95/99 [===========================>..] - ETA: 0s - loss: 1.0272 - accuracy: 0.6174\n",
      "Epoch 23: saving model to model/keypoint_classifier/keypoint_classifier.hdf5\n",
      "99/99 [==============================] - 0s 3ms/step - loss: 1.0266 - accuracy: 0.6161 - val_loss: 0.5718 - val_accuracy: 0.8763\n",
      "Epoch 24/1000\n",
      "99/99 [==============================] - ETA: 0s - loss: 1.0411 - accuracy: 0.6115\n",
      "Epoch 24: saving model to model/keypoint_classifier/keypoint_classifier.hdf5\n",
      "99/99 [==============================] - 0s 2ms/step - loss: 1.0411 - accuracy: 0.6115 - val_loss: 0.5741 - val_accuracy: 0.8794\n",
      "Epoch 25/1000\n",
      "85/99 [========================>.....] - ETA: 0s - loss: 0.9984 - accuracy: 0.6247\n",
      "Epoch 25: saving model to model/keypoint_classifier/keypoint_classifier.hdf5\n",
      "99/99 [==============================] - 0s 3ms/step - loss: 0.9893 - accuracy: 0.6253 - val_loss: 0.5606 - val_accuracy: 0.8855\n",
      "Epoch 26/1000\n",
      "91/99 [==========================>...] - ETA: 0s - loss: 0.9550 - accuracy: 0.6335\n",
      "Epoch 26: saving model to model/keypoint_classifier/keypoint_classifier.hdf5\n",
      "99/99 [==============================] - 0s 3ms/step - loss: 0.9670 - accuracy: 0.6288 - val_loss: 0.5601 - val_accuracy: 0.8382\n",
      "Epoch 27/1000\n",
      "92/99 [==========================>...] - ETA: 0s - loss: 0.9639 - accuracy: 0.6413\n",
      "Epoch 27: saving model to model/keypoint_classifier/keypoint_classifier.hdf5\n",
      "99/99 [==============================] - 0s 3ms/step - loss: 0.9552 - accuracy: 0.6436 - val_loss: 0.5489 - val_accuracy: 0.8611\n",
      "Epoch 28/1000\n",
      "94/99 [===========================>..] - ETA: 0s - loss: 0.9605 - accuracy: 0.6372\n",
      "Epoch 28: saving model to model/keypoint_classifier/keypoint_classifier.hdf5\n",
      "99/99 [==============================] - 0s 3ms/step - loss: 0.9537 - accuracy: 0.6400 - val_loss: 0.5310 - val_accuracy: 0.8473\n",
      "Epoch 29/1000\n",
      "76/99 [======================>.......] - ETA: 0s - loss: 0.9100 - accuracy: 0.6724\n",
      "Epoch 29: saving model to model/keypoint_classifier/keypoint_classifier.hdf5\n",
      "99/99 [==============================] - 0s 2ms/step - loss: 0.9169 - accuracy: 0.6685 - val_loss: 0.5205 - val_accuracy: 0.8550\n",
      "Epoch 30/1000\n",
      "72/99 [====================>.........] - ETA: 0s - loss: 0.9271 - accuracy: 0.6618\n",
      "Epoch 30: saving model to model/keypoint_classifier/keypoint_classifier.hdf5\n",
      "99/99 [==============================] - 0s 2ms/step - loss: 0.9210 - accuracy: 0.6604 - val_loss: 0.5034 - val_accuracy: 0.8626\n",
      "Epoch 31/1000\n",
      "69/99 [===================>..........] - ETA: 0s - loss: 0.9085 - accuracy: 0.6797\n",
      "Epoch 31: saving model to model/keypoint_classifier/keypoint_classifier.hdf5\n",
      "99/99 [==============================] - 0s 2ms/step - loss: 0.9142 - accuracy: 0.6696 - val_loss: 0.5255 - val_accuracy: 0.8580\n",
      "Epoch 32/1000\n",
      "72/99 [====================>.........] - ETA: 0s - loss: 0.8992 - accuracy: 0.6535\n",
      "Epoch 32: saving model to model/keypoint_classifier/keypoint_classifier.hdf5\n",
      "99/99 [==============================] - 0s 2ms/step - loss: 0.9001 - accuracy: 0.6614 - val_loss: 0.5108 - val_accuracy: 0.8809\n",
      "Epoch 33/1000\n",
      "78/99 [======================>.......] - ETA: 0s - loss: 0.8698 - accuracy: 0.6795\n",
      "Epoch 33: saving model to model/keypoint_classifier/keypoint_classifier.hdf5\n",
      "99/99 [==============================] - 0s 2ms/step - loss: 0.8813 - accuracy: 0.6746 - val_loss: 0.4818 - val_accuracy: 0.8901\n",
      "Epoch 34/1000\n",
      "64/99 [==================>...........] - ETA: 0s - loss: 0.8386 - accuracy: 0.6930\n",
      "Epoch 34: saving model to model/keypoint_classifier/keypoint_classifier.hdf5\n",
      "99/99 [==============================] - 0s 2ms/step - loss: 0.8431 - accuracy: 0.6874 - val_loss: 0.4676 - val_accuracy: 0.9008\n",
      "Epoch 35/1000\n",
      "63/99 [==================>...........] - ETA: 0s - loss: 0.8564 - accuracy: 0.6746\n",
      "Epoch 35: saving model to model/keypoint_classifier/keypoint_classifier.hdf5\n",
      "99/99 [==============================] - 0s 2ms/step - loss: 0.8741 - accuracy: 0.6696 - val_loss: 0.4806 - val_accuracy: 0.9176\n",
      "Epoch 36/1000\n",
      "78/99 [======================>.......] - ETA: 0s - loss: 0.8715 - accuracy: 0.6718\n",
      "Epoch 36: saving model to model/keypoint_classifier/keypoint_classifier.hdf5\n",
      "99/99 [==============================] - 0s 2ms/step - loss: 0.8679 - accuracy: 0.6731 - val_loss: 0.4865 - val_accuracy: 0.8656\n",
      "Epoch 37/1000\n",
      "75/99 [=====================>........] - ETA: 0s - loss: 0.8504 - accuracy: 0.6887\n",
      "Epoch 37: saving model to model/keypoint_classifier/keypoint_classifier.hdf5\n",
      "99/99 [==============================] - 0s 2ms/step - loss: 0.8472 - accuracy: 0.6914 - val_loss: 0.4540 - val_accuracy: 0.8595\n",
      "Epoch 38/1000\n",
      "71/99 [====================>.........] - ETA: 0s - loss: 0.8180 - accuracy: 0.6915\n",
      "Epoch 38: saving model to model/keypoint_classifier/keypoint_classifier.hdf5\n",
      "99/99 [==============================] - 0s 2ms/step - loss: 0.8353 - accuracy: 0.6889 - val_loss: 0.4829 - val_accuracy: 0.8321\n",
      "Epoch 39/1000\n",
      "78/99 [======================>.......] - ETA: 0s - loss: 0.8118 - accuracy: 0.6904\n",
      "Epoch 39: saving model to model/keypoint_classifier/keypoint_classifier.hdf5\n",
      "99/99 [==============================] - 0s 2ms/step - loss: 0.8204 - accuracy: 0.6864 - val_loss: 0.4495 - val_accuracy: 0.8840\n",
      "Epoch 40/1000\n",
      "98/99 [============================>.] - ETA: 0s - loss: 0.7942 - accuracy: 0.7051\n",
      "Epoch 40: saving model to model/keypoint_classifier/keypoint_classifier.hdf5\n",
      "99/99 [==============================] - 0s 3ms/step - loss: 0.7947 - accuracy: 0.7052 - val_loss: 0.4452 - val_accuracy: 0.8702\n",
      "Epoch 41/1000\n",
      "76/99 [======================>.......] - ETA: 0s - loss: 0.8081 - accuracy: 0.6947\n",
      "Epoch 41: saving model to model/keypoint_classifier/keypoint_classifier.hdf5\n",
      "99/99 [==============================] - 0s 2ms/step - loss: 0.8006 - accuracy: 0.7011 - val_loss: 0.4273 - val_accuracy: 0.8702\n",
      "Epoch 42/1000\n",
      "72/99 [====================>.........] - ETA: 0s - loss: 0.7717 - accuracy: 0.7201\n",
      "Epoch 42: saving model to model/keypoint_classifier/keypoint_classifier.hdf5\n",
      "99/99 [==============================] - 0s 2ms/step - loss: 0.7850 - accuracy: 0.7103 - val_loss: 0.4584 - val_accuracy: 0.8840\n",
      "Epoch 43/1000\n",
      "69/99 [===================>..........] - ETA: 0s - loss: 0.8287 - accuracy: 0.6862\n",
      "Epoch 43: saving model to model/keypoint_classifier/keypoint_classifier.hdf5\n",
      "99/99 [==============================] - 0s 2ms/step - loss: 0.8095 - accuracy: 0.6904 - val_loss: 0.4541 - val_accuracy: 0.8763\n",
      "Epoch 44/1000\n",
      "63/99 [==================>...........] - ETA: 0s - loss: 0.8021 - accuracy: 0.6873\n",
      "Epoch 44: saving model to model/keypoint_classifier/keypoint_classifier.hdf5\n",
      "99/99 [==============================] - 0s 2ms/step - loss: 0.8215 - accuracy: 0.6843 - val_loss: 0.4275 - val_accuracy: 0.9069\n",
      "Epoch 45/1000\n",
      "71/99 [====================>.........] - ETA: 0s - loss: 0.7811 - accuracy: 0.7106\n",
      "Epoch 45: saving model to model/keypoint_classifier/keypoint_classifier.hdf5\n",
      "99/99 [==============================] - 0s 2ms/step - loss: 0.7850 - accuracy: 0.7067 - val_loss: 0.4287 - val_accuracy: 0.8962\n",
      "Epoch 46/1000\n",
      "61/99 [=================>............] - ETA: 0s - loss: 0.8005 - accuracy: 0.7049\n",
      "Epoch 46: saving model to model/keypoint_classifier/keypoint_classifier.hdf5\n",
      "99/99 [==============================] - 0s 2ms/step - loss: 0.7625 - accuracy: 0.7123 - val_loss: 0.4062 - val_accuracy: 0.9023\n",
      "Epoch 47/1000\n",
      "98/99 [============================>.] - ETA: 0s - loss: 0.7547 - accuracy: 0.7194\n",
      "Epoch 47: saving model to model/keypoint_classifier/keypoint_classifier.hdf5\n",
      "99/99 [==============================] - 0s 2ms/step - loss: 0.7552 - accuracy: 0.7189 - val_loss: 0.4153 - val_accuracy: 0.9008\n",
      "Epoch 48/1000\n",
      "67/99 [===================>..........] - ETA: 0s - loss: 0.7051 - accuracy: 0.7291\n",
      "Epoch 48: saving model to model/keypoint_classifier/keypoint_classifier.hdf5\n",
      "99/99 [==============================] - 0s 2ms/step - loss: 0.7097 - accuracy: 0.7357 - val_loss: 0.4095 - val_accuracy: 0.8992\n",
      "Epoch 49/1000\n",
      "98/99 [============================>.] - ETA: 0s - loss: 0.7295 - accuracy: 0.7224\n",
      "Epoch 49: saving model to model/keypoint_classifier/keypoint_classifier.hdf5\n",
      "99/99 [==============================] - 0s 2ms/step - loss: 0.7305 - accuracy: 0.7220 - val_loss: 0.4075 - val_accuracy: 0.8947\n",
      "Epoch 50/1000\n",
      "77/99 [======================>.......] - ETA: 0s - loss: 0.7383 - accuracy: 0.7188\n",
      "Epoch 50: saving model to model/keypoint_classifier/keypoint_classifier.hdf5\n",
      "99/99 [==============================] - 0s 2ms/step - loss: 0.7444 - accuracy: 0.7220 - val_loss: 0.4133 - val_accuracy: 0.8763\n",
      "Epoch 51/1000\n",
      "74/99 [=====================>........] - ETA: 0s - loss: 0.7113 - accuracy: 0.7324\n",
      "Epoch 51: saving model to model/keypoint_classifier/keypoint_classifier.hdf5\n",
      "99/99 [==============================] - 0s 2ms/step - loss: 0.7066 - accuracy: 0.7286 - val_loss: 0.3844 - val_accuracy: 0.9130\n",
      "Epoch 52/1000\n",
      "61/99 [=================>............] - ETA: 0s - loss: 0.7132 - accuracy: 0.7369\n",
      "Epoch 52: saving model to model/keypoint_classifier/keypoint_classifier.hdf5\n",
      "99/99 [==============================] - 0s 2ms/step - loss: 0.6924 - accuracy: 0.7398 - val_loss: 0.4038 - val_accuracy: 0.8779\n",
      "Epoch 53/1000\n",
      "73/99 [=====================>........] - ETA: 0s - loss: 0.7034 - accuracy: 0.7281\n",
      "Epoch 53: saving model to model/keypoint_classifier/keypoint_classifier.hdf5\n",
      "99/99 [==============================] - 0s 2ms/step - loss: 0.7092 - accuracy: 0.7251 - val_loss: 0.3684 - val_accuracy: 0.9160\n",
      "Epoch 54/1000\n",
      "63/99 [==================>...........] - ETA: 0s - loss: 0.6859 - accuracy: 0.7349\n",
      "Epoch 54: saving model to model/keypoint_classifier/keypoint_classifier.hdf5\n",
      "99/99 [==============================] - 0s 2ms/step - loss: 0.6916 - accuracy: 0.7307 - val_loss: 0.3794 - val_accuracy: 0.8901\n",
      "Epoch 55/1000\n",
      "63/99 [==================>...........] - ETA: 0s - loss: 0.7258 - accuracy: 0.7159\n",
      "Epoch 55: saving model to model/keypoint_classifier/keypoint_classifier.hdf5\n",
      "99/99 [==============================] - 0s 2ms/step - loss: 0.7280 - accuracy: 0.7174 - val_loss: 0.3810 - val_accuracy: 0.9084\n",
      "Epoch 56/1000\n",
      "97/99 [============================>.] - ETA: 0s - loss: 0.6830 - accuracy: 0.7495\n",
      "Epoch 56: saving model to model/keypoint_classifier/keypoint_classifier.hdf5\n",
      "99/99 [==============================] - 0s 2ms/step - loss: 0.6831 - accuracy: 0.7480 - val_loss: 0.3698 - val_accuracy: 0.9069\n",
      "Epoch 57/1000\n",
      "98/99 [============================>.] - ETA: 0s - loss: 0.6806 - accuracy: 0.7454\n",
      "Epoch 57: saving model to model/keypoint_classifier/keypoint_classifier.hdf5\n",
      "99/99 [==============================] - 0s 2ms/step - loss: 0.6806 - accuracy: 0.7454 - val_loss: 0.4103 - val_accuracy: 0.8824\n",
      "Epoch 58/1000\n",
      "67/99 [===================>..........] - ETA: 0s - loss: 0.6947 - accuracy: 0.7403\n",
      "Epoch 58: saving model to model/keypoint_classifier/keypoint_classifier.hdf5\n",
      "99/99 [==============================] - 0s 2ms/step - loss: 0.6886 - accuracy: 0.7469 - val_loss: 0.3894 - val_accuracy: 0.8809\n",
      "Epoch 59/1000\n",
      "75/99 [=====================>........] - ETA: 0s - loss: 0.6912 - accuracy: 0.7307\n",
      "Epoch 59: saving model to model/keypoint_classifier/keypoint_classifier.hdf5\n",
      "99/99 [==============================] - 0s 2ms/step - loss: 0.6875 - accuracy: 0.7352 - val_loss: 0.3703 - val_accuracy: 0.8947\n",
      "Epoch 60/1000\n",
      "99/99 [==============================] - ETA: 0s - loss: 0.6675 - accuracy: 0.7357\n",
      "Epoch 60: saving model to model/keypoint_classifier/keypoint_classifier.hdf5\n",
      "99/99 [==============================] - 0s 3ms/step - loss: 0.6675 - accuracy: 0.7357 - val_loss: 0.3848 - val_accuracy: 0.8962\n",
      "Epoch 61/1000\n",
      "71/99 [====================>.........] - ETA: 0s - loss: 0.6555 - accuracy: 0.7521\n",
      "Epoch 61: saving model to model/keypoint_classifier/keypoint_classifier.hdf5\n",
      "99/99 [==============================] - 0s 2ms/step - loss: 0.6728 - accuracy: 0.7434 - val_loss: 0.3705 - val_accuracy: 0.8870\n",
      "Epoch 62/1000\n",
      "74/99 [=====================>........] - ETA: 0s - loss: 0.6156 - accuracy: 0.7608\n",
      "Epoch 62: saving model to model/keypoint_classifier/keypoint_classifier.hdf5\n",
      "99/99 [==============================] - 0s 2ms/step - loss: 0.6444 - accuracy: 0.7490 - val_loss: 0.3651 - val_accuracy: 0.8916\n",
      "Epoch 63/1000\n",
      "64/99 [==================>...........] - ETA: 0s - loss: 0.6103 - accuracy: 0.7727\n",
      "Epoch 63: saving model to model/keypoint_classifier/keypoint_classifier.hdf5\n",
      "99/99 [==============================] - 0s 2ms/step - loss: 0.6118 - accuracy: 0.7709 - val_loss: 0.3436 - val_accuracy: 0.9023\n",
      "Epoch 64/1000\n",
      "63/99 [==================>...........] - ETA: 0s - loss: 0.6648 - accuracy: 0.7357\n",
      "Epoch 64: saving model to model/keypoint_classifier/keypoint_classifier.hdf5\n",
      "99/99 [==============================] - 0s 2ms/step - loss: 0.6636 - accuracy: 0.7424 - val_loss: 0.3668 - val_accuracy: 0.9053\n",
      "Epoch 65/1000\n",
      "86/99 [=========================>....] - ETA: 0s - loss: 0.6290 - accuracy: 0.7610\n",
      "Epoch 65: saving model to model/keypoint_classifier/keypoint_classifier.hdf5\n",
      "99/99 [==============================] - 0s 2ms/step - loss: 0.6278 - accuracy: 0.7627 - val_loss: 0.3354 - val_accuracy: 0.8885\n",
      "Epoch 66/1000\n",
      "68/99 [===================>..........] - ETA: 0s - loss: 0.6144 - accuracy: 0.7684\n",
      "Epoch 66: saving model to model/keypoint_classifier/keypoint_classifier.hdf5\n",
      "99/99 [==============================] - 0s 2ms/step - loss: 0.6247 - accuracy: 0.7571 - val_loss: 0.3478 - val_accuracy: 0.9221\n",
      "Epoch 67/1000\n",
      "99/99 [==============================] - ETA: 0s - loss: 0.6567 - accuracy: 0.7576\n",
      "Epoch 67: saving model to model/keypoint_classifier/keypoint_classifier.hdf5\n",
      "99/99 [==============================] - 0s 2ms/step - loss: 0.6567 - accuracy: 0.7576 - val_loss: 0.3432 - val_accuracy: 0.9206\n",
      "Epoch 68/1000\n",
      "71/99 [====================>.........] - ETA: 0s - loss: 0.6575 - accuracy: 0.7451\n",
      "Epoch 68: saving model to model/keypoint_classifier/keypoint_classifier.hdf5\n",
      "99/99 [==============================] - 0s 2ms/step - loss: 0.6349 - accuracy: 0.7515 - val_loss: 0.3452 - val_accuracy: 0.9008\n",
      "Epoch 69/1000\n",
      "97/99 [============================>.] - ETA: 0s - loss: 0.6006 - accuracy: 0.7629\n",
      "Epoch 69: saving model to model/keypoint_classifier/keypoint_classifier.hdf5\n",
      "99/99 [==============================] - 0s 2ms/step - loss: 0.6054 - accuracy: 0.7632 - val_loss: 0.3530 - val_accuracy: 0.8992\n",
      "Epoch 70/1000\n",
      "78/99 [======================>.......] - ETA: 0s - loss: 0.5698 - accuracy: 0.7801\n",
      "Epoch 70: saving model to model/keypoint_classifier/keypoint_classifier.hdf5\n",
      "99/99 [==============================] - 0s 2ms/step - loss: 0.5705 - accuracy: 0.7785 - val_loss: 0.3083 - val_accuracy: 0.9298\n",
      "Epoch 71/1000\n",
      "67/99 [===================>..........] - ETA: 0s - loss: 0.6440 - accuracy: 0.7567\n",
      "Epoch 71: saving model to model/keypoint_classifier/keypoint_classifier.hdf5\n",
      "99/99 [==============================] - 0s 2ms/step - loss: 0.6151 - accuracy: 0.7658 - val_loss: 0.3382 - val_accuracy: 0.9145\n",
      "Epoch 72/1000\n",
      "95/99 [===========================>..] - ETA: 0s - loss: 0.6197 - accuracy: 0.7611\n",
      "Epoch 72: saving model to model/keypoint_classifier/keypoint_classifier.hdf5\n",
      "99/99 [==============================] - 0s 2ms/step - loss: 0.6184 - accuracy: 0.7607 - val_loss: 0.3481 - val_accuracy: 0.9206\n",
      "Epoch 73/1000\n",
      "96/99 [============================>.] - ETA: 0s - loss: 0.5799 - accuracy: 0.7943\n",
      "Epoch 73: saving model to model/keypoint_classifier/keypoint_classifier.hdf5\n",
      "99/99 [==============================] - 0s 2ms/step - loss: 0.5794 - accuracy: 0.7953 - val_loss: 0.3319 - val_accuracy: 0.9038\n",
      "Epoch 74/1000\n",
      "62/99 [=================>............] - ETA: 0s - loss: 0.5978 - accuracy: 0.7629\n",
      "Epoch 74: saving model to model/keypoint_classifier/keypoint_classifier.hdf5\n",
      "99/99 [==============================] - 0s 2ms/step - loss: 0.5943 - accuracy: 0.7729 - val_loss: 0.3085 - val_accuracy: 0.9267\n",
      "Epoch 75/1000\n",
      "68/99 [===================>..........] - ETA: 0s - loss: 0.5770 - accuracy: 0.7875\n",
      "Epoch 75: saving model to model/keypoint_classifier/keypoint_classifier.hdf5\n",
      "99/99 [==============================] - 0s 2ms/step - loss: 0.5855 - accuracy: 0.7775 - val_loss: 0.3218 - val_accuracy: 0.9160\n",
      "Epoch 76/1000\n",
      "66/99 [===================>..........] - ETA: 0s - loss: 0.5849 - accuracy: 0.7856\n",
      "Epoch 76: saving model to model/keypoint_classifier/keypoint_classifier.hdf5\n",
      "99/99 [==============================] - 0s 2ms/step - loss: 0.5707 - accuracy: 0.7851 - val_loss: 0.3270 - val_accuracy: 0.9237\n",
      "Epoch 77/1000\n",
      "64/99 [==================>...........] - ETA: 0s - loss: 0.5623 - accuracy: 0.7789\n",
      "Epoch 77: saving model to model/keypoint_classifier/keypoint_classifier.hdf5\n",
      "99/99 [==============================] - 0s 2ms/step - loss: 0.5696 - accuracy: 0.7755 - val_loss: 0.3124 - val_accuracy: 0.9237\n",
      "Epoch 78/1000\n",
      "62/99 [=================>............] - ETA: 0s - loss: 0.5627 - accuracy: 0.7790\n",
      "Epoch 78: saving model to model/keypoint_classifier/keypoint_classifier.hdf5\n",
      "99/99 [==============================] - 0s 2ms/step - loss: 0.5731 - accuracy: 0.7785 - val_loss: 0.3169 - val_accuracy: 0.9023\n",
      "Epoch 79/1000\n",
      "69/99 [===================>..........] - ETA: 0s - loss: 0.5574 - accuracy: 0.7775\n",
      "Epoch 79: saving model to model/keypoint_classifier/keypoint_classifier.hdf5\n",
      "99/99 [==============================] - 0s 2ms/step - loss: 0.5571 - accuracy: 0.7785 - val_loss: 0.3426 - val_accuracy: 0.8931\n",
      "Epoch 80/1000\n",
      "64/99 [==================>...........] - ETA: 0s - loss: 0.5799 - accuracy: 0.7812\n",
      "Epoch 80: saving model to model/keypoint_classifier/keypoint_classifier.hdf5\n",
      "99/99 [==============================] - 0s 2ms/step - loss: 0.5734 - accuracy: 0.7831 - val_loss: 0.3236 - val_accuracy: 0.9145\n",
      "Epoch 81/1000\n",
      "65/99 [==================>...........] - ETA: 0s - loss: 0.5712 - accuracy: 0.7877\n",
      "Epoch 81: saving model to model/keypoint_classifier/keypoint_classifier.hdf5\n",
      "99/99 [==============================] - 0s 2ms/step - loss: 0.5865 - accuracy: 0.7795 - val_loss: 0.2931 - val_accuracy: 0.9252\n",
      "Epoch 82/1000\n",
      "68/99 [===================>..........] - ETA: 0s - loss: 0.5384 - accuracy: 0.7853\n",
      "Epoch 82: saving model to model/keypoint_classifier/keypoint_classifier.hdf5\n",
      "99/99 [==============================] - 0s 2ms/step - loss: 0.5419 - accuracy: 0.7882 - val_loss: 0.2776 - val_accuracy: 0.9389\n",
      "Epoch 83/1000\n",
      "95/99 [===========================>..] - ETA: 0s - loss: 0.5398 - accuracy: 0.7911\n",
      "Epoch 83: saving model to model/keypoint_classifier/keypoint_classifier.hdf5\n",
      "99/99 [==============================] - 0s 2ms/step - loss: 0.5406 - accuracy: 0.7902 - val_loss: 0.3429 - val_accuracy: 0.8794\n",
      "Epoch 84/1000\n",
      "68/99 [===================>..........] - ETA: 0s - loss: 0.5500 - accuracy: 0.7882\n",
      "Epoch 84: saving model to model/keypoint_classifier/keypoint_classifier.hdf5\n",
      "99/99 [==============================] - 0s 2ms/step - loss: 0.5340 - accuracy: 0.7892 - val_loss: 0.3146 - val_accuracy: 0.9053\n",
      "Epoch 85/1000\n",
      "62/99 [=================>............] - ETA: 0s - loss: 0.5262 - accuracy: 0.8048\n",
      "Epoch 85: saving model to model/keypoint_classifier/keypoint_classifier.hdf5\n",
      "99/99 [==============================] - 0s 2ms/step - loss: 0.5159 - accuracy: 0.8075 - val_loss: 0.2965 - val_accuracy: 0.9069\n",
      "Epoch 86/1000\n",
      "71/99 [====================>.........] - ETA: 0s - loss: 0.5387 - accuracy: 0.7993\n",
      "Epoch 86: saving model to model/keypoint_classifier/keypoint_classifier.hdf5\n",
      "99/99 [==============================] - 0s 2ms/step - loss: 0.5267 - accuracy: 0.8024 - val_loss: 0.3139 - val_accuracy: 0.9130\n",
      "Epoch 87/1000\n",
      "69/99 [===================>..........] - ETA: 0s - loss: 0.5348 - accuracy: 0.8043\n",
      "Epoch 87: saving model to model/keypoint_classifier/keypoint_classifier.hdf5\n",
      "99/99 [==============================] - 0s 2ms/step - loss: 0.5356 - accuracy: 0.8009 - val_loss: 0.2726 - val_accuracy: 0.9221\n",
      "Epoch 88/1000\n",
      "90/99 [==========================>...] - ETA: 0s - loss: 0.5285 - accuracy: 0.7983\n",
      "Epoch 88: saving model to model/keypoint_classifier/keypoint_classifier.hdf5\n",
      "99/99 [==============================] - 0s 2ms/step - loss: 0.5257 - accuracy: 0.7979 - val_loss: 0.3196 - val_accuracy: 0.9023\n",
      "Epoch 89/1000\n",
      "98/99 [============================>.] - ETA: 0s - loss: 0.5470 - accuracy: 0.7898\n",
      "Epoch 89: saving model to model/keypoint_classifier/keypoint_classifier.hdf5\n",
      "99/99 [==============================] - 0s 2ms/step - loss: 0.5468 - accuracy: 0.7902 - val_loss: 0.3020 - val_accuracy: 0.9328\n",
      "Epoch 90/1000\n",
      "92/99 [==========================>...] - ETA: 0s - loss: 0.5511 - accuracy: 0.7973\n",
      "Epoch 90: saving model to model/keypoint_classifier/keypoint_classifier.hdf5\n",
      "99/99 [==============================] - 0s 2ms/step - loss: 0.5488 - accuracy: 0.7989 - val_loss: 0.3271 - val_accuracy: 0.9191\n",
      "Epoch 91/1000\n",
      "68/99 [===================>..........] - ETA: 0s - loss: 0.4593 - accuracy: 0.8243\n",
      "Epoch 91: saving model to model/keypoint_classifier/keypoint_classifier.hdf5\n",
      "99/99 [==============================] - 0s 2ms/step - loss: 0.4827 - accuracy: 0.8162 - val_loss: 0.2979 - val_accuracy: 0.9252\n",
      "Epoch 92/1000\n",
      "60/99 [=================>............] - ETA: 0s - loss: 0.5184 - accuracy: 0.7992\n",
      "Epoch 92: saving model to model/keypoint_classifier/keypoint_classifier.hdf5\n",
      "99/99 [==============================] - 0s 2ms/step - loss: 0.5239 - accuracy: 0.8004 - val_loss: 0.3363 - val_accuracy: 0.9053\n",
      "Epoch 93/1000\n",
      "99/99 [==============================] - ETA: 0s - loss: 0.5300 - accuracy: 0.7994\n",
      "Epoch 93: saving model to model/keypoint_classifier/keypoint_classifier.hdf5\n",
      "99/99 [==============================] - 0s 2ms/step - loss: 0.5300 - accuracy: 0.7994 - val_loss: 0.3697 - val_accuracy: 0.8794\n",
      "Epoch 94/1000\n",
      "97/99 [============================>.] - ETA: 0s - loss: 0.5191 - accuracy: 0.7990\n",
      "Epoch 94: saving model to model/keypoint_classifier/keypoint_classifier.hdf5\n",
      "99/99 [==============================] - 0s 2ms/step - loss: 0.5171 - accuracy: 0.7984 - val_loss: 0.3041 - val_accuracy: 0.9084\n",
      "Epoch 95/1000\n",
      "67/99 [===================>..........] - ETA: 0s - loss: 0.5118 - accuracy: 0.8007\n",
      "Epoch 95: saving model to model/keypoint_classifier/keypoint_classifier.hdf5\n",
      "99/99 [==============================] - 0s 2ms/step - loss: 0.5078 - accuracy: 0.8014 - val_loss: 0.2808 - val_accuracy: 0.9237\n",
      "Epoch 96/1000\n",
      "91/99 [==========================>...] - ETA: 0s - loss: 0.4817 - accuracy: 0.8192\n",
      "Epoch 96: saving model to model/keypoint_classifier/keypoint_classifier.hdf5\n",
      "99/99 [==============================] - 0s 2ms/step - loss: 0.4846 - accuracy: 0.8177 - val_loss: 0.2977 - val_accuracy: 0.9450\n",
      "Epoch 97/1000\n",
      "78/99 [======================>.......] - ETA: 0s - loss: 0.4942 - accuracy: 0.8109\n",
      "Epoch 97: saving model to model/keypoint_classifier/keypoint_classifier.hdf5\n",
      "99/99 [==============================] - 0s 3ms/step - loss: 0.4992 - accuracy: 0.8050 - val_loss: 0.2980 - val_accuracy: 0.9130\n",
      "Epoch 98/1000\n",
      "64/99 [==================>...........] - ETA: 0s - loss: 0.4688 - accuracy: 0.8195\n",
      "Epoch 98: saving model to model/keypoint_classifier/keypoint_classifier.hdf5\n",
      "99/99 [==============================] - 0s 2ms/step - loss: 0.4782 - accuracy: 0.8213 - val_loss: 0.2713 - val_accuracy: 0.9344\n",
      "Epoch 99/1000\n",
      "91/99 [==========================>...] - ETA: 0s - loss: 0.4940 - accuracy: 0.8121\n",
      "Epoch 99: saving model to model/keypoint_classifier/keypoint_classifier.hdf5\n",
      "99/99 [==============================] - 0s 2ms/step - loss: 0.4941 - accuracy: 0.8126 - val_loss: 0.2860 - val_accuracy: 0.9237\n",
      "Epoch 100/1000\n",
      "64/99 [==================>...........] - ETA: 0s - loss: 0.4760 - accuracy: 0.8164\n",
      "Epoch 100: saving model to model/keypoint_classifier/keypoint_classifier.hdf5\n",
      "99/99 [==============================] - 0s 2ms/step - loss: 0.4740 - accuracy: 0.8203 - val_loss: 0.2915 - val_accuracy: 0.9237\n",
      "Epoch 101/1000\n",
      "71/99 [====================>.........] - ETA: 0s - loss: 0.5053 - accuracy: 0.8176\n",
      "Epoch 101: saving model to model/keypoint_classifier/keypoint_classifier.hdf5\n",
      "99/99 [==============================] - 0s 2ms/step - loss: 0.5103 - accuracy: 0.8126 - val_loss: 0.2853 - val_accuracy: 0.9176\n",
      "Epoch 102/1000\n",
      "63/99 [==================>...........] - ETA: 0s - loss: 0.4640 - accuracy: 0.8222\n",
      "Epoch 102: saving model to model/keypoint_classifier/keypoint_classifier.hdf5\n",
      "99/99 [==============================] - 0s 2ms/step - loss: 0.4804 - accuracy: 0.8116 - val_loss: 0.2748 - val_accuracy: 0.9206\n",
      "Epoch 103/1000\n",
      "93/99 [===========================>..] - ETA: 0s - loss: 0.4585 - accuracy: 0.8312\n",
      "Epoch 103: saving model to model/keypoint_classifier/keypoint_classifier.hdf5\n",
      "99/99 [==============================] - 0s 2ms/step - loss: 0.4621 - accuracy: 0.8274 - val_loss: 0.2943 - val_accuracy: 0.9145\n",
      "Epoch 104/1000\n",
      "97/99 [============================>.] - ETA: 0s - loss: 0.4586 - accuracy: 0.8247\n",
      "Epoch 104: saving model to model/keypoint_classifier/keypoint_classifier.hdf5\n",
      "99/99 [==============================] - 0s 2ms/step - loss: 0.4577 - accuracy: 0.8254 - val_loss: 0.2876 - val_accuracy: 0.9115\n",
      "Epoch 105/1000\n",
      "94/99 [===========================>..] - ETA: 0s - loss: 0.4678 - accuracy: 0.8186\n",
      "Epoch 105: saving model to model/keypoint_classifier/keypoint_classifier.hdf5\n",
      "99/99 [==============================] - 0s 2ms/step - loss: 0.4707 - accuracy: 0.8172 - val_loss: 0.2912 - val_accuracy: 0.8947\n",
      "Epoch 106/1000\n",
      "73/99 [=====================>........] - ETA: 0s - loss: 0.4729 - accuracy: 0.8192\n",
      "Epoch 106: saving model to model/keypoint_classifier/keypoint_classifier.hdf5\n",
      "99/99 [==============================] - 0s 2ms/step - loss: 0.4749 - accuracy: 0.8131 - val_loss: 0.3050 - val_accuracy: 0.8870\n",
      "Epoch 107/1000\n",
      "91/99 [==========================>...] - ETA: 0s - loss: 0.4408 - accuracy: 0.8253\n",
      "Epoch 107: saving model to model/keypoint_classifier/keypoint_classifier.hdf5\n",
      "99/99 [==============================] - 0s 2ms/step - loss: 0.4386 - accuracy: 0.8294 - val_loss: 0.2585 - val_accuracy: 0.9374\n",
      "Epoch 108/1000\n",
      "70/99 [====================>.........] - ETA: 0s - loss: 0.4360 - accuracy: 0.8350\n",
      "Epoch 108: saving model to model/keypoint_classifier/keypoint_classifier.hdf5\n",
      "99/99 [==============================] - 0s 2ms/step - loss: 0.4520 - accuracy: 0.8269 - val_loss: 0.3147 - val_accuracy: 0.9008\n",
      "Epoch 109/1000\n",
      "69/99 [===================>..........] - ETA: 0s - loss: 0.4579 - accuracy: 0.8290\n",
      "Epoch 109: saving model to model/keypoint_classifier/keypoint_classifier.hdf5\n",
      "99/99 [==============================] - 0s 2ms/step - loss: 0.4467 - accuracy: 0.8355 - val_loss: 0.2434 - val_accuracy: 0.9405\n",
      "Epoch 110/1000\n",
      "95/99 [===========================>..] - ETA: 0s - loss: 0.4502 - accuracy: 0.8332\n",
      "Epoch 110: saving model to model/keypoint_classifier/keypoint_classifier.hdf5\n",
      "99/99 [==============================] - 0s 2ms/step - loss: 0.4507 - accuracy: 0.8330 - val_loss: 0.2473 - val_accuracy: 0.9420\n",
      "Epoch 111/1000\n",
      "71/99 [====================>.........] - ETA: 0s - loss: 0.4578 - accuracy: 0.8289\n",
      "Epoch 111: saving model to model/keypoint_classifier/keypoint_classifier.hdf5\n",
      "99/99 [==============================] - 0s 2ms/step - loss: 0.4504 - accuracy: 0.8315 - val_loss: 0.2816 - val_accuracy: 0.9237\n",
      "Epoch 112/1000\n",
      "89/99 [=========================>....] - ETA: 0s - loss: 0.4660 - accuracy: 0.8337\n",
      "Epoch 112: saving model to model/keypoint_classifier/keypoint_classifier.hdf5\n",
      "99/99 [==============================] - 0s 3ms/step - loss: 0.4595 - accuracy: 0.8335 - val_loss: 0.2955 - val_accuracy: 0.9053\n",
      "Epoch 113/1000\n",
      "90/99 [==========================>...] - ETA: 0s - loss: 0.4777 - accuracy: 0.8156\n",
      "Epoch 113: saving model to model/keypoint_classifier/keypoint_classifier.hdf5\n",
      "99/99 [==============================] - 0s 3ms/step - loss: 0.4785 - accuracy: 0.8172 - val_loss: 0.2911 - val_accuracy: 0.9313\n",
      "Epoch 114/1000\n",
      "84/99 [========================>.....] - ETA: 0s - loss: 0.4607 - accuracy: 0.8315\n",
      "Epoch 114: saving model to model/keypoint_classifier/keypoint_classifier.hdf5\n",
      "99/99 [==============================] - 0s 3ms/step - loss: 0.4660 - accuracy: 0.8264 - val_loss: 0.2638 - val_accuracy: 0.9328\n",
      "Epoch 115/1000\n",
      "87/99 [=========================>....] - ETA: 0s - loss: 0.4439 - accuracy: 0.8322\n",
      "Epoch 115: saving model to model/keypoint_classifier/keypoint_classifier.hdf5\n",
      "99/99 [==============================] - 0s 3ms/step - loss: 0.4475 - accuracy: 0.8310 - val_loss: 0.3044 - val_accuracy: 0.9099\n",
      "Epoch 116/1000\n",
      "71/99 [====================>.........] - ETA: 0s - loss: 0.4347 - accuracy: 0.8366\n",
      "Epoch 116: saving model to model/keypoint_classifier/keypoint_classifier.hdf5\n",
      "99/99 [==============================] - 0s 3ms/step - loss: 0.4351 - accuracy: 0.8294 - val_loss: 0.2760 - val_accuracy: 0.9176\n",
      "Epoch 117/1000\n",
      "69/99 [===================>..........] - ETA: 0s - loss: 0.4575 - accuracy: 0.8232\n",
      "Epoch 117: saving model to model/keypoint_classifier/keypoint_classifier.hdf5\n",
      "99/99 [==============================] - 0s 3ms/step - loss: 0.4545 - accuracy: 0.8269 - val_loss: 0.2681 - val_accuracy: 0.9115\n",
      "Epoch 118/1000\n",
      "99/99 [==============================] - ETA: 0s - loss: 0.4717 - accuracy: 0.8070\n",
      "Epoch 118: saving model to model/keypoint_classifier/keypoint_classifier.hdf5\n",
      "99/99 [==============================] - 0s 3ms/step - loss: 0.4717 - accuracy: 0.8070 - val_loss: 0.2795 - val_accuracy: 0.8992\n",
      "Epoch 119/1000\n",
      "86/99 [=========================>....] - ETA: 0s - loss: 0.4269 - accuracy: 0.8442\n",
      "Epoch 119: saving model to model/keypoint_classifier/keypoint_classifier.hdf5\n",
      "99/99 [==============================] - 0s 2ms/step - loss: 0.4344 - accuracy: 0.8396 - val_loss: 0.2551 - val_accuracy: 0.9313\n",
      "Epoch 120/1000\n",
      "74/99 [=====================>........] - ETA: 0s - loss: 0.4314 - accuracy: 0.8378\n",
      "Epoch 120: saving model to model/keypoint_classifier/keypoint_classifier.hdf5\n",
      "99/99 [==============================] - 0s 2ms/step - loss: 0.4348 - accuracy: 0.8386 - val_loss: 0.3084 - val_accuracy: 0.9069\n",
      "Epoch 121/1000\n",
      "72/99 [====================>.........] - ETA: 0s - loss: 0.4286 - accuracy: 0.8403\n",
      "Epoch 121: saving model to model/keypoint_classifier/keypoint_classifier.hdf5\n",
      "99/99 [==============================] - 0s 2ms/step - loss: 0.4380 - accuracy: 0.8366 - val_loss: 0.2736 - val_accuracy: 0.9282\n",
      "Epoch 122/1000\n",
      "70/99 [====================>.........] - ETA: 0s - loss: 0.4533 - accuracy: 0.8321\n",
      "Epoch 122: saving model to model/keypoint_classifier/keypoint_classifier.hdf5\n",
      "99/99 [==============================] - 0s 2ms/step - loss: 0.4325 - accuracy: 0.8396 - val_loss: 0.3002 - val_accuracy: 0.9038\n",
      "Epoch 123/1000\n",
      "97/99 [============================>.] - ETA: 0s - loss: 0.4062 - accuracy: 0.8469\n",
      "Epoch 123: saving model to model/keypoint_classifier/keypoint_classifier.hdf5\n",
      "99/99 [==============================] - 0s 2ms/step - loss: 0.4058 - accuracy: 0.8462 - val_loss: 0.2846 - val_accuracy: 0.9160\n",
      "Epoch 124/1000\n",
      "93/99 [===========================>..] - ETA: 0s - loss: 0.4742 - accuracy: 0.8269\n",
      "Epoch 124: saving model to model/keypoint_classifier/keypoint_classifier.hdf5\n",
      "99/99 [==============================] - 0s 2ms/step - loss: 0.4754 - accuracy: 0.8243 - val_loss: 0.2701 - val_accuracy: 0.9252\n",
      "Epoch 125/1000\n",
      "66/99 [===================>..........] - ETA: 0s - loss: 0.4208 - accuracy: 0.8379\n",
      "Epoch 125: saving model to model/keypoint_classifier/keypoint_classifier.hdf5\n",
      "99/99 [==============================] - 0s 2ms/step - loss: 0.4212 - accuracy: 0.8432 - val_loss: 0.3012 - val_accuracy: 0.9023\n",
      "Epoch 126/1000\n",
      "93/99 [===========================>..] - ETA: 0s - loss: 0.4125 - accuracy: 0.8489\n",
      "Epoch 126: saving model to model/keypoint_classifier/keypoint_classifier.hdf5\n",
      "99/99 [==============================] - 0s 2ms/step - loss: 0.4173 - accuracy: 0.8452 - val_loss: 0.2856 - val_accuracy: 0.9145\n",
      "Epoch 127/1000\n",
      "97/99 [============================>.] - ETA: 0s - loss: 0.4055 - accuracy: 0.8500\n",
      "Epoch 127: saving model to model/keypoint_classifier/keypoint_classifier.hdf5\n",
      "99/99 [==============================] - 0s 2ms/step - loss: 0.4054 - accuracy: 0.8498 - val_loss: 0.2568 - val_accuracy: 0.9313\n",
      "Epoch 128/1000\n",
      "95/99 [===========================>..] - ETA: 0s - loss: 0.4034 - accuracy: 0.8411\n",
      "Epoch 128: saving model to model/keypoint_classifier/keypoint_classifier.hdf5\n",
      "99/99 [==============================] - 0s 2ms/step - loss: 0.4052 - accuracy: 0.8396 - val_loss: 0.2564 - val_accuracy: 0.9176\n",
      "Epoch 129/1000\n",
      "97/99 [============================>.] - ETA: 0s - loss: 0.4449 - accuracy: 0.8263\n",
      "Epoch 129: saving model to model/keypoint_classifier/keypoint_classifier.hdf5\n",
      "99/99 [==============================] - 0s 2ms/step - loss: 0.4467 - accuracy: 0.8254 - val_loss: 0.2764 - val_accuracy: 0.9160\n",
      "Epoch 129: early stopping\n"
     ]
    },
    {
     "data": {
      "text/plain": [
       "<keras.callbacks.History at 0x7fc70e3fdd30>"
      ]
     },
     "execution_count": 11,
     "metadata": {},
     "output_type": "execute_result"
    }
   ],
   "source": [
    "model.fit(\n",
    "    X_train,\n",
    "    y_train,\n",
    "    epochs=1000,\n",
    "    batch_size=20,\n",
    "    validation_data=(X_test, y_test),\n",
    "    callbacks=[cp_callback, es_callback]\n",
    ")"
   ]
  },
  {
   "cell_type": "code",
   "execution_count": 12,
   "metadata": {
    "colab": {
     "base_uri": "https://localhost:8080/"
    },
    "id": "pxvb2Y299hE3",
    "outputId": "59eb3185-2e37-4b9e-bc9d-ab1b8ac29b7f"
   },
   "outputs": [
    {
     "name": "stdout",
     "output_type": "stream",
     "text": [
      "33/33 [==============================] - 0s 1ms/step - loss: 0.2764 - accuracy: 0.9160\n"
     ]
    }
   ],
   "source": [
    "# Model evaluation\n",
    "val_loss, val_acc = model.evaluate(X_test, y_test, batch_size=20)"
   ]
  },
  {
   "cell_type": "code",
   "execution_count": 13,
   "metadata": {
    "id": "RBkmDeUW9hE4"
   },
   "outputs": [],
   "source": [
    "# Loading the saved model\n",
    "model = tf.keras.models.load_model(model_save_path)"
   ]
  },
  {
   "cell_type": "code",
   "execution_count": 14,
   "metadata": {
    "colab": {
     "base_uri": "https://localhost:8080/"
    },
    "id": "tFz9Tb0I9hE4",
    "outputId": "1c3b3528-54ae-4ee2-ab04-77429211cbef"
   },
   "outputs": [
    {
     "name": "stdout",
     "output_type": "stream",
     "text": [
      "[3.0133597e-04 1.5269381e-07 5.2278882e-08 5.8170695e-05 2.3302275e-06\n",
      " 5.5094872e-05 2.2520881e-06 1.8314857e-05 1.7271738e-08 9.6662792e-05\n",
      " 2.1520468e-07 4.9384062e-06 6.6100351e-05 5.7018021e-08 4.1306356e-07\n",
      " 4.2379327e-07 1.7098628e-09 2.6779679e-08 1.8618742e-04 1.1232081e-07\n",
      " 9.9613612e-07 3.9279148e-02 9.5485365e-01 4.9768281e-03 5.2088330e-06\n",
      " 7.3945078e-10 1.9099349e-05 1.2303238e-05 5.9963626e-05]\n",
      "22\n"
     ]
    }
   ],
   "source": [
    "# Inference test\n",
    "predict_result = model.predict(np.array([X_test[0]]))\n",
    "print(np.squeeze(predict_result))\n",
    "print(np.argmax(np.squeeze(predict_result)))"
   ]
  },
  {
   "cell_type": "markdown",
   "metadata": {
    "id": "S3U4yNWx9hE4"
   },
   "source": [
    "# 5. Check Trained Model"
   ]
  },
  {
   "cell_type": "code",
   "execution_count": 15,
   "metadata": {
    "colab": {
     "base_uri": "https://localhost:8080/",
     "height": 582
    },
    "id": "AP1V6SCk9hE5",
    "outputId": "08e41a80-7a4a-4619-8125-ecc371368d19"
   },
   "outputs": [
    {
     "data": {
      "image/png": "[encoded data removed]",
      "text/plain": [
       "<Figure size 504x432 with 2 Axes>"
      ]
     },
     "metadata": {
      "needs_background": "light"
     },
     "output_type": "display_data"
    },
    {
     "name": "stdout",
     "output_type": "stream",
     "text": [
      "Classification Report\n",
      "              precision    recall  f1-score   support\n",
      "\n",
      "           0       1.00      1.00      1.00        24\n",
      "           1       0.91      1.00      0.96        32\n",
      "           2       0.93      0.90      0.91        29\n",
      "           3       1.00      1.00      1.00        21\n",
      "           4       1.00      0.56      0.72        41\n",
      "           5       1.00      1.00      1.00        15\n",
      "           6       1.00      1.00      1.00        22\n",
      "           7       1.00      1.00      1.00        27\n",
      "           8       1.00      1.00      1.00        18\n",
      "           9       1.00      1.00      1.00        24\n",
      "          10       1.00      1.00      1.00        27\n",
      "          11       1.00      1.00      1.00         6\n",
      "          12       1.00      0.97      0.98        30\n",
      "          13       0.85      0.57      0.68        30\n",
      "          14       0.54      0.83      0.65        18\n",
      "          15       0.40      1.00      0.57        12\n",
      "          16       1.00      1.00      1.00        16\n",
      "          17       1.00      1.00      1.00        30\n",
      "          18       0.95      0.90      0.92        41\n",
      "          19       1.00      0.90      0.95        21\n",
      "          20       0.89      0.96      0.93        26\n",
      "          21       0.90      0.77      0.83        35\n",
      "          22       0.74      1.00      0.85        20\n",
      "          23       1.00      1.00      1.00        17\n",
      "          24       0.95      0.90      0.92        20\n",
      "          25       1.00      1.00      1.00        13\n",
      "          26       1.00      1.00      1.00        10\n",
      "          27       1.00      1.00      1.00        13\n",
      "          28       1.00      1.00      1.00        17\n",
      "\n",
      "    accuracy                           0.92       655\n",
      "   macro avg       0.93      0.94      0.93       655\n",
      "weighted avg       0.94      0.92      0.92       655\n",
      "\n"
     ]
    }
   ],
   "source": [
    "import pandas as pd\n",
    "import seaborn as sns\n",
    "import matplotlib.pyplot as plt\n",
    "from sklearn.metrics import confusion_matrix, classification_report\n",
    "\n",
    "def print_confusion_matrix(y_true, y_pred, report=True):\n",
    "    labels = sorted(list(set(y_true)))\n",
    "    cmx_data = confusion_matrix(y_true, y_pred, labels=labels)\n",
    "    \n",
    "    df_cmx = pd.DataFrame(cmx_data, index=labels, columns=labels)\n",
    " \n",
    "    fig, ax = plt.subplots(figsize=(7, 6))\n",
    "    sns.heatmap(df_cmx, annot=True, fmt='g' ,square=False)\n",
    "    ax.set_ylim(len(set(y_true)), 0)\n",
    "    plt.show()\n",
    "    \n",
    "    if report:\n",
    "        print('Classification Report')\n",
    "        print(classification_report(y_test, y_pred))\n",
    "\n",
    "Y_pred = model.predict(X_test)\n",
    "y_pred = np.argmax(Y_pred, axis=1)\n",
    "\n",
    "print_confusion_matrix(y_test, y_pred)"
   ]
  },
  {
   "cell_type": "markdown",
   "metadata": {
    "id": "FNP6aqzc9hE5"
   },
   "source": [
    "# Convert to model for Tensorflow-Lite"
   ]
  },
  {
   "cell_type": "code",
   "execution_count": 16,
   "metadata": {
    "id": "ODjnYyld9hE6"
   },
   "outputs": [],
   "source": [
    "# Save as a model dedicated to inference\n",
    "model.save(model_save_path, include_optimizer=False)"
   ]
  },
  {
   "cell_type": "code",
   "execution_count": 17,
   "metadata": {
    "colab": {
     "base_uri": "https://localhost:8080/"
    },
    "id": "zRfuK8Y59hE6",
    "outputId": "a4ca585c-b5d5-4244-8291-8674063209bb"
   },
   "outputs": [
    {
     "name": "stdout",
     "output_type": "stream",
     "text": [
      "INFO:tensorflow:Assets written to: /var/folders/fr/jbv693556wl33l33vy0f6c080000gn/T/tmp98pgod57/assets\n"
     ]
    },
    {
     "data": {
      "text/plain": [
       "18280"
      ]
     },
     "execution_count": 17,
     "metadata": {},
     "output_type": "execute_result"
    }
   ],
   "source": [
    "# Transform model (quantization)\n",
    "\n",
    "converter = tf.lite.TFLiteConverter.from_keras_model(model)\n",
    "converter.optimizations = [tf.lite.Optimize.DEFAULT]\n",
    "tflite_quantized_model = converter.convert()\n",
    "\n",
    "open(tflite_save_path, 'wb').write(tflite_quantized_model)"
   ]
  },
  {
   "cell_type": "markdown",
   "metadata": {
    "id": "CHBPBXdx9hE6"
   },
   "source": [
    "# Inference test"
   ]
  },
  {
   "cell_type": "code",
   "execution_count": 18,
   "metadata": {
    "id": "mGAzLocO9hE7"
   },
   "outputs": [],
   "source": [
    "interpreter = tf.lite.Interpreter(model_path=tflite_save_path)\n",
    "interpreter.allocate_tensors()"
   ]
  },
  {
   "cell_type": "code",
   "execution_count": 19,
   "metadata": {
    "id": "oQuDK8YS9hE7"
   },
   "outputs": [],
   "source": [
    "# Get I / O tensor\n",
    "input_details = interpreter.get_input_details()\n",
    "output_details = interpreter.get_output_details()"
   ]
  },
  {
   "cell_type": "code",
   "execution_count": 20,
   "metadata": {
    "id": "2_ixAf_l9hE7"
   },
   "outputs": [],
   "source": [
    "interpreter.set_tensor(input_details[0]['index'], np.array([X_test[0]]))"
   ]
  },
  {
   "cell_type": "code",
   "execution_count": 21,
   "metadata": {
    "colab": {
     "base_uri": "https://localhost:8080/"
    },
    "id": "s4FoAnuc9hE7",
    "outputId": "91f18257-8d8b-4ef3-c558-e9b5f94fabbf",
    "scrolled": true
   },
   "outputs": [
    {
     "name": "stdout",
     "output_type": "stream",
     "text": [
      "CPU times: user 95 µs, sys: 50 µs, total: 145 µs\n",
      "Wall time: 258 µs\n"
     ]
    }
   ],
   "source": [
    "%%time\n",
    "# Inference implementation\n",
    "interpreter.invoke()\n",
    "tflite_results = interpreter.get_tensor(output_details[0]['index'])"
   ]
  },
  {
   "cell_type": "code",
   "execution_count": 22,
   "metadata": {
    "colab": {
     "base_uri": "https://localhost:8080/"
    },
    "id": "vONjp19J9hE8",
    "outputId": "77205e24-fd00-42c4-f7b6-e06e527c2cba"
   },
   "outputs": [
    {
     "name": "stdout",
     "output_type": "stream",
     "text": [
      "[2.5117426e-04 1.1962827e-07 4.5032568e-08 4.8636710e-05 2.1464496e-06\n",
      " 4.7067500e-05 2.0080302e-06 1.6262324e-05 1.4590852e-08 8.8709843e-05\n",
      " 1.7880640e-07 4.2917754e-06 5.7678648e-05 5.2031162e-08 3.6755088e-07\n",
      " 3.7624773e-07 1.5110564e-09 2.3799394e-08 1.5981238e-04 9.6795539e-08\n",
      " 9.0714065e-07 3.1934936e-02 9.6279949e-01 4.5032166e-03 4.6606870e-06\n",
      " 6.6067196e-10 1.8061539e-05 1.0608944e-05 4.9143149e-05]\n",
      "22\n"
     ]
    }
   ],
   "source": [
    "print(np.squeeze(tflite_results))\n",
    "print(np.argmax(np.squeeze(tflite_results)))"
   ]
  },
  {
   "cell_type": "code",
   "execution_count": null,
   "metadata": {},
   "outputs": [],
   "source": []
  }
 ],
 "metadata": {
  "accelerator": "GPU",
  "colab": {
   "collapsed_sections": [],
   "name": "keypoint_classification_EN.ipynb",
   "provenance": [],
   "toc_visible": true
  },
  "kernelspec": {
   "display_name": "Python 3",
   "language": "python",
   "name": "python3"
  },
  "language_info": {
   "codemirror_mode": {
    "name": "ipython",
    "version": 3
   },
   "file_extension": ".py",
   "mimetype": "text/x-python",
   "name": "python",
   "nbconvert_exporter": "python",
   "pygments_lexer": "ipython3",
   "version": "3.8.8"
  }
 },
 "nbformat": 4,
 "nbformat_minor": 4
}
